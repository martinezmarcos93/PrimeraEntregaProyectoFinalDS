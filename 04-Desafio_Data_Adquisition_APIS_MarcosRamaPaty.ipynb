{
  "nbformat": 4,
  "nbformat_minor": 0,
  "metadata": {
    "colab": {
      "provenance": []
    },
    "kernelspec": {
      "name": "python3",
      "display_name": "Python 3"
    },
    "language_info": {
      "name": "python"
    }
  },
  "cells": [
    {
      "cell_type": "markdown",
      "source": [
        "**Top 500 criptomonedas**\n",
        "\n",
        "A continuación realizamos un top 500 de criptomonedas utilizando la API proporcionada por CoinMarketCap. El top 500 está evaluado en base a la capitalización de mercado de cada criptomoneda."
      ],
      "metadata": {
        "id": "3u0nBmuYUXbH"
      }
    },
    {
      "cell_type": "code",
      "execution_count": null,
      "metadata": {
        "colab": {
          "base_uri": "https://localhost:8080/"
        },
        "id": "q9ZGDMzY2py-",
        "outputId": "714d694e-eb8e-48f2-a87f-84594655d722"
      },
      "outputs": [
        {
          "output_type": "stream",
          "name": "stdout",
          "text": [
            "Looking in indexes: https://pypi.org/simple, https://us-python.pkg.dev/colab-wheels/public/simple/\n",
            "Requirement already satisfied: google-api-python-client in /usr/local/lib/python3.9/dist-packages (2.70.0)\n",
            "Requirement already satisfied: uritemplate<5,>=3.0.1 in /usr/local/lib/python3.9/dist-packages (from google-api-python-client) (4.1.1)\n",
            "Requirement already satisfied: google-auth-httplib2>=0.1.0 in /usr/local/lib/python3.9/dist-packages (from google-api-python-client) (0.1.0)\n",
            "Requirement already satisfied: google-api-core!=2.0.*,!=2.1.*,!=2.2.*,!=2.3.0,<3.0.0dev,>=1.31.5 in /usr/local/lib/python3.9/dist-packages (from google-api-python-client) (2.11.0)\n",
            "Requirement already satisfied: httplib2<1dev,>=0.15.0 in /usr/local/lib/python3.9/dist-packages (from google-api-python-client) (0.17.4)\n",
            "Requirement already satisfied: google-auth<3.0.0dev,>=1.19.0 in /usr/local/lib/python3.9/dist-packages (from google-api-python-client) (2.16.2)\n",
            "Requirement already satisfied: googleapis-common-protos<2.0dev,>=1.56.2 in /usr/local/lib/python3.9/dist-packages (from google-api-core!=2.0.*,!=2.1.*,!=2.2.*,!=2.3.0,<3.0.0dev,>=1.31.5->google-api-python-client) (1.58.0)\n",
            "Requirement already satisfied: protobuf!=3.20.0,!=3.20.1,!=4.21.0,!=4.21.1,!=4.21.2,!=4.21.3,!=4.21.4,!=4.21.5,<5.0.0dev,>=3.19.5 in /usr/local/lib/python3.9/dist-packages (from google-api-core!=2.0.*,!=2.1.*,!=2.2.*,!=2.3.0,<3.0.0dev,>=1.31.5->google-api-python-client) (3.19.6)\n",
            "Requirement already satisfied: requests<3.0.0dev,>=2.18.0 in /usr/local/lib/python3.9/dist-packages (from google-api-core!=2.0.*,!=2.1.*,!=2.2.*,!=2.3.0,<3.0.0dev,>=1.31.5->google-api-python-client) (2.25.1)\n",
            "Requirement already satisfied: cachetools<6.0,>=2.0.0 in /usr/local/lib/python3.9/dist-packages (from google-auth<3.0.0dev,>=1.19.0->google-api-python-client) (5.3.0)\n",
            "Requirement already satisfied: pyasn1-modules>=0.2.1 in /usr/local/lib/python3.9/dist-packages (from google-auth<3.0.0dev,>=1.19.0->google-api-python-client) (0.2.8)\n",
            "Requirement already satisfied: six>=1.9.0 in /usr/local/lib/python3.9/dist-packages (from google-auth<3.0.0dev,>=1.19.0->google-api-python-client) (1.15.0)\n",
            "Requirement already satisfied: rsa<5,>=3.1.4 in /usr/local/lib/python3.9/dist-packages (from google-auth<3.0.0dev,>=1.19.0->google-api-python-client) (4.9)\n",
            "Requirement already satisfied: pyasn1<0.5.0,>=0.4.6 in /usr/local/lib/python3.9/dist-packages (from pyasn1-modules>=0.2.1->google-auth<3.0.0dev,>=1.19.0->google-api-python-client) (0.4.8)\n",
            "Requirement already satisfied: urllib3<1.27,>=1.21.1 in /usr/local/lib/python3.9/dist-packages (from requests<3.0.0dev,>=2.18.0->google-api-core!=2.0.*,!=2.1.*,!=2.2.*,!=2.3.0,<3.0.0dev,>=1.31.5->google-api-python-client) (1.26.14)\n",
            "Requirement already satisfied: idna<3,>=2.5 in /usr/local/lib/python3.9/dist-packages (from requests<3.0.0dev,>=2.18.0->google-api-core!=2.0.*,!=2.1.*,!=2.2.*,!=2.3.0,<3.0.0dev,>=1.31.5->google-api-python-client) (2.10)\n",
            "Requirement already satisfied: chardet<5,>=3.0.2 in /usr/local/lib/python3.9/dist-packages (from requests<3.0.0dev,>=2.18.0->google-api-core!=2.0.*,!=2.1.*,!=2.2.*,!=2.3.0,<3.0.0dev,>=1.31.5->google-api-python-client) (4.0.0)\n",
            "Requirement already satisfied: certifi>=2017.4.17 in /usr/local/lib/python3.9/dist-packages (from requests<3.0.0dev,>=2.18.0->google-api-core!=2.0.*,!=2.1.*,!=2.2.*,!=2.3.0,<3.0.0dev,>=1.31.5->google-api-python-client) (2022.12.7)\n"
          ]
        }
      ],
      "source": [
        "import matplotlib as mpl \n",
        "import matplotlib.pyplot as plt \n",
        "import seaborn as sns \n",
        "import pandas as pd \n",
        "import numpy as np\n",
        "from google.colab import drive\n",
        "import sklearn as sc\n",
        "from sklearn.linear_model import LinearRegression\n",
        "from sklearn.model_selection import train_test_split\n",
        "from sklearn.metrics import mean_squared_error\n",
        "from sklearn.impute import SimpleImputer\n",
        "from sklearn.metrics import r2_score, mean_squared_error, mean_absolute_error\n",
        "from sklearn.metrics import mean_squared_error\n",
        "from sklearn.metrics import r2_score\n",
        "import requests\n",
        "!pip install google-api-python-client\n",
        "from googleapiclient.discovery import build\n",
        "from requests.exceptions import ConnectionError, Timeout, TooManyRedirects\n",
        "import json"
      ]
    },
    {
      "cell_type": "code",
      "source": [
        "api_key = '71f1e468-c082-434d-8889-101e33fd8f06'"
      ],
      "metadata": {
        "id": "UE-xT2TM5jv6"
      },
      "execution_count": null,
      "outputs": []
    },
    {
      "cell_type": "code",
      "source": [
        "headers = {\n",
        "  'Accepts': 'application/json',\n",
        "  'X-CMC_PRO_API_KEY': api_key\n",
        "}\n"
      ],
      "metadata": {
        "id": "mUg70Sv66Bmx"
      },
      "execution_count": null,
      "outputs": []
    },
    {
      "cell_type": "code",
      "source": [
        "url = 'https://pro-api.coinmarketcap.com/v1/cryptocurrency/listings/latest'\n"
      ],
      "metadata": {
        "id": "Y0eQGcAt6qzP"
      },
      "execution_count": null,
      "outputs": []
    },
    {
      "cell_type": "code",
      "source": [
        "params = {\n",
        "  'start': '1',\n",
        "  'limit': '500',\n",
        "  'convert': 'USD'\n",
        "}\n"
      ],
      "metadata": {
        "id": "m1MBK6Q76rm6"
      },
      "execution_count": null,
      "outputs": []
    },
    {
      "cell_type": "code",
      "source": [
        "response = requests.get(url, headers=headers, params=params)\n"
      ],
      "metadata": {
        "id": "KH7Hr9t96wSk"
      },
      "execution_count": null,
      "outputs": []
    },
    {
      "cell_type": "code",
      "source": [
        "data = json.loads(response.text)\n"
      ],
      "metadata": {
        "id": "Gb9mKdxg6z-m"
      },
      "execution_count": null,
      "outputs": []
    },
    {
      "cell_type": "code",
      "source": [
        "crypto_list = []\n",
        "for crypto in data['data']:\n",
        "    name = crypto['name']\n",
        "    symbol = crypto['symbol']\n",
        "    price = crypto['quote']['USD']['price']\n",
        "    circulating_supply = crypto['circulating_supply']\n",
        "    max_supply = crypto['max_supply']\n",
        "    self_reported_circulating_supply = crypto['self_reported_circulating_supply']\n",
        "    crypto_list.append([name, symbol, price,circulating_supply,max_supply,self_reported_circulating_supply])\n",
        "\n",
        "df = pd.DataFrame(crypto_list, columns=['Name', 'Symbol', 'Price', 'circulating_supply','max_supply','self_reported_circulating_supply'])\n"
      ],
      "metadata": {
        "id": "Z-uQt7AW63tT"
      },
      "execution_count": null,
      "outputs": []
    },
    {
      "cell_type": "markdown",
      "source": [
        "**Datos del dataframe**\n",
        "\n",
        "\"Name\": Nombre de la criptomoneda.\n",
        "\n",
        "\"Symbol\": Las siglas que representan la criptomoneda.\n",
        "\n",
        "\"Price\": Su precio al momento de tomar los datos.\n",
        "\n",
        "\"Circulating_supply\": Suministro en circulación, la cantidad de activos en circulación.\n",
        "\n",
        "\"Max_supply\": Cantidad máxima de suministro, la cantidad máxima del activo que puede estar en circulación. En caso de que esté representado como \"NaN\" significa que no tiene un suministro máximo.\n",
        "\n",
        "\"Self_reported_circulating_supply\": Suministro en circulación declarado por la institución que regula el activo. En caso de que esté representado como \"NaN\" significa que no está controlado por ninguna institución o no fue declarada la cantidad."
      ],
      "metadata": {
        "id": "mRJkC01BU0hw"
      }
    },
    {
      "cell_type": "code",
      "source": [
        "df"
      ],
      "metadata": {
        "colab": {
          "base_uri": "https://localhost:8080/",
          "height": 424
        },
        "id": "1yLNuw6765Py",
        "outputId": "4d1d226a-426d-4921-b646-e32500868df4"
      },
      "execution_count": null,
      "outputs": [
        {
          "output_type": "execute_result",
          "data": {
            "text/plain": [
              "         Name Symbol         Price  circulating_supply    max_supply  \\\n",
              "0     Bitcoin    BTC  24228.197822        1.931685e+07  2.100000e+07   \n",
              "1    Ethereum    ETH   1671.995984        1.223739e+08           NaN   \n",
              "2      Tether   USDT      1.003711        7.289955e+10           NaN   \n",
              "3         BNB    BNB    307.785476        1.578924e+08           NaN   \n",
              "4    USD Coin   USDC      0.998170        3.950979e+10           NaN   \n",
              "..        ...    ...           ...                 ...           ...   \n",
              "495  MonaCoin   MONA      0.500099        6.572967e+07  1.051200e+08   \n",
              "496       Gas    GAS      3.242074        1.012838e+07  1.000000e+08   \n",
              "497    Komodo    KMD      0.241175        1.359539e+08  2.000000e+08   \n",
              "498  AhaToken    AHT      0.009233        3.550362e+09  1.050000e+10   \n",
              "499       DIA    DIA      0.356539        9.183774e+07  2.000000e+08   \n",
              "\n",
              "     self_reported_circulating_supply  \n",
              "0                                 NaN  \n",
              "1                                 NaN  \n",
              "2                                 NaN  \n",
              "3                                 NaN  \n",
              "4                                 NaN  \n",
              "..                                ...  \n",
              "495                               NaN  \n",
              "496                      5.908334e+07  \n",
              "497                               NaN  \n",
              "498                      2.996628e+09  \n",
              "499                      9.183774e+07  \n",
              "\n",
              "[500 rows x 6 columns]"
            ],
            "text/html": [
              "\n",
              "  <div id=\"df-e7483ce8-5b47-44a9-a275-1f52f91433c4\">\n",
              "    <div class=\"colab-df-container\">\n",
              "      <div>\n",
              "<style scoped>\n",
              "    .dataframe tbody tr th:only-of-type {\n",
              "        vertical-align: middle;\n",
              "    }\n",
              "\n",
              "    .dataframe tbody tr th {\n",
              "        vertical-align: top;\n",
              "    }\n",
              "\n",
              "    .dataframe thead th {\n",
              "        text-align: right;\n",
              "    }\n",
              "</style>\n",
              "<table border=\"1\" class=\"dataframe\">\n",
              "  <thead>\n",
              "    <tr style=\"text-align: right;\">\n",
              "      <th></th>\n",
              "      <th>Name</th>\n",
              "      <th>Symbol</th>\n",
              "      <th>Price</th>\n",
              "      <th>circulating_supply</th>\n",
              "      <th>max_supply</th>\n",
              "      <th>self_reported_circulating_supply</th>\n",
              "    </tr>\n",
              "  </thead>\n",
              "  <tbody>\n",
              "    <tr>\n",
              "      <th>0</th>\n",
              "      <td>Bitcoin</td>\n",
              "      <td>BTC</td>\n",
              "      <td>24228.197822</td>\n",
              "      <td>1.931685e+07</td>\n",
              "      <td>2.100000e+07</td>\n",
              "      <td>NaN</td>\n",
              "    </tr>\n",
              "    <tr>\n",
              "      <th>1</th>\n",
              "      <td>Ethereum</td>\n",
              "      <td>ETH</td>\n",
              "      <td>1671.995984</td>\n",
              "      <td>1.223739e+08</td>\n",
              "      <td>NaN</td>\n",
              "      <td>NaN</td>\n",
              "    </tr>\n",
              "    <tr>\n",
              "      <th>2</th>\n",
              "      <td>Tether</td>\n",
              "      <td>USDT</td>\n",
              "      <td>1.003711</td>\n",
              "      <td>7.289955e+10</td>\n",
              "      <td>NaN</td>\n",
              "      <td>NaN</td>\n",
              "    </tr>\n",
              "    <tr>\n",
              "      <th>3</th>\n",
              "      <td>BNB</td>\n",
              "      <td>BNB</td>\n",
              "      <td>307.785476</td>\n",
              "      <td>1.578924e+08</td>\n",
              "      <td>NaN</td>\n",
              "      <td>NaN</td>\n",
              "    </tr>\n",
              "    <tr>\n",
              "      <th>4</th>\n",
              "      <td>USD Coin</td>\n",
              "      <td>USDC</td>\n",
              "      <td>0.998170</td>\n",
              "      <td>3.950979e+10</td>\n",
              "      <td>NaN</td>\n",
              "      <td>NaN</td>\n",
              "    </tr>\n",
              "    <tr>\n",
              "      <th>...</th>\n",
              "      <td>...</td>\n",
              "      <td>...</td>\n",
              "      <td>...</td>\n",
              "      <td>...</td>\n",
              "      <td>...</td>\n",
              "      <td>...</td>\n",
              "    </tr>\n",
              "    <tr>\n",
              "      <th>495</th>\n",
              "      <td>MonaCoin</td>\n",
              "      <td>MONA</td>\n",
              "      <td>0.500099</td>\n",
              "      <td>6.572967e+07</td>\n",
              "      <td>1.051200e+08</td>\n",
              "      <td>NaN</td>\n",
              "    </tr>\n",
              "    <tr>\n",
              "      <th>496</th>\n",
              "      <td>Gas</td>\n",
              "      <td>GAS</td>\n",
              "      <td>3.242074</td>\n",
              "      <td>1.012838e+07</td>\n",
              "      <td>1.000000e+08</td>\n",
              "      <td>5.908334e+07</td>\n",
              "    </tr>\n",
              "    <tr>\n",
              "      <th>497</th>\n",
              "      <td>Komodo</td>\n",
              "      <td>KMD</td>\n",
              "      <td>0.241175</td>\n",
              "      <td>1.359539e+08</td>\n",
              "      <td>2.000000e+08</td>\n",
              "      <td>NaN</td>\n",
              "    </tr>\n",
              "    <tr>\n",
              "      <th>498</th>\n",
              "      <td>AhaToken</td>\n",
              "      <td>AHT</td>\n",
              "      <td>0.009233</td>\n",
              "      <td>3.550362e+09</td>\n",
              "      <td>1.050000e+10</td>\n",
              "      <td>2.996628e+09</td>\n",
              "    </tr>\n",
              "    <tr>\n",
              "      <th>499</th>\n",
              "      <td>DIA</td>\n",
              "      <td>DIA</td>\n",
              "      <td>0.356539</td>\n",
              "      <td>9.183774e+07</td>\n",
              "      <td>2.000000e+08</td>\n",
              "      <td>9.183774e+07</td>\n",
              "    </tr>\n",
              "  </tbody>\n",
              "</table>\n",
              "<p>500 rows × 6 columns</p>\n",
              "</div>\n",
              "      <button class=\"colab-df-convert\" onclick=\"convertToInteractive('df-e7483ce8-5b47-44a9-a275-1f52f91433c4')\"\n",
              "              title=\"Convert this dataframe to an interactive table.\"\n",
              "              style=\"display:none;\">\n",
              "        \n",
              "  <svg xmlns=\"http://www.w3.org/2000/svg\" height=\"24px\"viewBox=\"0 0 24 24\"\n",
              "       width=\"24px\">\n",
              "    <path d=\"M0 0h24v24H0V0z\" fill=\"none\"/>\n",
              "    <path d=\"M18.56 5.44l.94 2.06.94-2.06 2.06-.94-2.06-.94-.94-2.06-.94 2.06-2.06.94zm-11 1L8.5 8.5l.94-2.06 2.06-.94-2.06-.94L8.5 2.5l-.94 2.06-2.06.94zm10 10l.94 2.06.94-2.06 2.06-.94-2.06-.94-.94-2.06-.94 2.06-2.06.94z\"/><path d=\"M17.41 7.96l-1.37-1.37c-.4-.4-.92-.59-1.43-.59-.52 0-1.04.2-1.43.59L10.3 9.45l-7.72 7.72c-.78.78-.78 2.05 0 2.83L4 21.41c.39.39.9.59 1.41.59.51 0 1.02-.2 1.41-.59l7.78-7.78 2.81-2.81c.8-.78.8-2.07 0-2.86zM5.41 20L4 18.59l7.72-7.72 1.47 1.35L5.41 20z\"/>\n",
              "  </svg>\n",
              "      </button>\n",
              "      \n",
              "  <style>\n",
              "    .colab-df-container {\n",
              "      display:flex;\n",
              "      flex-wrap:wrap;\n",
              "      gap: 12px;\n",
              "    }\n",
              "\n",
              "    .colab-df-convert {\n",
              "      background-color: #E8F0FE;\n",
              "      border: none;\n",
              "      border-radius: 50%;\n",
              "      cursor: pointer;\n",
              "      display: none;\n",
              "      fill: #1967D2;\n",
              "      height: 32px;\n",
              "      padding: 0 0 0 0;\n",
              "      width: 32px;\n",
              "    }\n",
              "\n",
              "    .colab-df-convert:hover {\n",
              "      background-color: #E2EBFA;\n",
              "      box-shadow: 0px 1px 2px rgba(60, 64, 67, 0.3), 0px 1px 3px 1px rgba(60, 64, 67, 0.15);\n",
              "      fill: #174EA6;\n",
              "    }\n",
              "\n",
              "    [theme=dark] .colab-df-convert {\n",
              "      background-color: #3B4455;\n",
              "      fill: #D2E3FC;\n",
              "    }\n",
              "\n",
              "    [theme=dark] .colab-df-convert:hover {\n",
              "      background-color: #434B5C;\n",
              "      box-shadow: 0px 1px 3px 1px rgba(0, 0, 0, 0.15);\n",
              "      filter: drop-shadow(0px 1px 2px rgba(0, 0, 0, 0.3));\n",
              "      fill: #FFFFFF;\n",
              "    }\n",
              "  </style>\n",
              "\n",
              "      <script>\n",
              "        const buttonEl =\n",
              "          document.querySelector('#df-e7483ce8-5b47-44a9-a275-1f52f91433c4 button.colab-df-convert');\n",
              "        buttonEl.style.display =\n",
              "          google.colab.kernel.accessAllowed ? 'block' : 'none';\n",
              "\n",
              "        async function convertToInteractive(key) {\n",
              "          const element = document.querySelector('#df-e7483ce8-5b47-44a9-a275-1f52f91433c4');\n",
              "          const dataTable =\n",
              "            await google.colab.kernel.invokeFunction('convertToInteractive',\n",
              "                                                     [key], {});\n",
              "          if (!dataTable) return;\n",
              "\n",
              "          const docLinkHtml = 'Like what you see? Visit the ' +\n",
              "            '<a target=\"_blank\" href=https://colab.research.google.com/notebooks/data_table.ipynb>data table notebook</a>'\n",
              "            + ' to learn more about interactive tables.';\n",
              "          element.innerHTML = '';\n",
              "          dataTable['output_type'] = 'display_data';\n",
              "          await google.colab.output.renderOutput(dataTable, element);\n",
              "          const docLink = document.createElement('div');\n",
              "          docLink.innerHTML = docLinkHtml;\n",
              "          element.appendChild(docLink);\n",
              "        }\n",
              "      </script>\n",
              "    </div>\n",
              "  </div>\n",
              "  "
            ]
          },
          "metadata": {},
          "execution_count": 16
        }
      ]
    },
    {
      "cell_type": "markdown",
      "source": [
        "**Data histórica de Bitcoin**\n",
        "\n",
        "Utlizamos la API proporcionada por CryptoCompare para hacer un dataframe que contenga data histórica de Bitcoin, desde 2017 hasta 2023."
      ],
      "metadata": {
        "id": "FY899PGuvwyN"
      }
    },
    {
      "cell_type": "code",
      "source": [
        "import requests\n",
        "import pandas as pd\n",
        "\n",
        "api_key = \"e9e611db5483f01736b5c5a1690c4b341bb73365bc97be2d3e16cec32d87530a\"\n",
        "\n",
        "url = \"https://min-api.cryptocompare.com/data/v2/histoday\"\n",
        "\n",
        "params = {\n",
        "    \"fsym\": \"BTC\",\n",
        "    \"tsym\": \"USD\",\n",
        "    \"limit\": 2000, \n",
        "    \"api_key\": api_key\n",
        "}\n",
        "\n",
        "response = requests.get(url, params=params)\n",
        "\n",
        "data = response.json()[\"Data\"][\"Data\"]\n",
        "\n",
        "df1 = pd.DataFrame(data, columns=[\"time\", \"open\", \"high\", \"low\", \"close\", \"volume\"])\n",
        "\n",
        "df1[\"time\"] = pd.to_datetime(df1[\"time\"], unit=\"s\")\n",
        "df1.set_index(\"time\", inplace=True)\n",
        "\n",
        "print(df1.head())"
      ],
      "metadata": {
        "colab": {
          "base_uri": "https://localhost:8080/"
        },
        "id": "wCovztSCwE8n",
        "outputId": "c22a9ae4-d833-4f37-d33b-00520a5bafe0"
      },
      "execution_count": null,
      "outputs": [
        {
          "output_type": "stream",
          "name": "stdout",
          "text": [
            "               open     high      low    close  volume\n",
            "time                                                  \n",
            "2017-09-21  3882.16  3912.79  3576.54  3617.27     NaN\n",
            "2017-09-22  3617.27  3753.51  3505.81  3600.83     NaN\n",
            "2017-09-23  3600.83  3813.39  3563.18  3788.02     NaN\n",
            "2017-09-24  3788.02  3790.89  3633.88  3667.52     NaN\n",
            "2017-09-25  3667.52  3971.50  3665.67  3932.83     NaN\n"
          ]
        }
      ]
    },
    {
      "cell_type": "markdown",
      "source": [
        "**Datos del datframe**\n",
        "\n",
        "\"time\": fecha a la que corresponde los datos.\n",
        "\n",
        "\"Open\": Precio de apertura.\n",
        "\n",
        "\"High\": Precio máximo al que llegó el activo en ese día.\n",
        "\n",
        "\"Low\": Precio mínimo al que llegó el activo en ese día.\n",
        "\n",
        "\"Close\": Preció en el que cerró el activo ese día.\n",
        "\n",
        "\"Volume\": Cantidad negociada del activo en ese caso."
      ],
      "metadata": {
        "id": "FOM7PUxSwQ97"
      }
    },
    {
      "cell_type": "code",
      "source": [
        "df1"
      ],
      "metadata": {
        "colab": {
          "base_uri": "https://localhost:8080/",
          "height": 455
        },
        "id": "7MUGrnNwwI6A",
        "outputId": "e751ba28-c3e4-4317-d24c-934692924f8c"
      },
      "execution_count": null,
      "outputs": [
        {
          "output_type": "execute_result",
          "data": {
            "text/plain": [
              "                open      high       low     close  volume\n",
              "time                                                      \n",
              "2017-09-21   3882.16   3912.79   3576.54   3617.27     NaN\n",
              "2017-09-22   3617.27   3753.51   3505.81   3600.83     NaN\n",
              "2017-09-23   3600.83   3813.39   3563.18   3788.02     NaN\n",
              "2017-09-24   3788.02   3790.89   3633.88   3667.52     NaN\n",
              "2017-09-25   3667.52   3971.50   3665.67   3932.83     NaN\n",
              "...              ...       ...       ...       ...     ...\n",
              "2023-03-10  20369.38  20370.96  19597.37  20207.71     NaN\n",
              "2023-03-11  20207.71  20847.54  19898.92  20610.50     NaN\n",
              "2023-03-12  20610.50  22215.00  20448.60  22180.75     NaN\n",
              "2023-03-13  22180.75  24575.29  21897.79  24205.82     NaN\n",
              "2023-03-14  24205.82  24327.90  24084.60  24252.00     NaN\n",
              "\n",
              "[2001 rows x 5 columns]"
            ],
            "text/html": [
              "\n",
              "  <div id=\"df-8cd698fc-a701-47f8-9f6b-9539bced488e\">\n",
              "    <div class=\"colab-df-container\">\n",
              "      <div>\n",
              "<style scoped>\n",
              "    .dataframe tbody tr th:only-of-type {\n",
              "        vertical-align: middle;\n",
              "    }\n",
              "\n",
              "    .dataframe tbody tr th {\n",
              "        vertical-align: top;\n",
              "    }\n",
              "\n",
              "    .dataframe thead th {\n",
              "        text-align: right;\n",
              "    }\n",
              "</style>\n",
              "<table border=\"1\" class=\"dataframe\">\n",
              "  <thead>\n",
              "    <tr style=\"text-align: right;\">\n",
              "      <th></th>\n",
              "      <th>open</th>\n",
              "      <th>high</th>\n",
              "      <th>low</th>\n",
              "      <th>close</th>\n",
              "      <th>volume</th>\n",
              "    </tr>\n",
              "    <tr>\n",
              "      <th>time</th>\n",
              "      <th></th>\n",
              "      <th></th>\n",
              "      <th></th>\n",
              "      <th></th>\n",
              "      <th></th>\n",
              "    </tr>\n",
              "  </thead>\n",
              "  <tbody>\n",
              "    <tr>\n",
              "      <th>2017-09-21</th>\n",
              "      <td>3882.16</td>\n",
              "      <td>3912.79</td>\n",
              "      <td>3576.54</td>\n",
              "      <td>3617.27</td>\n",
              "      <td>NaN</td>\n",
              "    </tr>\n",
              "    <tr>\n",
              "      <th>2017-09-22</th>\n",
              "      <td>3617.27</td>\n",
              "      <td>3753.51</td>\n",
              "      <td>3505.81</td>\n",
              "      <td>3600.83</td>\n",
              "      <td>NaN</td>\n",
              "    </tr>\n",
              "    <tr>\n",
              "      <th>2017-09-23</th>\n",
              "      <td>3600.83</td>\n",
              "      <td>3813.39</td>\n",
              "      <td>3563.18</td>\n",
              "      <td>3788.02</td>\n",
              "      <td>NaN</td>\n",
              "    </tr>\n",
              "    <tr>\n",
              "      <th>2017-09-24</th>\n",
              "      <td>3788.02</td>\n",
              "      <td>3790.89</td>\n",
              "      <td>3633.88</td>\n",
              "      <td>3667.52</td>\n",
              "      <td>NaN</td>\n",
              "    </tr>\n",
              "    <tr>\n",
              "      <th>2017-09-25</th>\n",
              "      <td>3667.52</td>\n",
              "      <td>3971.50</td>\n",
              "      <td>3665.67</td>\n",
              "      <td>3932.83</td>\n",
              "      <td>NaN</td>\n",
              "    </tr>\n",
              "    <tr>\n",
              "      <th>...</th>\n",
              "      <td>...</td>\n",
              "      <td>...</td>\n",
              "      <td>...</td>\n",
              "      <td>...</td>\n",
              "      <td>...</td>\n",
              "    </tr>\n",
              "    <tr>\n",
              "      <th>2023-03-10</th>\n",
              "      <td>20369.38</td>\n",
              "      <td>20370.96</td>\n",
              "      <td>19597.37</td>\n",
              "      <td>20207.71</td>\n",
              "      <td>NaN</td>\n",
              "    </tr>\n",
              "    <tr>\n",
              "      <th>2023-03-11</th>\n",
              "      <td>20207.71</td>\n",
              "      <td>20847.54</td>\n",
              "      <td>19898.92</td>\n",
              "      <td>20610.50</td>\n",
              "      <td>NaN</td>\n",
              "    </tr>\n",
              "    <tr>\n",
              "      <th>2023-03-12</th>\n",
              "      <td>20610.50</td>\n",
              "      <td>22215.00</td>\n",
              "      <td>20448.60</td>\n",
              "      <td>22180.75</td>\n",
              "      <td>NaN</td>\n",
              "    </tr>\n",
              "    <tr>\n",
              "      <th>2023-03-13</th>\n",
              "      <td>22180.75</td>\n",
              "      <td>24575.29</td>\n",
              "      <td>21897.79</td>\n",
              "      <td>24205.82</td>\n",
              "      <td>NaN</td>\n",
              "    </tr>\n",
              "    <tr>\n",
              "      <th>2023-03-14</th>\n",
              "      <td>24205.82</td>\n",
              "      <td>24327.90</td>\n",
              "      <td>24084.60</td>\n",
              "      <td>24252.00</td>\n",
              "      <td>NaN</td>\n",
              "    </tr>\n",
              "  </tbody>\n",
              "</table>\n",
              "<p>2001 rows × 5 columns</p>\n",
              "</div>\n",
              "      <button class=\"colab-df-convert\" onclick=\"convertToInteractive('df-8cd698fc-a701-47f8-9f6b-9539bced488e')\"\n",
              "              title=\"Convert this dataframe to an interactive table.\"\n",
              "              style=\"display:none;\">\n",
              "        \n",
              "  <svg xmlns=\"http://www.w3.org/2000/svg\" height=\"24px\"viewBox=\"0 0 24 24\"\n",
              "       width=\"24px\">\n",
              "    <path d=\"M0 0h24v24H0V0z\" fill=\"none\"/>\n",
              "    <path d=\"M18.56 5.44l.94 2.06.94-2.06 2.06-.94-2.06-.94-.94-2.06-.94 2.06-2.06.94zm-11 1L8.5 8.5l.94-2.06 2.06-.94-2.06-.94L8.5 2.5l-.94 2.06-2.06.94zm10 10l.94 2.06.94-2.06 2.06-.94-2.06-.94-.94-2.06-.94 2.06-2.06.94z\"/><path d=\"M17.41 7.96l-1.37-1.37c-.4-.4-.92-.59-1.43-.59-.52 0-1.04.2-1.43.59L10.3 9.45l-7.72 7.72c-.78.78-.78 2.05 0 2.83L4 21.41c.39.39.9.59 1.41.59.51 0 1.02-.2 1.41-.59l7.78-7.78 2.81-2.81c.8-.78.8-2.07 0-2.86zM5.41 20L4 18.59l7.72-7.72 1.47 1.35L5.41 20z\"/>\n",
              "  </svg>\n",
              "      </button>\n",
              "      \n",
              "  <style>\n",
              "    .colab-df-container {\n",
              "      display:flex;\n",
              "      flex-wrap:wrap;\n",
              "      gap: 12px;\n",
              "    }\n",
              "\n",
              "    .colab-df-convert {\n",
              "      background-color: #E8F0FE;\n",
              "      border: none;\n",
              "      border-radius: 50%;\n",
              "      cursor: pointer;\n",
              "      display: none;\n",
              "      fill: #1967D2;\n",
              "      height: 32px;\n",
              "      padding: 0 0 0 0;\n",
              "      width: 32px;\n",
              "    }\n",
              "\n",
              "    .colab-df-convert:hover {\n",
              "      background-color: #E2EBFA;\n",
              "      box-shadow: 0px 1px 2px rgba(60, 64, 67, 0.3), 0px 1px 3px 1px rgba(60, 64, 67, 0.15);\n",
              "      fill: #174EA6;\n",
              "    }\n",
              "\n",
              "    [theme=dark] .colab-df-convert {\n",
              "      background-color: #3B4455;\n",
              "      fill: #D2E3FC;\n",
              "    }\n",
              "\n",
              "    [theme=dark] .colab-df-convert:hover {\n",
              "      background-color: #434B5C;\n",
              "      box-shadow: 0px 1px 3px 1px rgba(0, 0, 0, 0.15);\n",
              "      filter: drop-shadow(0px 1px 2px rgba(0, 0, 0, 0.3));\n",
              "      fill: #FFFFFF;\n",
              "    }\n",
              "  </style>\n",
              "\n",
              "      <script>\n",
              "        const buttonEl =\n",
              "          document.querySelector('#df-8cd698fc-a701-47f8-9f6b-9539bced488e button.colab-df-convert');\n",
              "        buttonEl.style.display =\n",
              "          google.colab.kernel.accessAllowed ? 'block' : 'none';\n",
              "\n",
              "        async function convertToInteractive(key) {\n",
              "          const element = document.querySelector('#df-8cd698fc-a701-47f8-9f6b-9539bced488e');\n",
              "          const dataTable =\n",
              "            await google.colab.kernel.invokeFunction('convertToInteractive',\n",
              "                                                     [key], {});\n",
              "          if (!dataTable) return;\n",
              "\n",
              "          const docLinkHtml = 'Like what you see? Visit the ' +\n",
              "            '<a target=\"_blank\" href=https://colab.research.google.com/notebooks/data_table.ipynb>data table notebook</a>'\n",
              "            + ' to learn more about interactive tables.';\n",
              "          element.innerHTML = '';\n",
              "          dataTable['output_type'] = 'display_data';\n",
              "          await google.colab.output.renderOutput(dataTable, element);\n",
              "          const docLink = document.createElement('div');\n",
              "          docLink.innerHTML = docLinkHtml;\n",
              "          element.appendChild(docLink);\n",
              "        }\n",
              "      </script>\n",
              "    </div>\n",
              "  </div>\n",
              "  "
            ]
          },
          "metadata": {},
          "execution_count": 18
        }
      ]
    },
    {
      "cell_type": "markdown",
      "source": [
        "**Tipos de cambio de un registro histórico de monedas de los intervalos de tiempo(hrs,min,sec).**\n",
        "\n",
        "El tipo de cambio se define como (VWAP-24H) las últimas 24 horas (ventana móvil en el tiempo).\n",
        "\n",
        "Los tipos de cambio se generan a partir de conjuntos de datos de cotizaciones, transacciones y metadatos.\n",
        "\n",
        "Se extrae una una lista completa de los tipos de cambio históricos de cualquier activos, agrupados en períodos de tiempo.\n",
        "\n",
        "\n",
        "Conexion a la api:\n",
        "\n",
        "https://www.coinapi.io/\n",
        "https://docs.coinapi.io/market-data/rest-api/exchange-rates"
      ],
      "metadata": {
        "id": "fm68ap8pPCXF"
      }
    },
    {
      "cell_type": "markdown",
      "source": [
        "Se obtiene el tipo de cambio entre un par de activos solicitados.\n",
        "Tenemos una BD de 3965 registros"
      ],
      "metadata": {
        "id": "AVVGa7AUPHv7"
      }
    },
    {
      "cell_type": "code",
      "source": [
        "url = 'https://rest.coinapi.io/v1/exchangerate/BTC?invert=false'\n",
        "\n",
        "payload = {}\n",
        "headers= {'X-CoinAPI-Key' : '11FFD66F-7A70-4195-B61B-400822103829'}\n",
        "\n",
        "response = requests.request(\"GET\", url, headers=headers, data = payload)\n",
        "\n",
        "\n",
        "json_data_exchange = json.loads(response.text.encode('utf8'))"
      ],
      "metadata": {
        "id": "pIVqM4xGO1q2"
      },
      "execution_count": null,
      "outputs": []
    },
    {
      "cell_type": "code",
      "source": [
        "print(json_data_exchange)"
      ],
      "metadata": {
        "id": "35AbdVC7POvR"
      },
      "execution_count": null,
      "outputs": []
    },
    {
      "cell_type": "markdown",
      "source": [
        "**Variable de la Data de Tipos de Cambio**\n",
        "\n",
        "**time** Tiempo en ISO 8601 de los datos de mercado utilizados para calcular los tipos de cambio.\n",
        "\n",
        "**asset_id_base**\tIdentificador del activo base de tipo de cambio solicitado.\n",
        "\n",
        "**asset_id_quote**\tIdentificador del activo de cotización de tipo de cambio solicitado.\n",
        "\n",
        "**rate**\tTipo de cambio entre activos.\n",
        "\n",
        "{\n",
        "    \"time\": \"2017-08-09T14:31:18.3150000Z\",\n",
        "     \"asset_id_base\": \"BTC\",\n",
        "     \"asset_id_quote\": \"USD\",\n",
        "    \"rate\": 3260.3514321215056208129867667\n",
        "}"
      ],
      "metadata": {
        "id": "YLV_1OFZPS-f"
      }
    },
    {
      "cell_type": "markdown",
      "source": [
        "**Guardando el json data en un dataframe**"
      ],
      "metadata": {
        "id": "RE0wJ1ugPfK3"
      }
    },
    {
      "cell_type": "code",
      "source": [
        "dfexchange = pd.DataFrame(json_data_exchange)\n",
        "dfexchange.to_csv('bitcoinexchange-data.csv', index=False)"
      ],
      "metadata": {
        "id": "EpIFkLaUPTmz"
      },
      "execution_count": null,
      "outputs": []
    },
    {
      "cell_type": "code",
      "source": [
        "print(dfexchange.sample)"
      ],
      "metadata": {
        "colab": {
          "base_uri": "https://localhost:8080/"
        },
        "id": "hsULgbsBPjkE",
        "outputId": "51de5b39-a159-4e5a-f289-054766d931b3"
      },
      "execution_count": null,
      "outputs": [
        {
          "output_type": "stream",
          "name": "stdout",
          "text": [
            "<bound method NDFrame.sample of      asset_id_base                                              rates\n",
            "0              BTC  {'time': '2023-03-13T23:14:01.0000000Z', 'asse...\n",
            "1              BTC  {'time': '2023-03-13T23:14:01.0000000Z', 'asse...\n",
            "2              BTC  {'time': '2023-03-13T23:14:01.0000000Z', 'asse...\n",
            "3              BTC  {'time': '2023-03-13T23:14:01.0000000Z', 'asse...\n",
            "4              BTC  {'time': '2023-03-13T23:14:01.0000000Z', 'asse...\n",
            "...            ...                                                ...\n",
            "4086           BTC  {'time': '2023-03-12T23:44:29.0000000Z', 'asse...\n",
            "4087           BTC  {'time': '2023-03-12T23:42:10.0000000Z', 'asse...\n",
            "4088           BTC  {'time': '2023-03-12T23:32:09.0000000Z', 'asse...\n",
            "4089           BTC  {'time': '2023-03-12T23:28:20.0000000Z', 'asse...\n",
            "4090           BTC  {'time': '2023-03-12T23:21:39.0000000Z', 'asse...\n",
            "\n",
            "[4091 rows x 2 columns]>\n"
          ]
        }
      ]
    },
    {
      "cell_type": "markdown",
      "source": [
        "**Conclusion**\n",
        "\n",
        "Podemos utilizar este dataframe para hacer trading con los datos proporcionados tales como, la cotización, transacciones y metadata."
      ],
      "metadata": {
        "id": "dQ6uaEwEPrux"
      }
    },
    {
      "cell_type": "markdown",
      "source": [
        "En el siguiente analisis vamos a explorar diferentes datos extraidos de Coinmarketcap.com\n",
        "\n",
        "La API de CoinMarketCap proporciona una gran cantidad de datos relacionados con criptomonedas. Algunos ejemplos de datos que puedes extraer de la misma página son:\n",
        "\n",
        "1-Una lista de las 100 criptomonedas con mayor capitalización de mercado\n",
        "\n",
        "2-La variación porcentual del precio de una criptomoneda en las últimas 24 horas\n",
        "\n",
        "3-El volumen de operaciones de una criptomoneda en las últimas 24 horas\n",
        "\n",
        "4-La capitalización de mercado de una criptomoneda\n",
        "\n",
        "5-La lista de las criptomonedas más populares en el momento"
      ],
      "metadata": {
        "id": "jZVbTldbtfGO"
      }
    },
    {
      "cell_type": "code",
      "source": [
        "url_base = 'https://pro-api.coinmarketcap.com/v1/'"
      ],
      "metadata": {
        "id": "Ki60I6q4tgWb"
      },
      "execution_count": null,
      "outputs": []
    },
    {
      "cell_type": "markdown",
      "source": [
        "1-Una lista de las 100 criptomonedas con mayor capitalización de mercado\n",
        "La capitalización de mercado de una criptomoneda es el valor total de la criptomoneda en el mercado. Se calcula multiplicando el precio actual de la criptomoneda por la cantidad total de monedas en circulación. Por lo tanto, la lista de las 100 criptomonedas con mayor capitalización de mercado mostrará las 100 criptomonedas que tienen el mayor valor en el mercado en un momento determinado."
      ],
      "metadata": {
        "id": "Mtkrw-GUtlRX"
      }
    },
    {
      "cell_type": "code",
      "source": [
        "headers = {'X-CMC_PRO_API_KEY': '7b29bcd5-778c-4d90-8887-40eea96042b2'}\n",
        "params = {'start': '1', 'limit': '100', 'convert': 'USD'}\n",
        "\n",
        "response = requests.get(url_base + 'cryptocurrency/listings/latest',\n",
        "                        headers=headers,\n",
        "                        params=params)\n",
        "\n",
        "print(response.text)\n",
        "\n",
        "import json\n",
        "\n",
        "data = json.loads(response.text)"
      ],
      "metadata": {
        "colab": {
          "base_uri": "https://localhost:8080/"
        },
        "id": "2JQjd3h0tlnn",
        "outputId": "ad94ce33-1e36-4b86-95fe-e8649f98eb5d"
      },
      "execution_count": null,
      "outputs": [
        {
          "output_type": "stream",
          "name": "stdout",
          "text": [
            "{\"status\":{\"timestamp\":\"2023-03-14T01:22:49.991Z\",\"error_code\":0,\"error_message\":null,\"elapsed\":16,\"credit_count\":1,\"notice\":null,\"total_count\":9079},\"data\":[{\"id\":1,\"name\":\"Bitcoin\",\"symbol\":\"BTC\",\"slug\":\"bitcoin\",\"num_market_pairs\":10090,\"date_added\":\"2013-04-28T00:00:00.000Z\",\"tags\":[\"mineable\",\"pow\",\"sha-256\",\"store-of-value\",\"state-channel\",\"coinbase-ventures-portfolio\",\"three-arrows-capital-portfolio\",\"polychain-capital-portfolio\",\"binance-labs-portfolio\",\"blockchain-capital-portfolio\",\"boostvc-portfolio\",\"cms-holdings-portfolio\",\"dcg-portfolio\",\"dragonfly-capital-portfolio\",\"electric-capital-portfolio\",\"fabric-ventures-portfolio\",\"framework-ventures-portfolio\",\"galaxy-digital-portfolio\",\"huobi-capital-portfolio\",\"alameda-research-portfolio\",\"a16z-portfolio\",\"1confirmation-portfolio\",\"winklevoss-capital-portfolio\",\"usv-portfolio\",\"placeholder-ventures-portfolio\",\"pantera-capital-portfolio\",\"multicoin-capital-portfolio\",\"paradigm-portfolio\",\"btc-ecosystem\"],\"max_supply\":21000000,\"circulating_supply\":19316850,\"total_supply\":19316850,\"platform\":null,\"cmc_rank\":1,\"self_reported_circulating_supply\":null,\"self_reported_market_cap\":null,\"tvl_ratio\":null,\"last_updated\":\"2023-03-14T01:20:00.000Z\",\"quote\":{\"USD\":{\"price\":24283.590950413312,\"volume_24h\":47367308930.07404,\"volume_change_24h\":48.0113,\"percent_change_1h\":0.41015514,\"percent_change_24h\":7.97190612,\"percent_change_7d\":8.01445596,\"percent_change_30d\":11.26133376,\"percent_change_60d\":29.11977989,\"percent_change_90d\":36.45646242,\"market_cap\":469082483850.4914,\"market_cap_dominance\":43.6672,\"fully_diluted_market_cap\":509955409958.68,\"tvl\":null,\"last_updated\":\"2023-03-14T01:20:00.000Z\"}}},{\"id\":1027,\"name\":\"Ethereum\",\"symbol\":\"ETH\",\"slug\":\"ethereum\",\"num_market_pairs\":6575,\"date_added\":\"2015-08-07T00:00:00.000Z\",\"tags\":[\"pos\",\"smart-contracts\",\"ethereum-ecosystem\",\"coinbase-ventures-portfolio\",\"three-arrows-capital-portfolio\",\"polychain-capital-portfolio\",\"binance-labs-portfolio\",\"blockchain-capital-portfolio\",\"boostvc-portfolio\",\"cms-holdings-portfolio\",\"dcg-portfolio\",\"dragonfly-capital-portfolio\",\"electric-capital-portfolio\",\"fabric-ventures-portfolio\",\"framework-ventures-portfolio\",\"hashkey-capital-portfolio\",\"kenetic-capital-portfolio\",\"huobi-capital-portfolio\",\"alameda-research-portfolio\",\"a16z-portfolio\",\"1confirmation-portfolio\",\"winklevoss-capital-portfolio\",\"usv-portfolio\",\"placeholder-ventures-portfolio\",\"pantera-capital-portfolio\",\"multicoin-capital-portfolio\",\"paradigm-portfolio\",\"injective-ecosystem\"],\"max_supply\":null,\"circulating_supply\":122373866.2178,\"total_supply\":122373866.2178,\"platform\":null,\"cmc_rank\":2,\"self_reported_circulating_supply\":null,\"self_reported_market_cap\":null,\"tvl_ratio\":null,\"last_updated\":\"2023-03-14T01:20:00.000Z\",\"quote\":{\"USD\":{\"price\":1674.708102766487,\"volume_24h\":14838559672.840342,\"volume_change_24h\":19.1289,\"percent_change_1h\":-0.42923711,\"percent_change_24h\":3.73733176,\"percent_change_7d\":6.68235778,\"percent_change_30d\":9.17145755,\"percent_change_60d\":18.89829492,\"percent_change_90d\":26.67820413,\"market_cap\":204940505321.81174,\"market_cap_dominance\":19.0891,\"fully_diluted_market_cap\":204940505321.81,\"tvl\":null,\"last_updated\":\"2023-03-14T01:20:00.000Z\"}}},{\"id\":825,\"name\":\"Tether\",\"symbol\":\"USDT\",\"slug\":\"tether\",\"num_market_pairs\":49211,\"date_added\":\"2015-02-25T00:00:00.000Z\",\"tags\":[\"payments\",\"stablecoin\",\"asset-backed-stablecoin\",\"avalanche-ecosystem\",\"solana-ecosystem\",\"arbitrum-ecosytem\",\"moonriver-ecosystem\",\"injective-ecosystem\",\"bnb-chain\",\"usd-stablecoin\",\"optimism-ecosystem\"],\"max_supply\":null,\"circulating_supply\":72899554644.6048,\"total_supply\":73141766321.23428,\"platform\":{\"id\":1027,\"name\":\"Ethereum\",\"symbol\":\"ETH\",\"slug\":\"ethereum\",\"token_address\":\"0xdac17f958d2ee523a2206206994597c13d831ec7\"},\"cmc_rank\":3,\"self_reported_circulating_supply\":null,\"self_reported_market_cap\":null,\"tvl_ratio\":null,\"last_updated\":\"2023-03-14T01:20:00.000Z\",\"quote\":{\"USD\":{\"price\":1.0040815838863382,\"volume_24h\":68840648874.61086,\"volume_change_24h\":30.5996,\"percent_change_1h\":0.04801744,\"percent_change_24h\":-0.32162675,\"percent_change_7d\":0.40852061,\"percent_change_30d\":0.39202439,\"percent_change_60d\":0.39583194,\"percent_change_90d\":0.40335158,\"market_cap\":73197100292.16345,\"market_cap_dominance\":6.8146,\"fully_diluted_market_cap\":73440300576.07,\"tvl\":null,\"last_updated\":\"2023-03-14T01:20:00.000Z\"}}},{\"id\":1839,\"name\":\"BNB\",\"symbol\":\"BNB\",\"slug\":\"bnb\",\"num_market_pairs\":1214,\"date_added\":\"2017-07-25T00:00:00.000Z\",\"tags\":[\"marketplace\",\"centralized-exchange\",\"payments\",\"smart-contracts\",\"alameda-research-portfolio\",\"multicoin-capital-portfolio\",\"bnb-chain\"],\"max_supply\":null,\"circulating_supply\":157892409.26783478,\"total_supply\":159979963.59042934,\"platform\":null,\"cmc_rank\":4,\"self_reported_circulating_supply\":null,\"self_reported_market_cap\":null,\"tvl_ratio\":null,\"last_updated\":\"2023-03-14T01:20:00.000Z\",\"quote\":{\"USD\":{\"price\":307.7011138455664,\"volume_24h\":1094406095.0839932,\"volume_change_24h\":112.0125,\"percent_change_1h\":-0.45896453,\"percent_change_24h\":5.45189737,\"percent_change_7d\":6.64542907,\"percent_change_30d\":-0.53791554,\"percent_change_60d\":7.19014232,\"percent_change_90d\":12.99266911,\"market_cap\":48583670199.47279,\"market_cap_dominance\":4.5231,\"fully_diluted_market_cap\":49226012989.75,\"tvl\":null,\"last_updated\":\"2023-03-14T01:20:00.000Z\"}}},{\"id\":3408,\"name\":\"USD Coin\",\"symbol\":\"USDC\",\"slug\":\"usd-coin\",\"num_market_pairs\":10586,\"date_added\":\"2018-10-08T00:00:00.000Z\",\"tags\":[\"medium-of-exchange\",\"stablecoin\",\"asset-backed-stablecoin\",\"fantom-ecosystem\",\"arbitrum-ecosytem\",\"moonriver-ecosystem\",\"bnb-chain\",\"usd-stablecoin\",\"optimism-ecosystem\"],\"max_supply\":null,\"circulating_supply\":39509787916.138756,\"total_supply\":39509787916.138756,\"platform\":{\"id\":1027,\"name\":\"Ethereum\",\"symbol\":\"ETH\",\"slug\":\"ethereum\",\"token_address\":\"0xa0b86991c6218b36c1d19d4a2e9eb0ce3606eb48\"},\"cmc_rank\":5,\"self_reported_circulating_supply\":null,\"self_reported_market_cap\":null,\"tvl_ratio\":null,\"last_updated\":\"2023-03-14T01:20:00.000Z\",\"quote\":{\"USD\":{\"price\":0.999042750981916,\"volume_24h\":8606553692.75799,\"volume_change_24h\":-16.4747,\"percent_change_1h\":0.02416616,\"percent_change_24h\":0.55662377,\"percent_change_7d\":-0.10843492,\"percent_change_30d\":-0.08918804,\"percent_change_60d\":-0.09512081,\"percent_change_90d\":-0.10260247,\"market_cap\":39471967210.451324,\"market_cap_dominance\":3.6766,\"fully_diluted_market_cap\":39471967210.45,\"tvl\":null,\"last_updated\":\"2023-03-14T01:20:00.000Z\"}}},{\"id\":52,\"name\":\"XRP\",\"symbol\":\"XRP\",\"slug\":\"xrp\",\"num_market_pairs\":903,\"date_added\":\"2013-08-04T00:00:00.000Z\",\"tags\":[\"medium-of-exchange\",\"enterprise-solutions\",\"arrington-xrp-capital-portfolio\",\"galaxy-digital-portfolio\",\"a16z-portfolio\",\"pantera-capital-portfolio\"],\"max_supply\":100000000000,\"circulating_supply\":50950912949,\"total_supply\":99989113908,\"platform\":null,\"cmc_rank\":6,\"self_reported_circulating_supply\":null,\"self_reported_market_cap\":null,\"tvl_ratio\":null,\"last_updated\":\"2023-03-14T01:20:00.000Z\",\"quote\":{\"USD\":{\"price\":0.37157476307336806,\"volume_24h\":1638280516.0461397,\"volume_change_24h\":39.0638,\"percent_change_1h\":-0.35003823,\"percent_change_24h\":-1.03749601,\"percent_change_7d\":0.42595632,\"percent_change_30d\":-3.0011976,\"percent_change_60d\":-0.5153791,\"percent_change_90d\":-5.54460012,\"market_cap\":18932073407.396477,\"market_cap_dominance\":1.7622,\"fully_diluted_market_cap\":37157476307.34,\"tvl\":null,\"last_updated\":\"2023-03-14T01:20:00.000Z\"}}},{\"id\":2010,\"name\":\"Cardano\",\"symbol\":\"ADA\",\"slug\":\"cardano\",\"num_market_pairs\":672,\"date_added\":\"2017-10-01T00:00:00.000Z\",\"tags\":[\"dpos\",\"pos\",\"platform\",\"research\",\"smart-contracts\",\"staking\",\"cardano-ecosystem\",\"cardano\"],\"max_supply\":45000000000,\"circulating_supply\":34695596939.822,\"total_supply\":35573698990.423,\"platform\":null,\"cmc_rank\":7,\"self_reported_circulating_supply\":null,\"self_reported_market_cap\":null,\"tvl_ratio\":null,\"last_updated\":\"2023-03-14T01:20:00.000Z\",\"quote\":{\"USD\":{\"price\":0.34418161607141706,\"volume_24h\":603000530.3444833,\"volume_change_24h\":41.144,\"percent_change_1h\":-0.48842638,\"percent_change_24h\":0.99686355,\"percent_change_7d\":3.13272862,\"percent_change_30d\":-6.36938998,\"percent_change_60d\":5.18757675,\"percent_change_90d\":9.51496822,\"market_cap\":11941586625.310448,\"market_cap_dominance\":1.1117,\"fully_diluted_market_cap\":15488172723.21,\"tvl\":null,\"last_updated\":\"2023-03-14T01:20:00.000Z\"}}},{\"id\":3890,\"name\":\"Polygon\",\"symbol\":\"MATIC\",\"slug\":\"polygon\",\"num_market_pairs\":609,\"date_added\":\"2019-04-28T00:00:00.000Z\",\"tags\":[\"platform\",\"enterprise-solutions\",\"zero-knowledge-proofs\",\"scaling\",\"state-channel\",\"coinbase-ventures-portfolio\",\"binance-launchpad\",\"binance-labs-portfolio\",\"polygon-ecosystem\",\"moonriver-ecosystem\",\"injective-ecosystem\"],\"max_supply\":10000000000,\"circulating_supply\":8734317475.28493,\"total_supply\":10000000000,\"platform\":null,\"cmc_rank\":8,\"self_reported_circulating_supply\":null,\"self_reported_market_cap\":null,\"tvl_ratio\":null,\"last_updated\":\"2023-03-14T01:20:00.000Z\",\"quote\":{\"USD\":{\"price\":1.1884691216330272,\"volume_24h\":901875667.9683809,\"volume_change_24h\":18.1966,\"percent_change_1h\":-0.79344028,\"percent_change_24h\":2.59431693,\"percent_change_7d\":3.91780641,\"percent_change_30d\":-4.44955944,\"percent_change_60d\":29.93059674,\"percent_change_90d\":28.40217236,\"market_cap\":10380466617.91588,\"market_cap_dominance\":0.9669,\"fully_diluted_market_cap\":11884691216.33,\"tvl\":null,\"last_updated\":\"2023-03-14T01:20:00.000Z\"}}},{\"id\":74,\"name\":\"Dogecoin\",\"symbol\":\"DOGE\",\"slug\":\"dogecoin\",\"num_market_pairs\":656,\"date_added\":\"2013-12-15T00:00:00.000Z\",\"tags\":[\"mineable\",\"pow\",\"scrypt\",\"medium-of-exchange\",\"memes\",\"payments\",\"doggone-doggerel\",\"bnb-chain\"],\"max_supply\":null,\"circulating_supply\":132670764299.89409,\"total_supply\":132670764299.89409,\"platform\":null,\"cmc_rank\":9,\"self_reported_circulating_supply\":null,\"self_reported_market_cap\":null,\"tvl_ratio\":null,\"last_updated\":\"2023-03-14T01:20:00.000Z\",\"quote\":{\"USD\":{\"price\":0.0726643532072516,\"volume_24h\":505734293.30362695,\"volume_change_24h\":21.0419,\"percent_change_1h\":-0.4618144,\"percent_change_24h\":1.60270326,\"percent_change_7d\":-3.84982125,\"percent_change_30d\":-11.42060779,\"percent_change_60d\":-8.97339805,\"percent_change_90d\":-20.4493335,\"market_cap\":9640435277.363531,\"market_cap_dominance\":0.8975,\"fully_diluted_market_cap\":9640435277.36,\"tvl\":null,\"last_updated\":\"2023-03-14T01:20:00.000Z\"}}},{\"id\":4687,\"name\":\"Binance USD\",\"symbol\":\"BUSD\",\"slug\":\"binance-usd\",\"num_market_pairs\":6412,\"date_added\":\"2019-09-20T00:00:00.000Z\",\"tags\":[\"stablecoin\",\"asset-backed-stablecoin\",\"binance-chain\",\"harmony-ecosystem\",\"moonriver-ecosystem\",\"usd-stablecoin\",\"optimism-ecosystem\"],\"max_supply\":null,\"circulating_supply\":8375923985.893375,\"total_supply\":8375923985.893375,\"platform\":{\"id\":1839,\"name\":\"BNB\",\"symbol\":\"BNB\",\"slug\":\"bnb\",\"token_address\":\"BUSD-BD1\"},\"cmc_rank\":10,\"self_reported_circulating_supply\":null,\"self_reported_market_cap\":null,\"tvl_ratio\":null,\"last_updated\":\"2023-03-14T01:20:00.000Z\",\"quote\":{\"USD\":{\"price\":1.0012438168646152,\"volume_24h\":9781768260.05824,\"volume_change_24h\":47.6542,\"percent_change_1h\":0.0308781,\"percent_change_24h\":-0.09533857,\"percent_change_7d\":0.08611101,\"percent_change_30d\":0.11751357,\"percent_change_60d\":0.1237872,\"percent_change_90d\":0.11092333,\"market_cap\":8386342101.403765,\"market_cap_dominance\":0.7807,\"fully_diluted_market_cap\":8386342101.4,\"tvl\":null,\"last_updated\":\"2023-03-14T01:20:00.000Z\"}}},{\"id\":5426,\"name\":\"Solana\",\"symbol\":\"SOL\",\"slug\":\"solana\",\"num_market_pairs\":439,\"date_added\":\"2020-04-10T00:00:00.000Z\",\"tags\":[\"pos\",\"platform\",\"solana-ecosystem\",\"cms-holdings-portfolio\",\"kenetic-capital-portfolio\",\"alameda-research-portfolio\",\"multicoin-capital-portfolio\",\"okex-blockdream-ventures-portfolio\"],\"max_supply\":null,\"circulating_supply\":383097316.78879124,\"total_supply\":539312704.8875339,\"platform\":null,\"cmc_rank\":11,\"self_reported_circulating_supply\":null,\"self_reported_market_cap\":null,\"tvl_ratio\":null,\"last_updated\":\"2023-03-14T01:20:00.000Z\",\"quote\":{\"USD\":{\"price\":20.343746366150963,\"volume_24h\":1083240063.0242283,\"volume_change_24h\":44.2812,\"percent_change_1h\":-0.46576247,\"percent_change_24h\":0.21135119,\"percent_change_7d\":-1.89522819,\"percent_change_30d\":-1.77654009,\"percent_change_60d\":23.42818218,\"percent_change_90d\":46.34220169,\"market_cap\":7793634646.304156,\"market_cap_dominance\":0.7256,\"fully_diluted_market_cap\":10971640880.27,\"tvl\":null,\"last_updated\":\"2023-03-14T01:20:00.000Z\"}}},{\"id\":6636,\"name\":\"Polkadot\",\"symbol\":\"DOT\",\"slug\":\"polkadot-new\",\"num_market_pairs\":479,\"date_added\":\"2020-08-19T00:00:00.000Z\",\"tags\":[\"substrate\",\"polkadot\",\"binance-chain\",\"polkadot-ecosystem\",\"three-arrows-capital-portfolio\",\"polychain-capital-portfolio\",\"arrington-xrp-capital-portfolio\",\"blockchain-capital-portfolio\",\"boostvc-portfolio\",\"cms-holdings-portfolio\",\"coinfund-portfolio\",\"fabric-ventures-portfolio\",\"fenbushi-capital-portfolio\",\"hashkey-capital-portfolio\",\"kenetic-capital-portfolio\",\"1confirmation-portfolio\",\"placeholder-ventures-portfolio\",\"pantera-capital-portfolio\",\"exnetwork-capital-portfolio\",\"web3\",\"spartan-group\",\"injective-ecosystem\",\"bnb-chain\"],\"max_supply\":null,\"circulating_supply\":1165884169.8814414,\"total_supply\":1292307840.1866212,\"platform\":null,\"cmc_rank\":12,\"self_reported_circulating_supply\":904869778,\"self_reported_market_cap\":5521772662.406954,\"tvl_ratio\":null,\"last_updated\":\"2023-03-14T01:20:00.000Z\",\"quote\":{\"USD\":{\"price\":6.102284324946207,\"volume_24h\":371371821.2535102,\"volume_change_24h\":22.3442,\"percent_change_1h\":-0.29567597,\"percent_change_24h\":1.8684419,\"percent_change_7d\":2.54272257,\"percent_change_30d\":-2.5007307,\"percent_change_60d\":17.33631884,\"percent_change_90d\":15.49270045,\"market_cap\":7114556694.57044,\"market_cap_dominance\":0.6624,\"fully_diluted_market_cap\":7886029876.18,\"tvl\":null,\"last_updated\":\"2023-03-14T01:20:00.000Z\"}}},{\"id\":4943,\"name\":\"Dai\",\"symbol\":\"DAI\",\"slug\":\"multi-collateral-dai\",\"num_market_pairs\":1973,\"date_added\":\"2019-11-22T00:00:00.000Z\",\"tags\":[\"defi\",\"stablecoin\",\"asset-backed-stablecoin\",\"ethereum-ecosystem\",\"avalanche-ecosystem\",\"polygon-ecosystem\",\"fantom-ecosystem\",\"arbitrum-ecosytem\",\"harmony-ecosystem\",\"moonriver-ecosystem\",\"bnb-chain\",\"usd-stablecoin\",\"optimism-ecosystem\"],\"max_supply\":null,\"circulating_supply\":6477612114.29069,\"total_supply\":6477612114.29069,\"platform\":{\"id\":1027,\"name\":\"Ethereum\",\"symbol\":\"ETH\",\"slug\":\"ethereum\",\"token_address\":\"0x6b175474e89094c44da98b954eedeac495271d0f\"},\"cmc_rank\":13,\"self_reported_circulating_supply\":null,\"self_reported_market_cap\":null,\"tvl_ratio\":null,\"last_updated\":\"2023-03-14T01:20:00.000Z\",\"quote\":{\"USD\":{\"price\":0.9984975877873754,\"volume_24h\":993463263.3081743,\"volume_change_24h\":-28.4632,\"percent_change_1h\":-0.03836403,\"percent_change_24h\":0.47079998,\"percent_change_7d\":-0.14589872,\"percent_change_30d\":-0.0860828,\"percent_change_60d\":-0.13172,\"percent_change_90d\":-0.10369949,\"market_cap\":6467880070.741535,\"market_cap_dominance\":0.6023,\"fully_diluted_market_cap\":6467880070.74,\"tvl\":null,\"last_updated\":\"2023-03-14T01:20:00.000Z\"}}},{\"id\":1958,\"name\":\"TRON\",\"symbol\":\"TRX\",\"slug\":\"tron\",\"num_market_pairs\":737,\"date_added\":\"2017-09-13T00:00:00.000Z\",\"tags\":[\"media\",\"payments\",\"tron-ecosystem\"],\"max_supply\":null,\"circulating_supply\":91263776752.48488,\"total_supply\":91263776928.48488,\"platform\":null,\"cmc_rank\":14,\"self_reported_circulating_supply\":71659659264,\"self_reported_market_cap\":4804699917.465399,\"tvl_ratio\":null,\"last_updated\":\"2023-03-14T01:20:00.000Z\",\"quote\":{\"USD\":{\"price\":0.06704888031583425,\"volume_24h\":541622310.1011207,\"volume_change_24h\":24.0737,\"percent_change_1h\":-0.19458736,\"percent_change_24h\":-2.08791671,\"percent_change_7d\":-0.72262945,\"percent_change_30d\":5.17221631,\"percent_change_60d\":17.68718166,\"percent_change_90d\":22.76457252,\"market_cap\":6119134044.6483755,\"market_cap_dominance\":0.5696,\"fully_diluted_market_cap\":6119134056.45,\"tvl\":null,\"last_updated\":\"2023-03-14T01:20:00.000Z\"}}},{\"id\":5994,\"name\":\"Shiba Inu\",\"symbol\":\"SHIB\",\"slug\":\"shiba-inu\",\"num_market_pairs\":493,\"date_added\":\"2020-08-01T00:00:00.000Z\",\"tags\":[\"memes\",\"ethereum-ecosystem\",\"doggone-doggerel\"],\"max_supply\":null,\"circulating_supply\":549063278876301.94,\"total_supply\":589735030408322.8,\"platform\":{\"id\":1027,\"name\":\"Ethereum\",\"symbol\":\"ETH\",\"slug\":\"ethereum\",\"token_address\":\"0x95ad61b0a150d79219dcf64e1e6cc01f0b64c4ce\"},\"cmc_rank\":15,\"self_reported_circulating_supply\":null,\"self_reported_market_cap\":null,\"tvl_ratio\":null,\"last_updated\":\"2023-03-14T01:20:00.000Z\",\"quote\":{\"USD\":{\"price\":0.000011066585551405222,\"volume_24h\":389563497.19732165,\"volume_change_24h\":45.1713,\"percent_change_1h\":-0.16411236,\"percent_change_24h\":1.09105437,\"percent_change_7d\":-1.63394696,\"percent_change_30d\":-13.53254353,\"percent_change_60d\":18.12457398,\"percent_change_90d\":19.55855031,\"market_cap\":6076255748.819659,\"market_cap_dominance\":0.5658,\"fully_diluted_market_cap\":6526353166.67,\"tvl\":null,\"last_updated\":\"2023-03-14T01:20:00.000Z\"}}},{\"id\":2,\"name\":\"Litecoin\",\"symbol\":\"LTC\",\"slug\":\"litecoin\",\"num_market_pairs\":887,\"date_added\":\"2013-04-28T00:00:00.000Z\",\"tags\":[\"mineable\",\"pow\",\"scrypt\",\"medium-of-exchange\"],\"max_supply\":84000000,\"circulating_supply\":72476264.59396102,\"total_supply\":84000000,\"platform\":null,\"cmc_rank\":16,\"self_reported_circulating_supply\":null,\"self_reported_market_cap\":null,\"tvl_ratio\":null,\"last_updated\":\"2023-03-14T01:20:00.000Z\",\"quote\":{\"USD\":{\"price\":81.08655418658869,\"volume_24h\":938708505.4140679,\"volume_change_24h\":12.2244,\"percent_change_1h\":-0.72222659,\"percent_change_24h\":3.10232063,\"percent_change_7d\":-8.18910172,\"percent_change_30d\":-13.89280097,\"percent_change_60d\":-5.08888902,\"percent_change_90d\":4.17497338,\"market_cap\":5876850556.2397585,\"market_cap_dominance\":0.5471,\"fully_diluted_market_cap\":6811270551.67,\"tvl\":null,\"last_updated\":\"2023-03-14T01:20:00.000Z\"}}},{\"id\":5805,\"name\":\"Avalanche\",\"symbol\":\"AVAX\",\"slug\":\"avalanche\",\"num_market_pairs\":387,\"date_added\":\"2020-07-13T00:00:00.000Z\",\"tags\":[\"defi\",\"smart-contracts\",\"three-arrows-capital-portfolio\",\"polychain-capital-portfolio\",\"avalanche-ecosystem\",\"cms-holdings-portfolio\",\"dragonfly-capital-portfolio\",\"moonriver-ecosystem\",\"injective-ecosystem\"],\"max_supply\":720000000,\"circulating_supply\":325542866.97978634,\"total_supply\":421605586.97978634,\"platform\":null,\"cmc_rank\":17,\"self_reported_circulating_supply\":null,\"self_reported_market_cap\":null,\"tvl_ratio\":null,\"last_updated\":\"2023-03-14T01:20:00.000Z\",\"quote\":{\"USD\":{\"price\":16.4839174935034,\"volume_24h\":302406643.59119344,\"volume_change_24h\":10.1536,\"percent_change_1h\":-0.3308789,\"percent_change_24h\":0.84825235,\"percent_change_7d\":-0.53712481,\"percent_change_30d\":-8.35145827,\"percent_change_60d\":8.45310444,\"percent_change_90d\":19.48891585,\"market_cap\":5366221759.893351,\"market_cap_dominance\":0.4996,\"fully_diluted_market_cap\":11868420595.32,\"tvl\":null,\"last_updated\":\"2023-03-14T01:20:00.000Z\"}}},{\"id\":7083,\"name\":\"Uniswap\",\"symbol\":\"UNI\",\"slug\":\"uniswap\",\"num_market_pairs\":623,\"date_added\":\"2020-09-17T00:00:00.000Z\",\"tags\":[\"decentralized-exchange-dex-token\",\"defi\",\"dao\",\"yield-farming\",\"amm\",\"coinbase-ventures-portfolio\",\"three-arrows-capital-portfolio\",\"governance\",\"blockchain-capital-portfolio\",\"defiance-capital-portfolio\",\"alameda-research-portfolio\",\"a16z-portfolio\",\"pantera-capital-portfolio\",\"parafi-capital\",\"paradigm-portfolio\",\"arbitrum-ecosytem\",\"injective-ecosystem\",\"optimism-ecosystem\"],\"max_supply\":1000000000,\"circulating_supply\":762209326.5354977,\"total_supply\":1000000000,\"platform\":{\"id\":1027,\"name\":\"Ethereum\",\"symbol\":\"ETH\",\"slug\":\"ethereum\",\"token_address\":\"0x1f9840a85d5af5bf1d1762f925bdaddc4201f984\"},\"cmc_rank\":18,\"self_reported_circulating_supply\":null,\"self_reported_market_cap\":null,\"tvl_ratio\":4.39383913,\"last_updated\":\"2023-03-14T01:20:00.000Z\",\"quote\":{\"USD\":{\"price\":6.098334149849485,\"volume_24h\":147148877.30989462,\"volume_change_24h\":25.3392,\"percent_change_1h\":-0.28707826,\"percent_change_24h\":0.26856799,\"percent_change_7d\":-4.65151187,\"percent_change_30d\":-5.73111251,\"percent_change_60d\":0.12985014,\"percent_change_90d\":-0.03948434,\"market_cap\":4648207165.345202,\"market_cap_dominance\":0.4327,\"fully_diluted_market_cap\":6098334149.85,\"tvl\":1057891977.67294,\"last_updated\":\"2023-03-14T01:20:00.000Z\"}}},{\"id\":3717,\"name\":\"Wrapped Bitcoin\",\"symbol\":\"WBTC\",\"slug\":\"wrapped-bitcoin\",\"num_market_pairs\":930,\"date_added\":\"2019-01-30T00:00:00.000Z\",\"tags\":[\"medium-of-exchange\",\"defi\",\"wrapped-tokens\",\"fantom-ecosystem\",\"arbitrum-ecosytem\",\"moonriver-ecosystem\",\"optimism-ecosystem\",\"btc-ecosystem\"],\"max_supply\":null,\"circulating_supply\":153264.02425694,\"total_supply\":153264.02425694,\"platform\":{\"id\":1027,\"name\":\"Ethereum\",\"symbol\":\"ETH\",\"slug\":\"ethereum\",\"token_address\":\"0x2260fac5e5542a773aa44fbcfedf7c193bc2c599\"},\"cmc_rank\":19,\"self_reported_circulating_supply\":null,\"self_reported_market_cap\":null,\"tvl_ratio\":null,\"last_updated\":\"2023-03-14T01:20:00.000Z\",\"quote\":{\"USD\":{\"price\":24196.53727088016,\"volume_24h\":531089263.30914396,\"volume_change_24h\":60.9738,\"percent_change_1h\":0.18697075,\"percent_change_24h\":7.71379418,\"percent_change_7d\":7.73554951,\"percent_change_30d\":11.00833957,\"percent_change_60d\":29.15276553,\"percent_change_90d\":36.1209384,\"market_cap\":3708458675.2181296,\"market_cap_dominance\":0.3453,\"fully_diluted_market_cap\":3708458675.22,\"tvl\":null,\"last_updated\":\"2023-03-14T01:20:00.000Z\"}}},{\"id\":1975,\"name\":\"Chainlink\",\"symbol\":\"LINK\",\"slug\":\"chainlink\",\"num_market_pairs\":997,\"date_added\":\"2017-09-20T00:00:00.000Z\",\"tags\":[\"platform\",\"defi\",\"oracles\",\"smart-contracts\",\"substrate\",\"polkadot\",\"polkadot-ecosystem\",\"avalanche-ecosystem\",\"solana-ecosystem\",\"framework-ventures-portfolio\",\"polygon-ecosystem\",\"fantom-ecosystem\",\"cardano-ecosystem\",\"web3\",\"near-protocol-ecosystem\",\"arbitrum-ecosytem\",\"cardano\",\"injective-ecosystem\",\"optimism-ecosystem\"],\"max_supply\":1000000000,\"circulating_supply\":517099970.4527867,\"total_supply\":1000000000,\"platform\":{\"id\":1027,\"name\":\"Ethereum\",\"symbol\":\"ETH\",\"slug\":\"ethereum\",\"token_address\":\"0x514910771af9ca656af840dff83e8264ecf986ca\"},\"cmc_rank\":20,\"self_reported_circulating_supply\":null,\"self_reported_market_cap\":null,\"tvl_ratio\":null,\"last_updated\":\"2023-03-14T01:20:00.000Z\",\"quote\":{\"USD\":{\"price\":6.744932686881097,\"volume_24h\":377408133.5550577,\"volume_change_24h\":28.2844,\"percent_change_1h\":-0.43839101,\"percent_change_24h\":0.87651446,\"percent_change_7d\":-2.5857317,\"percent_change_30d\":-3.19737528,\"percent_change_60d\":6.47130208,\"percent_change_90d\":-2.35367822,\"market_cap\":3487804493.0922503,\"market_cap_dominance\":0.3247,\"fully_diluted_market_cap\":6744932686.88,\"tvl\":null,\"last_updated\":\"2023-03-14T01:20:00.000Z\"}}},{\"id\":3794,\"name\":\"Cosmos\",\"symbol\":\"ATOM\",\"slug\":\"cosmos\",\"num_market_pairs\":413,\"date_added\":\"2019-03-14T00:00:00.000Z\",\"tags\":[\"platform\",\"cosmos-ecosystem\",\"content-creation\",\"interoperability\",\"polychain-capital-portfolio\",\"dragonfly-capital-portfolio\",\"hashkey-capital-portfolio\",\"1confirmation-portfolio\",\"paradigm-portfolio\",\"exnetwork-capital-portfolio\",\"injective-ecosystem\"],\"max_supply\":null,\"circulating_supply\":286370297,\"total_supply\":0,\"platform\":null,\"cmc_rank\":21,\"self_reported_circulating_supply\":null,\"self_reported_market_cap\":null,\"tvl_ratio\":null,\"last_updated\":\"2023-03-14T01:20:00.000Z\",\"quote\":{\"USD\":{\"price\":11.971012089705548,\"volume_24h\":191931530.92241725,\"volume_change_24h\":12.6881,\"percent_change_1h\":-0.37615698,\"percent_change_24h\":0.77641276,\"percent_change_7d\":-0.40107985,\"percent_change_30d\":-12.64277177,\"percent_change_60d\":-1.50715482,\"percent_change_90d\":23.25604041,\"market_cap\":3428142287.5195684,\"market_cap_dominance\":0.3191,\"fully_diluted_market_cap\":0,\"tvl\":null,\"last_updated\":\"2023-03-14T01:20:00.000Z\"}}},{\"id\":3957,\"name\":\"UNUS SED LEO\",\"symbol\":\"LEO\",\"slug\":\"unus-sed-leo\",\"num_market_pairs\":24,\"date_added\":\"2019-05-21T00:00:00.000Z\",\"tags\":[\"marketplace\",\"centralized-exchange\",\"discount-token\",\"payments\",\"kenetic-capital-portfolio\",\"alameda-research-portfolio\"],\"max_supply\":null,\"circulating_supply\":953954130,\"total_supply\":985239504,\"platform\":{\"id\":1027,\"name\":\"Ethereum\",\"symbol\":\"ETH\",\"slug\":\"ethereum\",\"token_address\":\"0x2af5d2ad76741191d15dfe7bf6ac92d4bd912ca3\"},\"cmc_rank\":22,\"self_reported_circulating_supply\":null,\"self_reported_market_cap\":null,\"tvl_ratio\":null,\"last_updated\":\"2023-03-14T01:20:00.000Z\",\"quote\":{\"USD\":{\"price\":3.365309213847301,\"volume_24h\":2622576.909279,\"volume_change_24h\":108.8012,\"percent_change_1h\":-0.24962137,\"percent_change_24h\":-10.80637874,\"percent_change_7d\":0.07841869,\"percent_change_30d\":0.30406355,\"percent_change_60d\":-2.65537814,\"percent_change_90d\":-9.43083733,\"market_cap\":3210350623.276686,\"market_cap_dominance\":0.299,\"fully_diluted_market_cap\":3315635580.66,\"tvl\":null,\"last_updated\":\"2023-03-14T01:20:00.000Z\"}}},{\"id\":11419,\"name\":\"Toncoin\",\"symbol\":\"TON\",\"slug\":\"toncoin\",\"num_market_pairs\":89,\"date_added\":\"2021-08-26T13:40:22.000Z\",\"tags\":[\"pos\"],\"max_supply\":5000000000,\"circulating_supply\":1221401181,\"total_supply\":5047558528,\"platform\":null,\"cmc_rank\":23,\"self_reported_circulating_supply\":3414166606,\"self_reported_market_cap\":8256182364.652935,\"tvl_ratio\":null,\"last_updated\":\"2023-03-14T01:20:00.000Z\",\"quote\":{\"USD\":{\"price\":2.4182130860701574,\"volume_24h\":28405312.96676233,\"volume_change_24h\":20.7071,\"percent_change_1h\":0.07937622,\"percent_change_24h\":1.58647411,\"percent_change_7d\":1.04431321,\"percent_change_30d\":8.6659913,\"percent_change_60d\":11.40456625,\"percent_change_90d\":2.77765857,\"market_cap\":2953608319.235745,\"market_cap_dominance\":0.275,\"fully_diluted_market_cap\":12091065430.35,\"tvl\":null,\"last_updated\":\"2023-03-14T01:20:00.000Z\"}}},{\"id\":3897,\"name\":\"OKB\",\"symbol\":\"OKB\",\"slug\":\"okb\",\"num_market_pairs\":93,\"date_added\":\"2019-04-30T00:00:00.000Z\",\"tags\":[\"marketplace\",\"centralized-exchange\",\"discount-token\",\"alameda-research-portfolio\"],\"max_supply\":null,\"circulating_supply\":60000000,\"total_supply\":300000000,\"platform\":{\"id\":1027,\"name\":\"Ethereum\",\"symbol\":\"ETH\",\"slug\":\"ethereum\",\"token_address\":\"0x75231f58b43240c9718dd58b4967c5114342a86c\"},\"cmc_rank\":24,\"self_reported_circulating_supply\":246638974,\"self_reported_market_cap\":11624363443.87613,\"tvl_ratio\":null,\"last_updated\":\"2023-03-14T01:20:00.000Z\",\"quote\":{\"USD\":{\"price\":47.13108903816689,\"volume_24h\":78692740.05472846,\"volume_change_24h\":69.0241,\"percent_change_1h\":-0.29661508,\"percent_change_24h\":8.98057273,\"percent_change_7d\":-1.46858429,\"percent_change_30d\":14.67308968,\"percent_change_60d\":60.74558953,\"percent_change_90d\":104.24510491,\"market_cap\":2827865342.2900133,\"market_cap_dominance\":0.2633,\"fully_diluted_market_cap\":14139326711.45,\"tvl\":null,\"last_updated\":\"2023-03-14T01:20:00.000Z\"}}},{\"id\":328,\"name\":\"Monero\",\"symbol\":\"XMR\",\"slug\":\"monero\",\"num_market_pairs\":208,\"date_added\":\"2014-05-21T00:00:00.000Z\",\"tags\":[\"mineable\",\"pow\",\"medium-of-exchange\",\"privacy\",\"ringct\",\"boostvc-portfolio\",\"electric-capital-portfolio\",\"galaxy-digital-portfolio\"],\"max_supply\":null,\"circulating_supply\":18252063.84311279,\"total_supply\":18252063.84311279,\"platform\":null,\"cmc_rank\":25,\"self_reported_circulating_supply\":null,\"self_reported_market_cap\":null,\"tvl_ratio\":null,\"last_updated\":\"2023-03-14T01:20:00.000Z\",\"quote\":{\"USD\":{\"price\":151.92184405693027,\"volume_24h\":104601248.8675003,\"volume_change_24h\":9.3084,\"percent_change_1h\":-0.28987174,\"percent_change_24h\":0.36695643,\"percent_change_7d\":-1.5870481,\"percent_change_30d\":-5.8463994,\"percent_change_60d\":-8.15284686,\"percent_change_90d\":0.2120759,\"market_cap\":2772887196.8905163,\"market_cap_dominance\":0.2582,\"fully_diluted_market_cap\":2772887196.89,\"tvl\":null,\"last_updated\":\"2023-03-14T01:20:00.000Z\"}}},{\"id\":1321,\"name\":\"Ethereum Classic\",\"symbol\":\"ETC\",\"slug\":\"ethereum-classic\",\"num_market_pairs\":381,\"date_added\":\"2016-07-24T00:00:00.000Z\",\"tags\":[\"mineable\",\"pow\",\"ethash\",\"platform\",\"smart-contracts\",\"dcg-portfolio\"],\"max_supply\":210700000,\"circulating_supply\":139884346.61099645,\"total_supply\":210700000,\"platform\":null,\"cmc_rank\":26,\"self_reported_circulating_supply\":null,\"self_reported_market_cap\":null,\"tvl_ratio\":null,\"last_updated\":\"2023-03-14T01:20:00.000Z\",\"quote\":{\"USD\":{\"price\":19.53961896623386,\"volume_24h\":294885625.55607456,\"volume_change_24h\":39.4425,\"percent_change_1h\":-0.31193904,\"percent_change_24h\":-2.0742694,\"percent_change_7d\":-0.9311432,\"percent_change_30d\":-8.65970318,\"percent_change_60d\":-8.20939719,\"percent_change_90d\":1.26560594,\"market_cap\":2733286832.1194577,\"market_cap_dominance\":0.2545,\"fully_diluted_market_cap\":4116997716.19,\"tvl\":null,\"last_updated\":\"2023-03-14T01:20:00.000Z\"}}},{\"id\":2280,\"name\":\"Filecoin\",\"symbol\":\"FIL\",\"slug\":\"filecoin\",\"num_market_pairs\":286,\"date_added\":\"2017-12-13T00:00:00.000Z\",\"tags\":[\"mineable\",\"distributed-computing\",\"filesharing\",\"storage\",\"polychain-capital-portfolio\",\"blockchain-capital-portfolio\",\"boostvc-portfolio\",\"dcg-portfolio\",\"hashkey-capital-portfolio\",\"a16z-portfolio\",\"winklevoss-capital-portfolio\",\"pantera-capital-portfolio\",\"web3\"],\"max_supply\":null,\"circulating_supply\":403252416,\"total_supply\":403252416,\"platform\":null,\"cmc_rank\":27,\"self_reported_circulating_supply\":null,\"self_reported_market_cap\":null,\"tvl_ratio\":null,\"last_updated\":\"2023-03-14T01:20:00.000Z\",\"quote\":{\"USD\":{\"price\":6.329684820047142,\"volume_24h\":838803772.1844685,\"volume_change_24h\":80.0092,\"percent_change_1h\":-0.6912416,\"percent_change_24h\":4.59901027,\"percent_change_7d\":3.01438024,\"percent_change_30d\":24.9248107,\"percent_change_60d\":63.38754659,\"percent_change_90d\":46.01539144,\"market_cap\":2552460696.202535,\"market_cap_dominance\":0.2377,\"fully_diluted_market_cap\":2552460696.2,\"tvl\":null,\"last_updated\":\"2023-03-14T01:20:00.000Z\"}}},{\"id\":1831,\"name\":\"Bitcoin Cash\",\"symbol\":\"BCH\",\"slug\":\"bitcoin-cash\",\"num_market_pairs\":680,\"date_added\":\"2017-07-23T00:00:00.000Z\",\"tags\":[\"mineable\",\"pow\",\"sha-256\",\"marketplace\",\"medium-of-exchange\",\"store-of-value\",\"enterprise-solutions\",\"payments\",\"btc-ecosystem\"],\"max_supply\":21000000,\"circulating_supply\":19336300,\"total_supply\":19336300,\"platform\":null,\"cmc_rank\":28,\"self_reported_circulating_supply\":null,\"self_reported_market_cap\":null,\"tvl_ratio\":null,\"last_updated\":\"2023-03-14T01:20:00.000Z\",\"quote\":{\"USD\":{\"price\":127.52447109740751,\"volume_24h\":233722037.34064886,\"volume_change_24h\":18.2452,\"percent_change_1h\":0.37931137,\"percent_change_24h\":4.29505141,\"percent_change_7d\":1.90016521,\"percent_change_30d\":2.35139565,\"percent_change_60d\":5.47933724,\"percent_change_90d\":15.80451284,\"market_cap\":2465851430.480801,\"market_cap_dominance\":0.2296,\"fully_diluted_market_cap\":2678013893.05,\"tvl\":null,\"last_updated\":\"2023-03-14T01:20:00.000Z\"}}},{\"id\":8000,\"name\":\"Lido DAO\",\"symbol\":\"LDO\",\"slug\":\"lido-dao\",\"num_market_pairs\":160,\"date_added\":\"2020-12-15T00:00:00.000Z\",\"tags\":[\"defi\",\"dao\",\"three-arrows-capital-portfolio\",\"paradigm-portfolio\",\"arbitrum-ecosytem\",\"liquid-staking-derivatives\",\"optimism-ecosystem\"],\"max_supply\":1000000000,\"circulating_supply\":853805570.6512052,\"total_supply\":1000000000,\"platform\":{\"id\":1027,\"name\":\"Ethereum\",\"symbol\":\"ETH\",\"slug\":\"ethereum\",\"token_address\":\"0x5a98fcbea516cf06857215779fd812ca3bef1b32\"},\"cmc_rank\":29,\"self_reported_circulating_supply\":853815797.2777483,\"self_reported_market_cap\":2272292958.211021,\"tvl_ratio\":0.23964578,\"last_updated\":\"2023-03-14T01:20:00.000Z\",\"quote\":{\"USD\":{\"price\":2.6613386229861926,\"volume_24h\":301695380.5292371,\"volume_change_24h\":44.0283,\"percent_change_1h\":-0.24869179,\"percent_change_24h\":3.57656007,\"percent_change_7d\":1.77009382,\"percent_change_30d\":11.53672794,\"percent_change_60d\":31.93092382,\"percent_change_90d\":137.81087207,\"market_cap\":2272265741.694819,\"market_cap_dominance\":0.2115,\"fully_diluted_market_cap\":2661338622.99,\"tvl\":9481768115.26507,\"last_updated\":\"2023-03-14T01:20:00.000Z\"}}},{\"id\":512,\"name\":\"Stellar\",\"symbol\":\"XLM\",\"slug\":\"stellar\",\"num_market_pairs\":481,\"date_added\":\"2014-08-05T00:00:00.000Z\",\"tags\":[\"medium-of-exchange\",\"enterprise-solutions\",\"decentralized-exchange-dex-token\",\"smart-contracts\",\"hashkey-capital-portfolio\"],\"max_supply\":50001806812,\"circulating_supply\":26453356082.678837,\"total_supply\":50001787430.75762,\"platform\":null,\"cmc_rank\":30,\"self_reported_circulating_supply\":null,\"self_reported_market_cap\":null,\"tvl_ratio\":null,\"last_updated\":\"2023-03-14T01:20:00.000Z\",\"quote\":{\"USD\":{\"price\":0.08456224283940313,\"volume_24h\":85788756.93970811,\"volume_change_24h\":13.8096,\"percent_change_1h\":-0.21610537,\"percent_change_24h\":1.42378518,\"percent_change_7d\":0.8817681,\"percent_change_30d\":-1.38840137,\"percent_change_60d\":4.24941631,\"percent_change_90d\":0.63326431,\"market_cap\":2236955120.9806895,\"market_cap_dominance\":0.2083,\"fully_diluted_market_cap\":4228264930.05,\"tvl\":null,\"last_updated\":\"2023-03-14T01:20:00.000Z\"}}},{\"id\":21794,\"name\":\"Aptos\",\"symbol\":\"APT\",\"slug\":\"aptos\",\"num_market_pairs\":163,\"date_added\":\"2022-10-19T01:50:25.000Z\",\"tags\":[\"binance-labs-portfolio\",\"aptos-ecosystem\",\"circle-ventures-portfolio\"],\"max_supply\":0,\"circulating_supply\":171819136,\"total_supply\":1023645224,\"platform\":{\"id\":21794,\"name\":\"Aptos\",\"symbol\":\"APT\",\"slug\":\"aptos\",\"token_address\":\"0x1::aptos_coin::AptosCoin\"},\"cmc_rank\":31,\"self_reported_circulating_supply\":130000000,\"self_reported_market_cap\":1595628740.15866,\"tvl_ratio\":null,\"last_updated\":\"2023-03-14T01:20:00.000Z\",\"quote\":{\"USD\":{\"price\":12.274067231989692,\"volume_24h\":755929182.0981892,\"volume_change_24h\":37.9561,\"percent_change_1h\":-0.20510202,\"percent_change_24h\":3.06309341,\"percent_change_7d\":7.22023345,\"percent_change_30d\":-10.91873718,\"percent_change_60d\":90.40489005,\"percent_change_90d\":163.6969734,\"market_cap\":2108919627.0063803,\"market_cap_dominance\":0.1963,\"fully_diluted_market_cap\":12564290301.08,\"tvl\":null,\"last_updated\":\"2023-03-14T01:20:00.000Z\"}}},{\"id\":2563,\"name\":\"TrueUSD\",\"symbol\":\"TUSD\",\"slug\":\"trueusd\",\"num_market_pairs\":335,\"date_added\":\"2018-03-06T00:00:00.000Z\",\"tags\":[\"store-of-value\",\"stablecoin\",\"asset-backed-stablecoin\",\"avalanche-ecosystem\",\"arbitrum-ecosytem\",\"bnb-chain\",\"usd-stablecoin\"],\"max_supply\":null,\"circulating_supply\":2024310141.9,\"total_supply\":2024310141.9,\"platform\":{\"id\":1027,\"name\":\"Ethereum\",\"symbol\":\"ETH\",\"slug\":\"ethereum\",\"token_address\":\"0x0000000000085d4780B73119b644AE5ecd22b376\"},\"cmc_rank\":32,\"self_reported_circulating_supply\":null,\"self_reported_market_cap\":null,\"tvl_ratio\":null,\"last_updated\":\"2023-03-14T01:20:00.000Z\",\"quote\":{\"USD\":{\"price\":1.0003393898924529,\"volume_24h\":49646149.69610684,\"volume_change_24h\":-35.1941,\"percent_change_1h\":-0.01547797,\"percent_change_24h\":-0.31197348,\"percent_change_7d\":0.03384642,\"percent_change_30d\":0.0714543,\"percent_change_60d\":0.02884401,\"percent_change_90d\":0.03659281,\"market_cap\":2024997172.3013508,\"market_cap_dominance\":0.1886,\"fully_diluted_market_cap\":2024997172.3,\"tvl\":null,\"last_updated\":\"2023-03-14T01:20:00.000Z\"}}},{\"id\":3635,\"name\":\"Cronos\",\"symbol\":\"CRO\",\"slug\":\"cronos\",\"num_market_pairs\":180,\"date_added\":\"2018-12-14T00:00:00.000Z\",\"tags\":[\"medium-of-exchange\",\"cosmos-ecosystem\",\"centralized-exchange\",\"mobile\",\"payments\",\"injective-ecosystem\"],\"max_supply\":30263013692,\"circulating_supply\":25263013692,\"total_supply\":30263013692,\"platform\":{\"id\":1027,\"name\":\"Ethereum\",\"symbol\":\"ETH\",\"slug\":\"ethereum\",\"token_address\":\"0xa0b73e1ff0b80914ab6fe0444e65848c4c34450b\"},\"cmc_rank\":33,\"self_reported_circulating_supply\":null,\"self_reported_market_cap\":null,\"tvl_ratio\":null,\"last_updated\":\"2023-03-14T01:20:00.000Z\",\"quote\":{\"USD\":{\"price\":0.0719368597496182,\"volume_24h\":24579637.04071147,\"volume_change_24h\":50.5547,\"percent_change_1h\":-0.13394768,\"percent_change_24h\":4.33109208,\"percent_change_7d\":-0.46610703,\"percent_change_30d\":-6.39690452,\"percent_change_60d\":8.7460576,\"percent_change_90d\":14.89790093,\"market_cap\":1817341872.8140883,\"market_cap_dominance\":0.1692,\"fully_diluted_market_cap\":2177026171.56,\"tvl\":null,\"last_updated\":\"2023-03-14T01:20:00.000Z\"}}},{\"id\":4642,\"name\":\"Hedera\",\"symbol\":\"HBAR\",\"slug\":\"hedera\",\"num_market_pairs\":126,\"date_added\":\"2019-09-17T00:00:00.000Z\",\"tags\":[\"dag\",\"marketplace\",\"enterprise-solutions\",\"payments\",\"dcg-portfolio\"],\"max_supply\":50000000000,\"circulating_supply\":28078985416.804264,\"total_supply\":50000000000,\"platform\":null,\"cmc_rank\":34,\"self_reported_circulating_supply\":null,\"self_reported_market_cap\":null,\"tvl_ratio\":null,\"last_updated\":\"2023-03-14T01:20:00.000Z\",\"quote\":{\"USD\":{\"price\":0.06389750836836657,\"volume_24h\":52570628.61133926,\"volume_change_24h\":51.3819,\"percent_change_1h\":-0.57866709,\"percent_change_24h\":1.1039073,\"percent_change_7d\":-0.84703059,\"percent_change_30d\":-28.32576732,\"percent_change_60d\":35.64281337,\"percent_change_90d\":33.83907192,\"market_cap\":1794177205.6454933,\"market_cap_dominance\":0.167,\"fully_diluted_market_cap\":3194875418.42,\"tvl\":null,\"last_updated\":\"2023-03-14T01:20:00.000Z\"}}},{\"id\":6535,\"name\":\"NEAR Protocol\",\"symbol\":\"NEAR\",\"slug\":\"near-protocol\",\"num_market_pairs\":222,\"date_added\":\"2020-08-11T00:00:00.000Z\",\"tags\":[\"platform\",\"staking\",\"coinbase-ventures-portfolio\",\"three-arrows-capital-portfolio\",\"arrington-xrp-capital-portfolio\",\"coinfund-portfolio\",\"electric-capital-portfolio\",\"fabric-ventures-portfolio\",\"kenetic-capital-portfolio\",\"near-protocol-ecosystem\",\"injective-ecosystem\",\"circle-ventures-portfolio\"],\"max_supply\":1000000000,\"circulating_supply\":866021029,\"total_supply\":1000000000,\"platform\":null,\"cmc_rank\":35,\"self_reported_circulating_supply\":null,\"self_reported_market_cap\":null,\"tvl_ratio\":null,\"last_updated\":\"2023-03-14T01:20:00.000Z\",\"quote\":{\"USD\":{\"price\":2.0296727714215446,\"volume_24h\":158286705.95853394,\"volume_change_24h\":39.5641,\"percent_change_1h\":-0.64717139,\"percent_change_24h\":1.99370741,\"percent_change_7d\":-2.35832089,\"percent_change_30d\":-10.62900172,\"percent_change_60d\":12.03128272,\"percent_change_90d\":18.45752469,\"market_cap\":1757739302.0397677,\"market_cap_dominance\":0.1637,\"fully_diluted_market_cap\":2029672771.42,\"tvl\":null,\"last_updated\":\"2023-03-14T01:20:00.000Z\"}}},{\"id\":3077,\"name\":\"VeChain\",\"symbol\":\"VET\",\"slug\":\"vechain\",\"num_market_pairs\":213,\"date_added\":\"2017-08-22T00:00:00.000Z\",\"tags\":[\"logistics\",\"data-provenance\",\"iot\",\"smart-contracts\",\"fenbushi-capital-portfolio\"],\"max_supply\":86712634466,\"circulating_supply\":72511146418,\"total_supply\":85985041177,\"platform\":null,\"cmc_rank\":36,\"self_reported_circulating_supply\":72511146418,\"self_reported_market_cap\":1697111999.4091918,\"tvl_ratio\":null,\"last_updated\":\"2023-03-14T01:20:00.000Z\",\"quote\":{\"USD\":{\"price\":0.023404843024077533,\"volume_24h\":66322254.69906212,\"volume_change_24h\":29.4058,\"percent_change_1h\":-0.29170951,\"percent_change_24h\":5.36995354,\"percent_change_7d\":-5.65881092,\"percent_change_30d\":-1.79101483,\"percent_change_60d\":24.07969061,\"percent_change_90d\":22.57351621,\"market_cap\":1697111999.4091918,\"market_cap_dominance\":0.158,\"fully_diluted_market_cap\":2029495597.88,\"tvl\":null,\"last_updated\":\"2023-03-14T01:20:00.000Z\"}}},{\"id\":18876,\"name\":\"ApeCoin\",\"symbol\":\"APE\",\"slug\":\"apecoin-ape\",\"num_market_pairs\":248,\"date_added\":\"2022-03-17T12:26:36.000Z\",\"tags\":[\"collectibles-nfts\",\"content-creation\",\"gaming\",\"entertainment\",\"dao\",\"governance\",\"metaverse\",\"animoca-brands-portfolio\"],\"max_supply\":1000000000,\"circulating_supply\":368593750,\"total_supply\":1000000000,\"platform\":{\"id\":1027,\"name\":\"Ethereum\",\"symbol\":\"ETH\",\"slug\":\"ethereum\",\"token_address\":\"0x4d224452801aced8b2f0aebe155379bb5d594381\"},\"cmc_rank\":37,\"self_reported_circulating_supply\":368593750,\"self_reported_market_cap\":1633985907.9111562,\"tvl_ratio\":null,\"last_updated\":\"2023-03-14T01:20:00.000Z\",\"quote\":{\"USD\":{\"price\":4.433026625956507,\"volume_24h\":152468590.99181014,\"volume_change_24h\":-10.1219,\"percent_change_1h\":-0.83763112,\"percent_change_24h\":-2.85100736,\"percent_change_7d\":-8.25468374,\"percent_change_30d\":-16.13899053,\"percent_change_60d\":-7.31117129,\"percent_change_90d\":10.05540253,\"market_cap\":1633985907.9111562,\"market_cap_dominance\":0.1521,\"fully_diluted_market_cap\":4433026625.96,\"tvl\":null,\"last_updated\":\"2023-03-14T01:20:00.000Z\"}}},{\"id\":8916,\"name\":\"Internet Computer\",\"symbol\":\"ICP\",\"slug\":\"internet-computer\",\"num_market_pairs\":143,\"date_added\":\"2021-03-23T00:00:00.000Z\",\"tags\":[\"platform\",\"distributed-computing\",\"collectibles-nfts\",\"defi\",\"interoperability\",\"smart-contracts\",\"dao\",\"wallet\",\"polychain-capital-portfolio\",\"lending-borowing\",\"metaverse\",\"electric-capital-portfolio\",\"hashkey-capital-portfolio\",\"a16z-portfolio\",\"multicoin-capital-portfolio\",\"exnetwork-capital-portfolio\",\"web3\",\"internet-computer-ecosystem\"],\"max_supply\":null,\"circulating_supply\":295979033.75517154,\"total_supply\":496696979.52338827,\"platform\":null,\"cmc_rank\":38,\"self_reported_circulating_supply\":295979035.79202956,\"self_reported_market_cap\":1580708900.0953825,\"tvl_ratio\":null,\"last_updated\":\"2023-03-14T01:20:00.000Z\",\"quote\":{\"USD\":{\"price\":5.340611019511773,\"volume_24h\":66410362.28143939,\"volume_change_24h\":40.0245,\"percent_change_1h\":-0.4363382,\"percent_change_24h\":0.62740532,\"percent_change_7d\":-0.52824521,\"percent_change_30d\":2.25329449,\"percent_change_60d\":19.66319394,\"percent_change_90d\":27.48421504,\"market_cap\":1580708889.2173162,\"market_cap_dominance\":0.1472,\"fully_diluted_market_cap\":2652665362.2,\"tvl\":null,\"last_updated\":\"2023-03-14T01:20:00.000Z\"}}},{\"id\":3155,\"name\":\"Quant\",\"symbol\":\"QNT\",\"slug\":\"quant\",\"num_market_pairs\":139,\"date_added\":\"2018-08-10T00:00:00.000Z\",\"tags\":[\"platform\",\"interoperability\"],\"max_supply\":14881364,\"circulating_supply\":12072738,\"total_supply\":14881364.27,\"platform\":{\"id\":1027,\"name\":\"Ethereum\",\"symbol\":\"ETH\",\"slug\":\"ethereum\",\"token_address\":\"0x4a220e6096b25eadb88358cb44068a3248254675\"},\"cmc_rank\":39,\"self_reported_circulating_supply\":null,\"self_reported_market_cap\":null,\"tvl_ratio\":null,\"last_updated\":\"2023-03-14T01:20:00.000Z\",\"quote\":{\"USD\":{\"price\":127.61348755280045,\"volume_24h\":40124800.70903488,\"volume_change_24h\":29.7254,\"percent_change_1h\":0.09606247,\"percent_change_24h\":1.25681298,\"percent_change_7d\":1.09315589,\"percent_change_30d\":-4.43535783,\"percent_change_60d\":4.70357489,\"percent_change_90d\":4.18534566,\"market_cap\":1540644200.491221,\"market_cap_dominance\":0.1434,\"fully_diluted_market_cap\":1899062759.58,\"tvl\":null,\"last_updated\":\"2023-03-14T01:20:00.000Z\"}}},{\"id\":4030,\"name\":\"Algorand\",\"symbol\":\"ALGO\",\"slug\":\"algorand\",\"num_market_pairs\":284,\"date_added\":\"2019-06-20T00:00:00.000Z\",\"tags\":[\"pos\",\"platform\",\"research\",\"smart-contracts\",\"arrington-xrp-capital-portfolio\",\"kenetic-capital-portfolio\",\"usv-portfolio\",\"multicoin-capital-portfolio\",\"exnetwork-capital-portfolio\"],\"max_supply\":10000000000,\"circulating_supply\":7116078898.501989,\"total_supply\":7338277056.262183,\"platform\":null,\"cmc_rank\":40,\"self_reported_circulating_supply\":null,\"self_reported_market_cap\":null,\"tvl_ratio\":null,\"last_updated\":\"2023-03-14T01:20:00.000Z\",\"quote\":{\"USD\":{\"price\":0.21135561296197033,\"volume_24h\":106416383.31742805,\"volume_change_24h\":36.459,\"percent_change_1h\":-0.95292461,\"percent_change_24h\":4.01392166,\"percent_change_7d\":-6.34388795,\"percent_change_30d\":-16.96921659,\"percent_change_60d\":0.09039459,\"percent_change_90d\":-5.55252706,\"market_cap\":1504023217.4786305,\"market_cap_dominance\":0.1401,\"fully_diluted_market_cap\":2113556129.62,\"tvl\":null,\"last_updated\":\"2023-03-14T01:20:00.000Z\"}}},{\"id\":6719,\"name\":\"The Graph\",\"symbol\":\"GRT\",\"slug\":\"the-graph\",\"num_market_pairs\":272,\"date_added\":\"2020-12-17T00:00:00.000Z\",\"tags\":[\"ai-big-data\",\"enterprise-solutions\",\"defi\",\"coinbase-ventures-portfolio\",\"solana-ecosystem\",\"analytics\",\"coinfund-portfolio\",\"dcg-portfolio\",\"fabric-ventures-portfolio\",\"framework-ventures-portfolio\",\"ledgerprime-portfolio\",\"multicoin-capital-portfolio\",\"parafi-capital\",\"polygon-ecosystem\",\"fantom-ecosystem\",\"web3\",\"near-protocol-ecosystem\",\"arbitrum-ecosytem\",\"spartan-group\",\"injective-ecosystem\"],\"max_supply\":0,\"circulating_supply\":8837018790.291042,\"total_supply\":10604833771.750835,\"platform\":{\"id\":1027,\"name\":\"Ethereum\",\"symbol\":\"ETH\",\"slug\":\"ethereum\",\"token_address\":\"0xc944e90c64b2c07662a292be6244bdf05cda44a7\"},\"cmc_rank\":41,\"self_reported_circulating_supply\":null,\"self_reported_market_cap\":null,\"tvl_ratio\":null,\"last_updated\":\"2023-03-14T01:20:00.000Z\",\"quote\":{\"USD\":{\"price\":0.14644478923425383,\"volume_24h\":131432751.76388521,\"volume_change_24h\":77.7139,\"percent_change_1h\":0.97189865,\"percent_change_24h\":9.80272101,\"percent_change_7d\":1.39658934,\"percent_change_30d\":-10.36671946,\"percent_change_60d\":98.06386841,\"percent_change_90d\":115.73435122,\"market_cap\":1294135354.2033124,\"market_cap_dominance\":0.1205,\"fully_diluted_market_cap\":1553022646.57,\"tvl\":null,\"last_updated\":\"2023-03-14T01:20:00.000Z\"}}},{\"id\":1765,\"name\":\"EOS\",\"symbol\":\"EOS\",\"slug\":\"eos\",\"num_market_pairs\":517,\"date_added\":\"2017-07-01T00:00:00.000Z\",\"tags\":[\"medium-of-exchange\",\"enterprise-solutions\",\"smart-contracts\",\"eos\",\"fenbushi-capital-portfolio\",\"galaxy-digital-portfolio\"],\"max_supply\":null,\"circulating_supply\":1081263745.2063,\"total_supply\":1084371464.3115,\"platform\":null,\"cmc_rank\":42,\"self_reported_circulating_supply\":1085254375.6186,\"self_reported_market_cap\":1172318839.7815802,\"tvl_ratio\":null,\"last_updated\":\"2023-03-14T01:20:00.000Z\",\"quote\":{\"USD\":{\"price\":1.0802249372303643,\"volume_24h\":239990029.85874975,\"volume_change_24h\":8.5887,\"percent_change_1h\":-0.3367674,\"percent_change_24h\":1.66154544,\"percent_change_7d\":-11.03771801,\"percent_change_30d\":2.42884132,\"percent_change_60d\":9.64982057,\"percent_change_90d\":7.9397287,\"market_cap\":1168008061.294944,\"market_cap_dominance\":0.1088,\"fully_diluted_market_cap\":1171365096.97,\"tvl\":null,\"last_updated\":\"2023-03-14T01:20:00.000Z\"}}},{\"id\":3513,\"name\":\"Fantom\",\"symbol\":\"FTM\",\"slug\":\"fantom\",\"num_market_pairs\":426,\"date_added\":\"2018-10-29T00:00:00.000Z\",\"tags\":[\"platform\",\"enterprise-solutions\",\"defi\",\"research\",\"scaling\",\"smart-contracts\",\"fantom-ecosystem\",\"injective-ecosystem\"],\"max_supply\":3175000000,\"circulating_supply\":2778185516.9965014,\"total_supply\":3175000000,\"platform\":null,\"cmc_rank\":43,\"self_reported_circulating_supply\":null,\"self_reported_market_cap\":null,\"tvl_ratio\":null,\"last_updated\":\"2023-03-14T01:20:00.000Z\",\"quote\":{\"USD\":{\"price\":0.4141052046619217,\"volume_24h\":367348671.4247615,\"volume_change_24h\":37.4054,\"percent_change_1h\":0.15360614,\"percent_change_24h\":5.27920659,\"percent_change_7d\":-1.83915777,\"percent_change_30d\":-12.19639476,\"percent_change_60d\":52.15493159,\"percent_change_90d\":63.43842381,\"market_cap\":1150461082.1046228,\"market_cap_dominance\":0.1072,\"fully_diluted_market_cap\":1314784024.8,\"tvl\":null,\"last_updated\":\"2023-03-14T01:20:00.000Z\"}}},{\"id\":11221,\"name\":\"BitDAO\",\"symbol\":\"BIT\",\"slug\":\"bitdao\",\"num_market_pairs\":54,\"date_added\":\"2021-08-11T00:00:00.000Z\",\"tags\":[\"dao\",\"governance\",\"dragonfly-capital-portfolio\",\"fenbushi-capital-portfolio\",\"pantera-capital-portfolio\",\"spartan-group\"],\"max_supply\":10000000000,\"circulating_supply\":2090946168.860899,\"total_supply\":10000000000,\"platform\":{\"id\":1027,\"name\":\"Ethereum\",\"symbol\":\"ETH\",\"slug\":\"ethereum\",\"token_address\":\"0x1A4b46696b2bB4794Eb3D4c26f1c55F9170fa4C5\"},\"cmc_rank\":44,\"self_reported_circulating_supply\":3000000000,\"self_reported_market_cap\":1581411965.0966048,\"tvl_ratio\":null,\"last_updated\":\"2023-03-14T01:20:00.000Z\",\"quote\":{\"USD\":{\"price\":0.5271373216988683,\"volume_24h\":11113108.46056873,\"volume_change_24h\":-6.0525,\"percent_change_1h\":-0.06672007,\"percent_change_24h\":3.55336097,\"percent_change_7d\":-1.19849999,\"percent_change_30d\":-7.56065004,\"percent_change_60d\":15.90767253,\"percent_change_90d\":62.58465426,\"market_cap\":1102215763.2698438,\"market_cap_dominance\":0.1026,\"fully_diluted_market_cap\":5271373216.99,\"tvl\":null,\"last_updated\":\"2023-03-14T01:20:00.000Z\"}}},{\"id\":1966,\"name\":\"Decentraland\",\"symbol\":\"MANA\",\"slug\":\"decentraland\",\"num_market_pairs\":344,\"date_added\":\"2017-09-17T00:00:00.000Z\",\"tags\":[\"platform\",\"collectibles-nfts\",\"gaming\",\"payments\",\"metaverse\",\"boostvc-portfolio\",\"dcg-portfolio\",\"fabric-ventures-portfolio\",\"kenetic-capital-portfolio\",\"polygon-ecosystem\",\"play-to-earn\"],\"max_supply\":null,\"circulating_supply\":1855084191.7804768,\"total_supply\":2193539027.320146,\"platform\":{\"id\":1027,\"name\":\"Ethereum\",\"symbol\":\"ETH\",\"slug\":\"ethereum\",\"token_address\":\"0x0f5d2fb29fb7d3cfee444a200298f468908cc942\"},\"cmc_rank\":45,\"self_reported_circulating_supply\":null,\"self_reported_market_cap\":null,\"tvl_ratio\":null,\"last_updated\":\"2023-03-14T01:20:00.000Z\",\"quote\":{\"USD\":{\"price\":0.5934994430580764,\"volume_24h\":117291012.62485039,\"volume_change_24h\":29.0834,\"percent_change_1h\":-0.60019049,\"percent_change_24h\":2.29942268,\"percent_change_7d\":-3.35884407,\"percent_change_30d\":-13.54961816,\"percent_change_60d\":43.71354116,\"percent_change_90d\":51.23943354,\"market_cap\":1100991434.6475549,\"market_cap_dominance\":0.1025,\"fully_diluted_market_cap\":1301864191.04,\"tvl\":null,\"last_updated\":\"2023-03-14T01:20:00.000Z\"}}},{\"id\":4847,\"name\":\"Stacks\",\"symbol\":\"STX\",\"slug\":\"stacks\",\"num_market_pairs\":77,\"date_added\":\"2019-10-28T00:00:00.000Z\",\"tags\":[\"mineable\",\"platform\",\"collectibles-nfts\",\"defi\",\"smart-contracts\",\"metaverse\",\"arrington-xrp-capital-portfolio\",\"blockchain-capital-portfolio\",\"dcg-portfolio\",\"fabric-ventures-portfolio\",\"hashkey-capital-portfolio\",\"huobi-capital-portfolio\",\"usv-portfolio\",\"web3\",\"injective-ecosystem\",\"btc-ecosystem\"],\"max_supply\":1818000000,\"circulating_supply\":1366380442.22082,\"total_supply\":1352464600,\"platform\":null,\"cmc_rank\":46,\"self_reported_circulating_supply\":1048765672.087772,\"self_reported_market_cap\":837084427.2044487,\"tvl_ratio\":null,\"last_updated\":\"2023-03-14T01:20:00.000Z\",\"quote\":{\"USD\":{\"price\":0.7981615431196079,\"volume_24h\":397299591.24661595,\"volume_change_24h\":78.2679,\"percent_change_1h\":-1.08157739,\"percent_change_24h\":5.66303569,\"percent_change_7d\":6.95253516,\"percent_change_30d\":174.4110309,\"percent_change_60d\":227.81124023,\"percent_change_90d\":175.49690311,\"market_cap\":1090592322.251422,\"market_cap_dominance\":0.1015,\"fully_diluted_market_cap\":1451057685.39,\"tvl\":null,\"last_updated\":\"2023-03-14T01:20:00.000Z\"}}},{\"id\":6892,\"name\":\"MultiversX\",\"symbol\":\"EGLD\",\"slug\":\"multiversx-egld\",\"num_market_pairs\":141,\"date_added\":\"2020-09-04T00:00:00.000Z\",\"tags\":[\"binance-launchpad\",\"binance-labs-portfolio\",\"electric-capital-portfolio\",\"exnetwork-capital-portfolio\",\"elrond-ecosystem\",\"injective-ecosystem\",\"bnb-chain\"],\"max_supply\":31415926,\"circulating_supply\":25126820,\"total_supply\":25131972,\"platform\":null,\"cmc_rank\":47,\"self_reported_circulating_supply\":25126820,\"self_reported_market_cap\":1077475222.9428709,\"tvl_ratio\":null,\"last_updated\":\"2023-03-14T01:20:00.000Z\",\"quote\":{\"USD\":{\"price\":42.88147974725297,\"volume_24h\":43316817.30265866,\"volume_change_24h\":54.2898,\"percent_change_1h\":-0.04292893,\"percent_change_24h\":4.50180971,\"percent_change_7d\":-2.4583694,\"percent_change_30d\":-3.02014579,\"percent_change_60d\":14.7837482,\"percent_change_90d\":-2.17795119,\"market_cap\":1077475222.9428709,\"market_cap_dominance\":0.1003,\"fully_diluted_market_cap\":1347161394.51,\"tvl\":null,\"last_updated\":\"2023-03-14T01:20:00.000Z\"}}},{\"id\":7278,\"name\":\"Aave\",\"symbol\":\"AAVE\",\"slug\":\"aave\",\"num_market_pairs\":514,\"date_added\":\"2020-10-02T00:00:00.000Z\",\"tags\":[\"defi\",\"dao\",\"yield-farming\",\"three-arrows-capital-portfolio\",\"governance\",\"lending-borowing\",\"blockchain-capital-portfolio\",\"defiance-capital-portfolio\",\"framework-ventures-portfolio\",\"alameda-research-portfolio\",\"pantera-capital-portfolio\",\"parafi-capital\",\"polygon-ecosystem\",\"fantom-ecosystem\",\"optimism-ecosystem\"],\"max_supply\":16000000,\"circulating_supply\":14093192.58056459,\"total_supply\":16000000,\"platform\":{\"id\":1027,\"name\":\"Ethereum\",\"symbol\":\"ETH\",\"slug\":\"ethereum\",\"token_address\":\"0x7Fc66500c84A76Ad7e9c93437bFc5Ac33E2DDaE9\"},\"cmc_rank\":48,\"self_reported_circulating_supply\":null,\"self_reported_market_cap\":null,\"tvl_ratio\":0.20529968,\"last_updated\":\"2023-03-14T01:20:00.000Z\",\"quote\":{\"USD\":{\"price\":75.77705729311373,\"volume_24h\":87463119.29258369,\"volume_change_24h\":15.2737,\"percent_change_1h\":-0.69467696,\"percent_change_24h\":2.21616382,\"percent_change_7d\":-1.78819725,\"percent_change_30d\":-3.8739143,\"percent_change_60d\":12.72610057,\"percent_change_90d\":22.27669972,\"market_cap\":1067940661.6203283,\"market_cap_dominance\":0.0994,\"fully_diluted_market_cap\":1212432916.69,\"tvl\":5201862399.63099,\"last_updated\":\"2023-03-14T01:20:00.000Z\"}}},{\"id\":2416,\"name\":\"Theta Network\",\"symbol\":\"THETA\",\"slug\":\"theta-network\",\"num_market_pairs\":140,\"date_added\":\"2018-01-17T00:00:00.000Z\",\"tags\":[\"media\",\"collectibles-nfts\",\"content-creation\",\"defi\",\"video\",\"metaverse\",\"huobi-capital-portfolio\",\"web3\"],\"max_supply\":1000000000,\"circulating_supply\":1000000000,\"total_supply\":1000000000,\"platform\":null,\"cmc_rank\":49,\"self_reported_circulating_supply\":null,\"self_reported_market_cap\":null,\"tvl_ratio\":null,\"last_updated\":\"2023-03-14T01:20:00.000Z\",\"quote\":{\"USD\":{\"price\":1.0219754128183742,\"volume_24h\":30618876.29939281,\"volume_change_24h\":57.4879,\"percent_change_1h\":-0.16564352,\"percent_change_24h\":3.34015859,\"percent_change_7d\":-0.10429944,\"percent_change_30d\":-4.36168954,\"percent_change_60d\":21.29870328,\"percent_change_90d\":20.25603913,\"market_cap\":1021975412.8183743,\"market_cap_dominance\":0.0951,\"fully_diluted_market_cap\":1021975412.82,\"tvl\":null,\"last_updated\":\"2023-03-14T01:20:00.000Z\"}}},{\"id\":4558,\"name\":\"Flow\",\"symbol\":\"FLOW\",\"slug\":\"flow\",\"num_market_pairs\":120,\"date_added\":\"2021-01-27T00:00:00.000Z\",\"tags\":[\"collectibles-nfts\",\"coinbase-ventures-portfolio\",\"coinfund-portfolio\",\"dcg-portfolio\",\"ledgerprime-portfolio\",\"a16z-portfolio\",\"animoca-brands-portfolio\"],\"max_supply\":null,\"circulating_supply\":1036200000,\"total_supply\":1417972341,\"platform\":null,\"cmc_rank\":50,\"self_reported_circulating_supply\":null,\"self_reported_market_cap\":null,\"tvl_ratio\":null,\"last_updated\":\"2023-03-14T01:20:00.000Z\",\"quote\":{\"USD\":{\"price\":0.9859073529539052,\"volume_24h\":60674775.98514603,\"volume_change_24h\":73.8265,\"percent_change_1h\":-0.41247175,\"percent_change_24h\":3.87129292,\"percent_change_7d\":-6.86267599,\"percent_change_30d\":-5.2517517,\"percent_change_60d\":11.46432391,\"percent_change_90d\":2.72458069,\"market_cap\":1021597199.1308366,\"market_cap_dominance\":0.0951,\"fully_diluted_market_cap\":1397989357.28,\"tvl\":null,\"last_updated\":\"2023-03-14T01:20:00.000Z\"}}},{\"id\":2011,\"name\":\"Tezos\",\"symbol\":\"XTZ\",\"slug\":\"tezos\",\"num_market_pairs\":264,\"date_added\":\"2017-10-06T00:00:00.000Z\",\"tags\":[\"pos\",\"platform\",\"enterprise-solutions\",\"collectibles-nfts\",\"defi\",\"smart-contracts\",\"polychain-capital-portfolio\",\"boostvc-portfolio\",\"winklevoss-capital-portfolio\"],\"max_supply\":null,\"circulating_supply\":930541358.098814,\"total_supply\":951821559.745968,\"platform\":null,\"cmc_rank\":51,\"self_reported_circulating_supply\":null,\"self_reported_market_cap\":null,\"tvl_ratio\":null,\"last_updated\":\"2023-03-14T01:20:00.000Z\",\"quote\":{\"USD\":{\"price\":1.0896708013482541,\"volume_24h\":30184966.42958578,\"volume_change_24h\":26.074,\"percent_change_1h\":-0.39111547,\"percent_change_24h\":1.98399323,\"percent_change_7d\":-4.48415981,\"percent_change_30d\":0.9045942,\"percent_change_60d\":22.95474288,\"percent_change_90d\":11.75645551,\"market_cap\":1013983747.3672273,\"market_cap_dominance\":0.0944,\"fully_diluted_market_cap\":1037172161.75,\"tvl\":null,\"last_updated\":\"2023-03-14T01:20:00.000Z\"}}},{\"id\":6783,\"name\":\"Axie Infinity\",\"symbol\":\"AXS\",\"slug\":\"axie-infinity\",\"num_market_pairs\":296,\"date_added\":\"2020-08-31T00:00:00.000Z\",\"tags\":[\"collectibles-nfts\",\"gaming\",\"binance-launchpad\",\"metaverse\",\"defiance-capital-portfolio\",\"play-to-earn\",\"animoca-brands-portfolio\"],\"max_supply\":270000000,\"circulating_supply\":113918072.61362292,\"total_supply\":270000000,\"platform\":{\"id\":1027,\"name\":\"Ethereum\",\"symbol\":\"ETH\",\"slug\":\"ethereum\",\"token_address\":\"0xbb0e17ef65f82ab018d8edd776e8dd940327b28b\"},\"cmc_rank\":52,\"self_reported_circulating_supply\":null,\"self_reported_market_cap\":null,\"tvl_ratio\":null,\"last_updated\":\"2023-03-14T01:20:00.000Z\",\"quote\":{\"USD\":{\"price\":8.298603424575596,\"volume_24h\":76622064.45835581,\"volume_change_24h\":7.2745,\"percent_change_1h\":-0.71768491,\"percent_change_24h\":1.61942586,\"percent_change_7d\":-7.21763249,\"percent_change_30d\":-19.12445396,\"percent_change_60d\":4.9204398,\"percent_change_90d\":8.32657915,\"market_cap\":945360907.5124626,\"market_cap_dominance\":0.088,\"fully_diluted_market_cap\":2240622924.64,\"tvl\":null,\"last_updated\":\"2023-03-14T01:20:00.000Z\"}}},{\"id\":6210,\"name\":\"The Sandbox\",\"symbol\":\"SAND\",\"slug\":\"the-sandbox\",\"num_market_pairs\":339,\"date_added\":\"2020-08-05T00:00:00.000Z\",\"tags\":[\"collectibles-nfts\",\"content-creation\",\"gaming\",\"ethereum-ecosystem\",\"binance-launchpad\",\"metaverse\",\"play-to-earn\",\"animoca-brands-portfolio\"],\"max_supply\":3000000000,\"circulating_supply\":1499470108.2233226,\"total_supply\":3000000000,\"platform\":{\"id\":1027,\"name\":\"Ethereum\",\"symbol\":\"ETH\",\"slug\":\"ethereum\",\"token_address\":\"0x3845badAde8e6dFF049820680d1F14bD3903a5d0\"},\"cmc_rank\":53,\"self_reported_circulating_supply\":null,\"self_reported_market_cap\":null,\"tvl_ratio\":null,\"last_updated\":\"2023-03-14T01:20:00.000Z\",\"quote\":{\"USD\":{\"price\":0.6147301426343472,\"volume_24h\":230794248.0165992,\"volume_change_24h\":29.3992,\"percent_change_1h\":-0.40771082,\"percent_change_24h\":1.29334976,\"percent_change_7d\":-2.73906598,\"percent_change_30d\":-16.73401478,\"percent_change_60d\":15.53703323,\"percent_change_90d\":8.28746593,\"market_cap\":921769473.5040631,\"market_cap_dominance\":0.0859,\"fully_diluted_market_cap\":1844190427.9,\"tvl\":null,\"last_updated\":\"2023-03-14T01:20:00.000Z\"}}},{\"id\":1518,\"name\":\"Maker\",\"symbol\":\"MKR\",\"slug\":\"maker\",\"num_market_pairs\":312,\"date_added\":\"2017-01-29T00:00:00.000Z\",\"tags\":[\"store-of-value\",\"defi\",\"dao\",\"polychain-capital-portfolio\",\"governance\",\"lending-borowing\",\"dragonfly-capital-portfolio\",\"electric-capital-portfolio\",\"a16z-portfolio\",\"1confirmation-portfolio\",\"placeholder-ventures-portfolio\",\"pantera-capital-portfolio\",\"paradigm-portfolio\",\"near-protocol-ecosystem\",\"arbitrum-ecosytem\",\"spartan-group\",\"bnb-chain\",\"real-world-assets\"],\"max_supply\":1005577,\"circulating_supply\":977631.03695089,\"total_supply\":977631.03695089,\"platform\":{\"id\":1027,\"name\":\"Ethereum\",\"symbol\":\"ETH\",\"slug\":\"ethereum\",\"token_address\":\"0x9f8f72aa9304c8b593d555f12ef6589cc3a579a2\"},\"cmc_rank\":54,\"self_reported_circulating_supply\":null,\"self_reported_market_cap\":null,\"tvl_ratio\":0.10670778,\"last_updated\":\"2023-03-14T01:20:00.000Z\",\"quote\":{\"USD\":{\"price\":904.4137453049159,\"volume_24h\":199205354.91370642,\"volume_change_24h\":-0.6855,\"percent_change_1h\":-1.28271265,\"percent_change_24h\":-3.1868109,\"percent_change_7d\":-1.92937433,\"percent_change_30d\":25.53897568,\"percent_change_60d\":38.91128505,\"percent_change_90d\":49.34995531,\"market_cap\":884182947.6550831,\"market_cap_dominance\":0.0823,\"fully_diluted_market_cap\":909457660.76,\"tvl\":8286021361.99978,\"last_updated\":\"2023-03-14T01:20:00.000Z\"}}},{\"id\":2087,\"name\":\"KuCoin Token\",\"symbol\":\"KCS\",\"slug\":\"kucoin-token\",\"num_market_pairs\":39,\"date_added\":\"2017-10-24T00:00:00.000Z\",\"tags\":[\"marketplace\",\"centralized-exchange\",\"discount-token\",\"algorand-ecosystem\"],\"max_supply\":170118638,\"circulating_supply\":98379860.95,\"total_supply\":145879861,\"platform\":{\"id\":1027,\"name\":\"Ethereum\",\"symbol\":\"ETH\",\"slug\":\"ethereum\",\"token_address\":\"0xf34960d9d60be18cc1d5afc1a6f012a723a28811\"},\"cmc_rank\":55,\"self_reported_circulating_supply\":null,\"self_reported_market_cap\":null,\"tvl_ratio\":null,\"last_updated\":\"2023-03-14T01:20:00.000Z\",\"quote\":{\"USD\":{\"price\":8.958484753192101,\"volume_24h\":2286596.52549488,\"volume_change_24h\":63.3082,\"percent_change_1h\":0.14037286,\"percent_change_24h\":2.14505689,\"percent_change_7d\":4.13715857,\"percent_change_30d\":10.26809132,\"percent_change_60d\":22.32675987,\"percent_change_90d\":34.41375638,\"market_cap\":881334484.341734,\"market_cap_dominance\":0.0821,\"fully_diluted_market_cap\":1524005224.76,\"tvl\":null,\"last_updated\":\"2023-03-14T01:20:00.000Z\"}}},{\"id\":3330,\"name\":\"Pax Dollar\",\"symbol\":\"USDP\",\"slug\":\"paxos-standard\",\"num_market_pairs\":92,\"date_added\":\"2018-09-27T00:00:00.000Z\",\"tags\":[\"store-of-value\",\"stablecoin\",\"asset-backed-stablecoin\",\"bnb-chain\",\"usd-stablecoin\"],\"max_supply\":null,\"circulating_supply\":878084065.080683,\"total_supply\":878084065.080683,\"platform\":{\"id\":1027,\"name\":\"Ethereum\",\"symbol\":\"ETH\",\"slug\":\"ethereum\",\"token_address\":\"0x8e870d67f660d95d5be530380d0ec0bd388289e1\"},\"cmc_rank\":56,\"self_reported_circulating_supply\":null,\"self_reported_market_cap\":null,\"tvl_ratio\":null,\"last_updated\":\"2023-03-14T01:20:00.000Z\",\"quote\":{\"USD\":{\"price\":0.996872793437937,\"volume_24h\":90555335.91411746,\"volume_change_24h\":0.7517,\"percent_change_1h\":0.00444123,\"percent_change_24h\":-0.50450436,\"percent_change_7d\":0.06212219,\"percent_change_30d\":-0.41893973,\"percent_change_60d\":-0.14589728,\"percent_change_90d\":-0.41796636,\"market_cap\":875338114.8303198,\"market_cap_dominance\":0.0815,\"fully_diluted_market_cap\":875338114.83,\"tvl\":null,\"last_updated\":\"2023-03-14T01:20:00.000Z\"}}},{\"id\":10603,\"name\":\"ImmutableX\",\"symbol\":\"IMX\",\"slug\":\"immutable-x\",\"num_market_pairs\":126,\"date_added\":\"2021-06-24T00:00:00.000Z\",\"tags\":[\"collectibles-nfts\",\"zero-knowledge-proofs\",\"scaling\",\"rollups\",\"arrington-xrp-capital-portfolio\",\"alameda-research-portfolio\"],\"max_supply\":2000000000,\"circulating_supply\":868583515.2500242,\"total_supply\":2000000000,\"platform\":{\"id\":1027,\"name\":\"Ethereum\",\"symbol\":\"ETH\",\"slug\":\"ethereum\",\"token_address\":\"0xf57e7e7c23978c3caec3c3548e3d615c346e79ff\"},\"cmc_rank\":57,\"self_reported_circulating_supply\":570354831,\"self_reported_market_cap\":555260287.4494023,\"tvl_ratio\":null,\"last_updated\":\"2023-03-14T01:20:00.000Z\",\"quote\":{\"USD\":{\"price\":0.9735348195015154,\"volume_24h\":59814733.44357323,\"volume_change_24h\":38.6427,\"percent_change_1h\":-0.89504864,\"percent_change_24h\":1.08529052,\"percent_change_7d\":-11.05739809,\"percent_change_30d\":-9.67737716,\"percent_change_60d\":82.55957035,\"percent_change_90d\":119.96127703,\"market_cap\":845596295.7409241,\"market_cap_dominance\":0.0787,\"fully_diluted_market_cap\":1947069639,\"tvl\":null,\"last_updated\":\"2023-03-14T01:20:00.000Z\"}}},{\"id\":11840,\"name\":\"Optimism\",\"symbol\":\"OP\",\"slug\":\"optimism-ethereum\",\"num_market_pairs\":196,\"date_added\":\"2022-05-31T16:19:46.000Z\",\"tags\":[\"optimism-ecosystem\"],\"max_supply\":4294967296,\"circulating_supply\":314844141,\"total_supply\":4294967296,\"platform\":{\"id\":11840,\"name\":\"Optimism\",\"symbol\":\"OP\",\"slug\":\"optimism-ethereum\",\"token_address\":\"0x4200000000000000000000000000000000000042\"},\"cmc_rank\":58,\"self_reported_circulating_supply\":214748364,\"self_reported_market_cap\":558477394.2280362,\"tvl_ratio\":null,\"last_updated\":\"2023-03-14T01:20:00.000Z\",\"quote\":{\"USD\":{\"price\":2.6006130329730297,\"volume_24h\":658390232.2454139,\"volume_change_24h\":41.8467,\"percent_change_1h\":-0.90636,\"percent_change_24h\":9.10914704,\"percent_change_7d\":2.48682584,\"percent_change_30d\":5.6326698,\"percent_change_60d\":88.31724638,\"percent_change_90d\":127.85552935,\"market_cap\":818787776.4397982,\"market_cap_dominance\":0.0762,\"fully_diluted_market_cap\":11169547926.17,\"tvl\":null,\"last_updated\":\"2023-03-14T01:20:00.000Z\"}}},{\"id\":2943,\"name\":\"Rocket Pool\",\"symbol\":\"RPL\",\"slug\":\"rocket-pool\",\"num_market_pairs\":81,\"date_added\":\"2018-07-17T00:00:00.000Z\",\"tags\":[\"defi\",\"liquid-staking-derivatives\"],\"max_supply\":19113413,\"circulating_supply\":19113413,\"total_supply\":19113413,\"platform\":{\"id\":1027,\"name\":\"Ethereum\",\"symbol\":\"ETH\",\"slug\":\"ethereum\",\"token_address\":\"0xd33526068d116ce69f19a9ee46f0bd304f21a51f\"},\"cmc_rank\":59,\"self_reported_circulating_supply\":19185084.928809855,\"self_reported_market_cap\":820137089.0007101,\"tvl_ratio\":null,\"last_updated\":\"2023-03-14T01:20:00.000Z\",\"quote\":{\"USD\":{\"price\":42.748681699559576,\"volume_24h\":16397932.00888313,\"volume_change_24h\":35.0585,\"percent_change_1h\":-0.2037712,\"percent_change_24h\":13.27312501,\"percent_change_7d\":10.69496547,\"percent_change_30d\":-6.53941007,\"percent_change_60d\":53.19434388,\"percent_change_90d\":101.8203074,\"market_cap\":817073208.529224,\"market_cap_dominance\":0.0761,\"fully_diluted_market_cap\":817073208.53,\"tvl\":null,\"last_updated\":\"2023-03-14T01:20:00.000Z\"}}},{\"id\":4066,\"name\":\"Chiliz\",\"symbol\":\"CHZ\",\"slug\":\"chiliz\",\"num_market_pairs\":321,\"date_added\":\"2019-07-01T00:00:00.000Z\",\"tags\":[\"sports\",\"collectibles-nfts\",\"content-creation\",\"payments\"],\"max_supply\":8888888888,\"circulating_supply\":6718673350.46322,\"total_supply\":8888888888,\"platform\":{\"id\":1027,\"name\":\"Ethereum\",\"symbol\":\"ETH\",\"slug\":\"ethereum\",\"token_address\":\"0x3506424f91fd33084466f402d5d97f05f8e3b4af\"},\"cmc_rank\":60,\"self_reported_circulating_supply\":null,\"self_reported_market_cap\":null,\"tvl_ratio\":null,\"last_updated\":\"2023-03-14T01:20:00.000Z\",\"quote\":{\"USD\":{\"price\":0.11861064925141956,\"volume_24h\":92277600.16890699,\"volume_change_24h\":55.9353,\"percent_change_1h\":-0.16127074,\"percent_change_24h\":2.19472626,\"percent_change_7d\":-4.14371409,\"percent_change_30d\":-13.45614582,\"percent_change_60d\":-6.93948066,\"percent_change_90d\":-15.69770742,\"market_cap\":796906208.2066529,\"market_cap_dominance\":0.0742,\"fully_diluted_market_cap\":1054316882.13,\"tvl\":null,\"last_updated\":\"2023-03-14T01:20:00.000Z\"}}},{\"id\":2586,\"name\":\"Synthetix\",\"symbol\":\"SNX\",\"slug\":\"synthetix\",\"num_market_pairs\":367,\"date_added\":\"2018-03-14T00:00:00.000Z\",\"tags\":[\"services\",\"decentralized-exchange-dex-token\",\"defi\",\"derivatives\",\"dao\",\"yield-farming\",\"coinbase-ventures-portfolio\",\"three-arrows-capital-portfolio\",\"governance\",\"synthetics\",\"defiance-capital-portfolio\",\"framework-ventures-portfolio\",\"alameda-research-portfolio\",\"parafi-capital\",\"paradigm-portfolio\",\"fantom-ecosystem\",\"spartan-group\",\"bnb-chain\",\"optimism-ecosystem\",\"real-world-assets\"],\"max_supply\":308069419,\"circulating_supply\":253360330.6878487,\"total_supply\":315636082.0887736,\"platform\":{\"id\":1027,\"name\":\"Ethereum\",\"symbol\":\"ETH\",\"slug\":\"ethereum\",\"token_address\":\"0xc011a73ee8576fb46f5e1c5751ca3b9fe0af2a6f\"},\"cmc_rank\":61,\"self_reported_circulating_supply\":null,\"self_reported_market_cap\":null,\"tvl_ratio\":null,\"last_updated\":\"2023-03-14T01:20:00.000Z\",\"quote\":{\"USD\":{\"price\":3.1322911885403,\"volume_24h\":231970716.02075157,\"volume_change_24h\":86.5388,\"percent_change_1h\":-1.74190844,\"percent_change_24h\":6.95345823,\"percent_change_7d\":-0.06329528,\"percent_change_30d\":28.52672321,\"percent_change_60d\":72.29424241,\"percent_change_90d\":67.19108712,\"market_cap\":793598331.339205,\"market_cap_dominance\":0.0739,\"fully_diluted_market_cap\":964963126.59,\"tvl\":null,\"last_updated\":\"2023-03-14T01:20:00.000Z\"}}},{\"id\":1376,\"name\":\"Neo\",\"symbol\":\"NEO\",\"slug\":\"neo\",\"num_market_pairs\":261,\"date_added\":\"2016-09-08T00:00:00.000Z\",\"tags\":[\"platform\",\"enterprise-solutions\",\"smart-contracts\"],\"max_supply\":100000000,\"circulating_supply\":70538831,\"total_supply\":100000000,\"platform\":null,\"cmc_rank\":62,\"self_reported_circulating_supply\":null,\"self_reported_market_cap\":null,\"tvl_ratio\":null,\"last_updated\":\"2023-03-14T01:20:00.000Z\",\"quote\":{\"USD\":{\"price\":11.09772059180185,\"volume_24h\":96604115.80697209,\"volume_change_24h\":55.1768,\"percent_change_1h\":0.14781995,\"percent_change_24h\":4.00690892,\"percent_change_7d\":-9.05019701,\"percent_change_30d\":25.07421648,\"percent_change_60d\":55.19269139,\"percent_change_90d\":51.70071166,\"market_cap\":782820237.3103307,\"market_cap_dominance\":0.0729,\"fully_diluted_market_cap\":1109772059.18,\"tvl\":null,\"last_updated\":\"2023-03-14T01:20:00.000Z\"}}},{\"id\":4256,\"name\":\"Klaytn\",\"symbol\":\"KLAY\",\"slug\":\"klaytn\",\"num_market_pairs\":147,\"date_added\":\"2020-03-30T00:00:00.000Z\",\"tags\":[\"platform\",\"enterprise-solutions\",\"injective-ecosystem\"],\"max_supply\":null,\"circulating_supply\":3078932679.9283633,\"total_supply\":11012995018.928364,\"platform\":null,\"cmc_rank\":63,\"self_reported_circulating_supply\":null,\"self_reported_market_cap\":null,\"tvl_ratio\":null,\"last_updated\":\"2023-03-14T01:20:00.000Z\",\"quote\":{\"USD\":{\"price\":0.24665981493231237,\"volume_24h\":69225524.65834334,\"volume_change_24h\":-4.354,\"percent_change_1h\":-0.4505611,\"percent_change_24h\":2.18094338,\"percent_change_7d\":6.71755334,\"percent_change_30d\":26.50314443,\"percent_change_60d\":37.27243814,\"percent_change_90d\":32.61762339,\"market_cap\":759448965.0201787,\"market_cap_dominance\":0.0707,\"fully_diluted_market_cap\":2716463313.22,\"tvl\":null,\"last_updated\":\"2023-03-14T01:20:00.000Z\"}}},{\"id\":6538,\"name\":\"Curve DAO Token\",\"symbol\":\"CRV\",\"slug\":\"curve-dao-token\",\"num_market_pairs\":421,\"date_added\":\"2020-08-14T00:00:00.000Z\",\"tags\":[\"decentralized-exchange-dex-token\",\"defi\",\"dao\",\"yield-farming\",\"amm\",\"governance\",\"framework-ventures-portfolio\",\"alameda-research-portfolio\",\"polygon-ecosystem\",\"fantom-ecosystem\",\"arbitrum-ecosytem\",\"optimism-ecosystem\"],\"max_supply\":3303030299,\"circulating_supply\":747269866.1638025,\"total_supply\":1915355293.443615,\"platform\":{\"id\":1027,\"name\":\"Ethereum\",\"symbol\":\"ETH\",\"slug\":\"ethereum\",\"token_address\":\"0xD533a949740bb3306d119CC777fa900bA034cd52\"},\"cmc_rank\":64,\"self_reported_circulating_supply\":null,\"self_reported_market_cap\":null,\"tvl_ratio\":0.18174046,\"last_updated\":\"2023-03-14T01:20:00.000Z\",\"quote\":{\"USD\":{\"price\":0.9771796352151226,\"volume_24h\":112056487.2710219,\"volume_change_24h\":-2.0224,\"percent_change_1h\":-0.52956031,\"percent_change_24h\":-0.95605768,\"percent_change_7d\":2.12843703,\"percent_change_30d\":2.59164868,\"percent_change_60d\":42.59565906,\"percent_change_90d\":49.67779863,\"market_cap\":730216895.225198,\"market_cap_dominance\":0.068,\"fully_diluted_market_cap\":3227653942.68,\"tvl\":4017910359.3396,\"last_updated\":\"2023-03-14T01:20:00.000Z\"}}},{\"id\":19891,\"name\":\"USDD\",\"symbol\":\"USDD\",\"slug\":\"usdd\",\"num_market_pairs\":136,\"date_added\":\"2022-05-02T08:07:12.000Z\",\"tags\":[\"stablecoin\",\"algorithmic-stablecoin\",\"arbitrum-ecosytem\",\"usd-stablecoin\"],\"max_supply\":null,\"circulating_supply\":725332035.842248,\"total_supply\":725332035.842248,\"platform\":{\"id\":1027,\"name\":\"Ethereum\",\"symbol\":\"ETH\",\"slug\":\"ethereum\",\"token_address\":\"0x0c10bf8fcb7bf5412187a595ab97a3609160b5c6\"},\"cmc_rank\":65,\"self_reported_circulating_supply\":null,\"self_reported_market_cap\":null,\"tvl_ratio\":null,\"last_updated\":\"2023-03-14T01:20:00.000Z\",\"quote\":{\"USD\":{\"price\":0.9916477112183392,\"volume_24h\":26079822.89450691,\"volume_change_24h\":-6.8118,\"percent_change_1h\":0.03779073,\"percent_change_24h\":-0.06432148,\"percent_change_7d\":-0.85836206,\"percent_change_30d\":0.09327455,\"percent_change_60d\":1.13170531,\"percent_change_90d\":0.97112665,\"market_cap\":719273853.2163036,\"market_cap_dominance\":0.067,\"fully_diluted_market_cap\":719273853.22,\"tvl\":null,\"last_updated\":\"2023-03-14T01:20:00.000Z\"}}},{\"id\":3602,\"name\":\"Bitcoin SV\",\"symbol\":\"BSV\",\"slug\":\"bitcoin-sv\",\"num_market_pairs\":193,\"date_added\":\"2018-11-09T00:00:00.000Z\",\"tags\":[\"mineable\",\"pow\",\"sha-256\",\"medium-of-exchange\",\"store-of-value\",\"state-channel\",\"btc-ecosystem\"],\"max_supply\":21000000,\"circulating_supply\":19266076.64423905,\"total_supply\":19266076.64423905,\"platform\":null,\"cmc_rank\":66,\"self_reported_circulating_supply\":null,\"self_reported_market_cap\":null,\"tvl_ratio\":null,\"last_updated\":\"2023-03-14T01:20:00.000Z\",\"quote\":{\"USD\":{\"price\":35.975819854925675,\"volume_24h\":42708266.21860334,\"volume_change_24h\":8.8186,\"percent_change_1h\":-0.11714604,\"percent_change_24h\":2.3460657,\"percent_change_7d\":-5.51920582,\"percent_change_30d\":-12.79656353,\"percent_change_60d\":-14.35414828,\"percent_change_90d\":-22.42529828,\"market_cap\":693112902.664335,\"market_cap_dominance\":0.0645,\"fully_diluted_market_cap\":755492216.95,\"tvl\":null,\"last_updated\":\"2023-03-14T01:20:00.000Z\"}}},{\"id\":7334,\"name\":\"Conflux\",\"symbol\":\"CFX\",\"slug\":\"conflux-network\",\"num_market_pairs\":72,\"date_added\":\"2020-11-11T00:00:00.000Z\",\"tags\":[\"mineable\",\"pow\",\"platform\",\"collectibles-nfts\",\"defi\",\"payments\",\"research\",\"smart-contracts\",\"staking\",\"hybrid-pow-dpos\",\"huobi-capital-portfolio\",\"web3\",\"injective-ecosystem\",\"bnb-chain\"],\"max_supply\":null,\"circulating_supply\":2654173262.713399,\"total_supply\":5278164274,\"platform\":null,\"cmc_rank\":67,\"self_reported_circulating_supply\":null,\"self_reported_market_cap\":null,\"tvl_ratio\":null,\"last_updated\":\"2023-03-14T01:20:00.000Z\",\"quote\":{\"USD\":{\"price\":0.2591763275437803,\"volume_24h\":874426619.9233183,\"volume_change_24h\":189.2607,\"percent_change_1h\":3.52409282,\"percent_change_24h\":34.09022132,\"percent_change_7d\":28.99433465,\"percent_change_30d\":347.94340811,\"percent_change_60d\":961.81288812,\"percent_change_90d\":862.1686424,\"market_cap\":687898878.8949518,\"market_cap_dominance\":0.064,\"fully_diluted_market_cap\":1367975232.71,\"tvl\":null,\"last_updated\":\"2023-03-14T01:20:00.000Z\"}}},{\"id\":7186,\"name\":\"PancakeSwap\",\"symbol\":\"CAKE\",\"slug\":\"pancakeswap\",\"num_market_pairs\":862,\"date_added\":\"2020-09-25T00:00:00.000Z\",\"tags\":[\"collectibles-nfts\",\"decentralized-exchange-dex-token\",\"defi\",\"smart-contracts\",\"yield-farming\",\"amm\",\"binance-smart-chain\",\"dex\",\"governance\",\"aptos-ecosystem\"],\"max_supply\":750000000,\"circulating_supply\":180956272.8799468,\"total_supply\":372649208.73581874,\"platform\":{\"id\":1839,\"name\":\"BNB\",\"symbol\":\"BNB\",\"slug\":\"bnb\",\"token_address\":\"0x0e09fabb73bd3ade0a17ecc321fd13a19e81ce82\"},\"cmc_rank\":68,\"self_reported_circulating_supply\":null,\"self_reported_market_cap\":null,\"tvl_ratio\":0.28746648,\"last_updated\":\"2023-03-14T01:20:00.000Z\",\"quote\":{\"USD\":{\"price\":3.7883200757374507,\"volume_24h\":55777021.48780227,\"volume_change_24h\":80.972,\"percent_change_1h\":-0.45454079,\"percent_change_24h\":2.62726199,\"percent_change_7d\":0.20157464,\"percent_change_30d\":-9.30418221,\"percent_change_60d\":8.3534586,\"percent_change_90d\":0.38703496,\"market_cap\":685520281.3817269,\"market_cap_dominance\":0.0638,\"fully_diluted_market_cap\":2841240056.8,\"tvl\":2384696390.85425,\"last_updated\":\"2023-03-14T01:20:00.000Z\"}}},{\"id\":6953,\"name\":\"Frax Share\",\"symbol\":\"FXS\",\"slug\":\"frax-share\",\"num_market_pairs\":152,\"date_added\":\"2020-09-08T00:00:00.000Z\",\"tags\":[\"defi\",\"seigniorage\",\"avalanche-ecosystem\",\"exnetwork-capital-portfolio\",\"olympus-pro-ecosystem\",\"arbitrum-ecosytem\",\"liquid-staking-derivatives\"],\"max_supply\":null,\"circulating_supply\":74485991.3312182,\"total_supply\":99822984.1145714,\"platform\":{\"id\":1027,\"name\":\"Ethereum\",\"symbol\":\"ETH\",\"slug\":\"ethereum\",\"token_address\":\"0x3432b6a60d23ca0dfca7761b7ab56459d9c964d0\"},\"cmc_rank\":69,\"self_reported_circulating_supply\":null,\"self_reported_market_cap\":null,\"tvl_ratio\":null,\"last_updated\":\"2023-03-14T01:20:00.000Z\",\"quote\":{\"USD\":{\"price\":9.005769415096879,\"volume_24h\":68926205.48395316,\"volume_change_24h\":-19.0687,\"percent_change_1h\":-0.64761677,\"percent_change_24h\":2.27570108,\"percent_change_7d\":-8.01817084,\"percent_change_30d\":-14.59779909,\"percent_change_60d\":41.74332841,\"percent_change_90d\":57.17738556,\"market_cap\":670803662.5838561,\"market_cap_dominance\":0.0625,\"fully_diluted_market_cap\":898982777.26,\"tvl\":null,\"last_updated\":\"2023-03-14T01:20:00.000Z\"}}},{\"id\":2502,\"name\":\"Huobi Token\",\"symbol\":\"HT\",\"slug\":\"huobi-token\",\"num_market_pairs\":115,\"date_added\":\"2018-02-03T00:00:00.000Z\",\"tags\":[\"marketplace\",\"centralized-exchange\",\"discount-token\",\"payments\",\"algorand-ecosystem\",\"kenetic-capital-portfolio\",\"alameda-research-portfolio\",\"multicoin-capital-portfolio\"],\"max_supply\":500000000,\"circulating_supply\":162233844,\"total_supply\":203980445,\"platform\":{\"id\":1027,\"name\":\"Ethereum\",\"symbol\":\"ETH\",\"slug\":\"ethereum\",\"token_address\":\"0x6f259637dcd74c767781e37bc6133cd6a68aa161\"},\"cmc_rank\":70,\"self_reported_circulating_supply\":null,\"self_reported_market_cap\":null,\"tvl_ratio\":null,\"last_updated\":\"2023-03-14T01:20:00.000Z\",\"quote\":{\"USD\":{\"price\":4.036431065997014,\"volume_24h\":24393023.79370702,\"volume_change_24h\":20.218,\"percent_change_1h\":-0.27659874,\"percent_change_24h\":-5.03149898,\"percent_change_7d\":-19.44106431,\"percent_change_30d\":-22.41661819,\"percent_change_60d\":-20.917841,\"percent_change_90d\":-37.73282461,\"market_cap\":654845727.8777133,\"market_cap_dominance\":0.061,\"fully_diluted_market_cap\":2018215533,\"tvl\":null,\"last_updated\":\"2023-03-14T01:20:00.000Z\"}}},{\"id\":8646,\"name\":\"Mina\",\"symbol\":\"MINA\",\"slug\":\"mina\",\"num_market_pairs\":82,\"date_added\":\"2021-03-02T00:00:00.000Z\",\"tags\":[\"pos\",\"zero-knowledge-proofs\",\"staking\",\"coinbase-ventures-portfolio\",\"three-arrows-capital-portfolio\",\"polychain-capital-portfolio\"],\"max_supply\":null,\"circulating_supply\":866663974.8400393,\"total_supply\":1011929212.8400393,\"platform\":null,\"cmc_rank\":71,\"self_reported_circulating_supply\":null,\"self_reported_market_cap\":null,\"tvl_ratio\":null,\"last_updated\":\"2023-03-14T01:20:00.000Z\",\"quote\":{\"USD\":{\"price\":0.7368848390730387,\"volume_24h\":72044348.80754599,\"volume_change_24h\":18.5006,\"percent_change_1h\":-0.45514092,\"percent_change_24h\":2.12192873,\"percent_change_7d\":-10.26799224,\"percent_change_30d\":-33.89340682,\"percent_change_60d\":44.38451527,\"percent_change_90d\":33.07771059,\"market_cap\":638631543.6304023,\"market_cap_dominance\":0.0595,\"fully_diluted_market_cap\":745675295.16,\"tvl\":null,\"last_updated\":\"2023-03-14T01:20:00.000Z\"}}},{\"id\":11857,\"name\":\"GMX\",\"symbol\":\"GMX\",\"slug\":\"gmx\",\"num_market_pairs\":109,\"date_added\":\"2021-09-13T12:11:50.000Z\",\"tags\":[\"derivatives\",\"dex\",\"avalanche-ecosystem\",\"arbitrum-ecosytem\"],\"max_supply\":null,\"circulating_supply\":8543700.63987716,\"total_supply\":8996251.96939259,\"platform\":{\"id\":51,\"name\":\"Arbitrum\",\"symbol\":\"ARBITRUM\",\"slug\":\"arbitrum-ethereum\",\"token_address\":\"0xfc5a1a6eb076a2c7ad06ed22c90d7e710e35ad0a\"},\"cmc_rank\":72,\"self_reported_circulating_supply\":null,\"self_reported_market_cap\":null,\"tvl_ratio\":null,\"last_updated\":\"2023-03-14T01:20:00.000Z\",\"quote\":{\"USD\":{\"price\":74.27251063281646,\"volume_24h\":119806096.99632424,\"volume_change_24h\":54.9641,\"percent_change_1h\":-1.24920145,\"percent_change_24h\":8.0390005,\"percent_change_7d\":3.35206182,\"percent_change_30d\":11.92406182,\"percent_change_60d\":63.96093535,\"percent_change_90d\":41.32854925,\"market_cap\":634562096.6188772,\"market_cap_dominance\":0.0591,\"fully_diluted_market_cap\":668174220.05,\"tvl\":null,\"last_updated\":\"2023-03-14T01:20:00.000Z\"}}},{\"id\":16086,\"name\":\"BitTorrent-New\",\"symbol\":\"BTT\",\"slug\":\"bittorrent-new\",\"num_market_pairs\":95,\"date_added\":\"2019-01-31T00:00:00.000Z\",\"tags\":[\"platform\",\"distributed-computing\",\"filesharing\",\"interoperability\",\"staking\",\"tron-ecosystem\",\"storage\",\"binance-launchpad\",\"binance-labs-portfolio\",\"web3\",\"bnb-chain\"],\"max_supply\":null,\"circulating_supply\":951421714286000,\"total_supply\":990000000000000,\"platform\":{\"id\":1958,\"name\":\"TRON\",\"symbol\":\"TRX\",\"slug\":\"tron\",\"token_address\":\"TAFjULxiVgT4qWk6UZwjqwZXTSaGaqnVp4\"},\"cmc_rank\":73,\"self_reported_circulating_supply\":null,\"self_reported_market_cap\":null,\"tvl_ratio\":null,\"last_updated\":\"2023-03-14T01:20:00.000Z\",\"quote\":{\"USD\":{\"price\":6.576422657530894e-7,\"volume_24h\":12062046.37881779,\"volume_change_24h\":1.7633,\"percent_change_1h\":-0.26563212,\"percent_change_24h\":1.42406949,\"percent_change_7d\":-4.75365052,\"percent_change_30d\":-6.59524736,\"percent_change_60d\":-2.92717308,\"percent_change_90d\":-3.96319267,\"market_cap\":625695131.8697336,\"market_cap_dominance\":0.0583,\"fully_diluted_market_cap\":651065843.1,\"tvl\":null,\"last_updated\":\"2023-03-14T01:20:00.000Z\"}}},{\"id\":131,\"name\":\"Dash\",\"symbol\":\"DASH\",\"slug\":\"dash\",\"num_market_pairs\":365,\"date_added\":\"2014-02-14T00:00:00.000Z\",\"tags\":[\"mineable\",\"hybrid-pow-pos\",\"x11\",\"medium-of-exchange\",\"privacy\",\"masternodes\",\"dao\",\"governance\"],\"max_supply\":18900000,\"circulating_supply\":11120724.81411102,\"total_supply\":11183075.40461778,\"platform\":null,\"cmc_rank\":74,\"self_reported_circulating_supply\":null,\"self_reported_market_cap\":null,\"tvl_ratio\":null,\"last_updated\":\"2023-03-14T01:20:00.000Z\",\"quote\":{\"USD\":{\"price\":56.20725785251583,\"volume_24h\":143318855.2562779,\"volume_change_24h\":12.0783,\"percent_change_1h\":-0.67122154,\"percent_change_24h\":4.76215171,\"percent_change_7d\":-10.81127236,\"percent_change_30d\":-9.85060541,\"percent_change_60d\":14.62414606,\"percent_change_90d\":15.96735908,\"market_cap\":625065447.1336093,\"market_cap_dominance\":0.0582,\"fully_diluted_market_cap\":1062317173.41,\"tvl\":null,\"last_updated\":\"2023-03-14T01:20:00.000Z\"}}},{\"id\":3306,\"name\":\"Gemini Dollar\",\"symbol\":\"GUSD\",\"slug\":\"gemini-dollar\",\"num_market_pairs\":87,\"date_added\":\"2018-10-05T00:00:00.000Z\",\"tags\":[\"store-of-value\",\"stablecoin\",\"asset-backed-stablecoin\",\"usd-stablecoin\"],\"max_supply\":0,\"circulating_supply\":607049883.35,\"total_supply\":611139702.82,\"platform\":{\"id\":1027,\"name\":\"Ethereum\",\"symbol\":\"ETH\",\"slug\":\"ethereum\",\"token_address\":\"0x056Fd409E1d7A124BD7017459dFEa2F387b6d5Cd\"},\"cmc_rank\":75,\"self_reported_circulating_supply\":null,\"self_reported_market_cap\":null,\"tvl_ratio\":null,\"last_updated\":\"2023-03-14T01:20:00.000Z\",\"quote\":{\"USD\":{\"price\":1.0049414990392513,\"volume_24h\":1571287.19338165,\"volume_change_24h\":-1.596,\"percent_change_1h\":0.54577025,\"percent_change_24h\":-0.03988993,\"percent_change_7d\":1.42953984,\"percent_change_30d\":1.49770833,\"percent_change_60d\":0.07485809,\"percent_change_90d\":-0.48622879,\"market_cap\":610049619.7653517,\"market_cap_dominance\":0.0568,\"fully_diluted_market_cap\":614159649.07,\"tvl\":null,\"last_updated\":\"2023-03-14T01:20:00.000Z\"}}},{\"id\":1720,\"name\":\"IOTA\",\"symbol\":\"MIOTA\",\"slug\":\"iota\",\"num_market_pairs\":88,\"date_added\":\"2017-06-13T00:00:00.000Z\",\"tags\":[\"dag\",\"medium-of-exchange\",\"iot\",\"sharing-economy\"],\"max_supply\":2779530283,\"circulating_supply\":2779530283,\"total_supply\":2779530283,\"platform\":null,\"cmc_rank\":76,\"self_reported_circulating_supply\":null,\"self_reported_market_cap\":null,\"tvl_ratio\":null,\"last_updated\":\"2023-03-14T01:20:00.000Z\",\"quote\":{\"USD\":{\"price\":0.21440334680256645,\"volume_24h\":12363437.966983,\"volume_change_24h\":18.845,\"percent_change_1h\":-0.42854918,\"percent_change_24h\":4.4290115,\"percent_change_7d\":0.16614915,\"percent_change_30d\":-8.01467695,\"percent_change_60d\":9.35211261,\"percent_change_90d\":4.55601096,\"market_cap\":595940595.2142847,\"market_cap_dominance\":0.0555,\"fully_diluted_market_cap\":595940595.21,\"tvl\":null,\"last_updated\":\"2023-03-14T01:20:00.000Z\"}}},{\"id\":10791,\"name\":\"eCash\",\"symbol\":\"XEC\",\"slug\":\"ecash\",\"num_market_pairs\":61,\"date_added\":\"2021-07-08T00:00:00.000Z\",\"tags\":[],\"max_supply\":21000000000000,\"circulating_supply\":19332710923303,\"total_supply\":19332710923303,\"platform\":null,\"cmc_rank\":77,\"self_reported_circulating_supply\":19332785923303,\"self_reported_market_cap\":589810318.997554,\"tvl_ratio\":null,\"last_updated\":\"2023-03-14T01:20:00.000Z\",\"quote\":{\"USD\":{\"price\":0.00003050829411433244,\"volume_24h\":10917425.66419858,\"volume_change_24h\":48.3121,\"percent_change_1h\":-0.92878654,\"percent_change_24h\":4.09349441,\"percent_change_7d\":-1.83526595,\"percent_change_30d\":-11.49788355,\"percent_change_60d\":12.20423048,\"percent_change_90d\":3.9030471,\"market_cap\":589808030.8754954,\"market_cap_dominance\":0.0549,\"fully_diluted_market_cap\":640674176.4,\"tvl\":null,\"last_updated\":\"2023-03-14T01:20:00.000Z\"}}},{\"id\":4269,\"name\":\"GateToken\",\"symbol\":\"GT\",\"slug\":\"gatetoken\",\"num_market_pairs\":24,\"date_added\":\"2019-08-20T00:00:00.000Z\",\"tags\":[\"marketplace\",\"centralized-exchange\",\"discount-token\",\"algorand-ecosystem\"],\"max_supply\":null,\"circulating_supply\":108265076.62840587,\"total_supply\":300000000,\"platform\":{\"id\":1027,\"name\":\"Ethereum\",\"symbol\":\"ETH\",\"slug\":\"ethereum\",\"token_address\":\"0xe66747a101bff2dba3697199dcce5b743b454759\"},\"cmc_rank\":78,\"self_reported_circulating_supply\":null,\"self_reported_market_cap\":null,\"tvl_ratio\":null,\"last_updated\":\"2023-03-14T01:20:00.000Z\",\"quote\":{\"USD\":{\"price\":5.388857766914125,\"volume_24h\":3956042.02045958,\"volume_change_24h\":132.1167,\"percent_change_1h\":0.52082632,\"percent_change_24h\":10.07253225,\"percent_change_7d\":8.90664657,\"percent_change_30d\":24.52031569,\"percent_change_60d\":58.3631484,\"percent_change_90d\":47.36230114,\"market_cap\":583425099.0745379,\"market_cap_dominance\":0.0543,\"fully_diluted_market_cap\":1616657330.07,\"tvl\":null,\"last_updated\":\"2023-03-14T01:20:00.000Z\"}}},{\"id\":1437,\"name\":\"Zcash\",\"symbol\":\"ZEC\",\"slug\":\"zcash\",\"num_market_pairs\":285,\"date_added\":\"2016-10-29T00:00:00.000Z\",\"tags\":[\"mineable\",\"pow\",\"equihash\",\"medium-of-exchange\",\"privacy\",\"zero-knowledge-proofs\",\"binance-chain\",\"boostvc-portfolio\",\"dcg-portfolio\",\"electric-capital-portfolio\",\"fenbushi-capital-portfolio\",\"hashkey-capital-portfolio\",\"winklevoss-capital-portfolio\",\"placeholder-ventures-portfolio\",\"pantera-capital-portfolio\",\"bnb-chain\"],\"max_supply\":21000000,\"circulating_supply\":16328268.75,\"total_supply\":16328268.75,\"platform\":null,\"cmc_rank\":79,\"self_reported_circulating_supply\":null,\"self_reported_market_cap\":null,\"tvl_ratio\":null,\"last_updated\":\"2023-03-14T01:20:00.000Z\",\"quote\":{\"USD\":{\"price\":35.32667238193372,\"volume_24h\":54255026.14337563,\"volume_change_24h\":22.7131,\"percent_change_1h\":-0.17148894,\"percent_change_24h\":1.70918818,\"percent_change_7d\":-8.74284904,\"percent_change_30d\":-22.10298796,\"percent_change_60d\":-21.77608079,\"percent_change_90d\":-23.93067359,\"market_cap\":576823400.6954165,\"market_cap_dominance\":0.0537,\"fully_diluted_market_cap\":741860120.02,\"tvl\":null,\"last_updated\":\"2023-03-14T01:20:00.000Z\"}}},{\"id\":5964,\"name\":\"Trust Wallet Token\",\"symbol\":\"TWT\",\"slug\":\"trust-wallet-token\",\"num_market_pairs\":131,\"date_added\":\"2020-07-30T00:00:00.000Z\",\"tags\":[\"wallet\",\"polygon-ecosystem\",\"bnb-chain\"],\"max_supply\":1000000000,\"circulating_supply\":416649900,\"total_supply\":999668148,\"platform\":{\"id\":1839,\"name\":\"BNB\",\"symbol\":\"BNB\",\"slug\":\"bnb\",\"token_address\":\"0x4b0f1812e5df2a09796481ff14017e6005508003\"},\"cmc_rank\":80,\"self_reported_circulating_supply\":416649900,\"self_reported_market_cap\":523986319.44260496,\"tvl_ratio\":null,\"last_updated\":\"2023-03-14T01:20:00.000Z\",\"quote\":{\"USD\":{\"price\":1.2576177732014455,\"volume_24h\":57845739.54474007,\"volume_change_24h\":-4.5056,\"percent_change_1h\":-0.41339418,\"percent_change_24h\":-0.02845604,\"percent_change_7d\":-3.0622248,\"percent_change_30d\":-12.25979243,\"percent_change_60d\":-14.88409787,\"percent_change_90d\":-44.03317891,\"market_cap\":523986319.44260496,\"market_cap_dominance\":0.0488,\"fully_diluted_market_cap\":1257617773.2,\"tvl\":null,\"last_updated\":\"2023-03-14T01:20:00.000Z\"}}},{\"id\":4705,\"name\":\"PAX Gold\",\"symbol\":\"PAXG\",\"slug\":\"pax-gold\",\"num_market_pairs\":106,\"date_added\":\"2019-09-26T00:00:00.000Z\",\"tags\":[\"bnb-chain\",\"tokenized-gold\"],\"max_supply\":null,\"circulating_supply\":271263.71,\"total_supply\":271263.71,\"platform\":{\"id\":1027,\"name\":\"Ethereum\",\"symbol\":\"ETH\",\"slug\":\"ethereum\",\"token_address\":\"0x45804880de22913dafe09f4980848ece6ecbaf78\"},\"cmc_rank\":81,\"self_reported_circulating_supply\":271181,\"self_reported_market_cap\":523638364.5711466,\"tvl_ratio\":null,\"last_updated\":\"2023-03-14T01:20:00.000Z\",\"quote\":{\"USD\":{\"price\":1930.9552091449866,\"volume_24h\":34519763.37802123,\"volume_change_24h\":13.6273,\"percent_change_1h\":0.27552657,\"percent_change_24h\":1.12462642,\"percent_change_7d\":5.12092085,\"percent_change_30d\":5.67019348,\"percent_change_60d\":2.64856494,\"percent_change_90d\":6.66400957,\"market_cap\":523798073.87649506,\"market_cap_dominance\":0.0488,\"fully_diluted_market_cap\":523798073.88,\"tvl\":null,\"last_updated\":\"2023-03-14T01:20:00.000Z\"}}},{\"id\":2424,\"name\":\"SingularityNET\",\"symbol\":\"AGIX\",\"slug\":\"singularitynet\",\"num_market_pairs\":66,\"date_added\":\"2018-01-18T00:00:00.000Z\",\"tags\":[\"marketplace\",\"ai-big-data\",\"payments\",\"cross-chain-dex-aggregator\"],\"max_supply\":2000000000,\"circulating_supply\":1205321857.2620103,\"total_supply\":1260840661.7363875,\"platform\":{\"id\":1027,\"name\":\"Ethereum\",\"symbol\":\"ETH\",\"slug\":\"ethereum\",\"token_address\":\"0x5B7533812759B45C2B44C19e320ba2cD2681b542\"},\"cmc_rank\":82,\"self_reported_circulating_supply\":null,\"self_reported_market_cap\":null,\"tvl_ratio\":null,\"last_updated\":\"2023-03-14T01:20:00.000Z\",\"quote\":{\"USD\":{\"price\":0.40362693135237937,\"volume_24h\":255830071.1261439,\"volume_change_24h\":36.4124,\"percent_change_1h\":0.52630712,\"percent_change_24h\":7.51195977,\"percent_change_7d\":-9.41092897,\"percent_change_30d\":-3.71847831,\"percent_change_60d\":293.97312926,\"percent_change_90d\":638.81965218,\"market_cap\":486500362.5386158,\"market_cap_dominance\":0.0453,\"fully_diluted_market_cap\":807253862.7,\"tvl\":null,\"last_updated\":\"2023-03-14T01:20:00.000Z\"}}},{\"id\":4846,\"name\":\"Kava\",\"symbol\":\"KAVA\",\"slug\":\"kava\",\"num_market_pairs\":102,\"date_added\":\"2019-10-25T00:00:00.000Z\",\"tags\":[\"cosmos-ecosystem\",\"defi\",\"binance-launchpad\",\"binance-labs-portfolio\",\"lending-borowing\",\"arrington-xrp-capital-portfolio\",\"framework-ventures-portfolio\",\"hashkey-capital-portfolio\",\"injective-ecosystem\"],\"max_supply\":null,\"circulating_supply\":441069691,\"total_supply\":382198521,\"platform\":{\"id\":1027,\"name\":\"Ethereum\",\"symbol\":\"ETH\",\"slug\":\"ethereum\",\"token_address\":\"0x0C356B7fD36a5357E5A017EF11887ba100C9AB76\"},\"cmc_rank\":83,\"self_reported_circulating_supply\":441111510,\"self_reported_market_cap\":482661447.59050745,\"tvl_ratio\":null,\"last_updated\":\"2023-03-14T01:20:00.000Z\",\"quote\":{\"USD\":{\"price\":1.094193727999769,\"volume_24h\":77736478.66054033,\"volume_change_24h\":-2.2497,\"percent_change_1h\":0.49966055,\"percent_change_24h\":5.46911849,\"percent_change_7d\":34.36474979,\"percent_change_30d\":27.9189402,\"percent_change_60d\":46.14060924,\"percent_change_90d\":28.1836972,\"market_cap\":482615689.5029962,\"market_cap_dominance\":0.0449,\"fully_diluted_market_cap\":418199224.53,\"tvl\":null,\"last_updated\":\"2023-03-14T01:20:00.000Z\"}}},{\"id\":4157,\"name\":\"THORChain\",\"symbol\":\"RUNE\",\"slug\":\"thorchain\",\"num_market_pairs\":134,\"date_added\":\"2019-07-23T00:00:00.000Z\",\"tags\":[\"cosmos-ecosystem\",\"decentralized-exchange-dex-token\",\"defi\",\"dex\",\"multicoin-capital-portfolio\",\"exnetwork-capital-portfolio\",\"injective-ecosystem\"],\"max_supply\":500000000,\"circulating_supply\":327056566,\"total_supply\":498475594,\"platform\":{\"id\":1839,\"name\":\"BNB\",\"symbol\":\"BNB\",\"slug\":\"bnb\",\"token_address\":\"RUNE-B1A\"},\"cmc_rank\":84,\"self_reported_circulating_supply\":326362945,\"self_reported_market_cap\":459379750.3227001,\"tvl_ratio\":4.07708237,\"last_updated\":\"2023-03-14T01:20:00.000Z\",\"quote\":{\"USD\":{\"price\":1.4075732473939409,\"volume_24h\":76317980.04565726,\"volume_change_24h\":61.3396,\"percent_change_1h\":-0.25070077,\"percent_change_24h\":4.1009907,\"percent_change_7d\":-6.38217073,\"percent_change_30d\":-17.66840556,\"percent_change_60d\":-9.27491848,\"percent_change_90d\":-1.15668703,\"market_cap\":460356072.68613076,\"market_cap_dominance\":0.0428,\"fully_diluted_market_cap\":703786623.7,\"tvl\":112913115.52762,\"last_updated\":\"2023-03-14T01:20:00.000Z\"}}},{\"id\":5690,\"name\":\"Render Token\",\"symbol\":\"RNDR\",\"slug\":\"render-token\",\"num_market_pairs\":114,\"date_added\":\"2020-06-11T00:00:00.000Z\",\"tags\":[\"art\",\"media\",\"ai-big-data\",\"collectibles-nfts\",\"gaming\",\"scaling\",\"video\",\"ethereum-ecosystem\",\"solana-ecosystem\",\"metaverse\",\"alameda-research-portfolio\",\"multicoin-capital-portfolio\",\"polygon-ecosystem\",\"web3\"],\"max_supply\":536870912,\"circulating_supply\":361444954.10879594,\"total_supply\":530962614.97878325,\"platform\":{\"id\":1027,\"name\":\"Ethereum\",\"symbol\":\"ETH\",\"slug\":\"ethereum\",\"token_address\":\"0x6de037ef9ad2725eb40118bb1702ebb27e4aeb24\"},\"cmc_rank\":85,\"self_reported_circulating_supply\":364833198,\"self_reported_market_cap\":462155187.5761718,\"tvl_ratio\":null,\"last_updated\":\"2023-03-14T01:20:00.000Z\",\"quote\":{\"USD\":{\"price\":1.2667574938620905,\"volume_24h\":181874365.06984183,\"volume_change_24h\":80.1585,\"percent_change_1h\":-0.98985934,\"percent_change_24h\":2.50166849,\"percent_change_7d\":3.27725964,\"percent_change_30d\":-11.34399314,\"percent_change_60d\":176.77633647,\"percent_change_90d\":144.27474843,\"market_cap\":457863104.23595667,\"market_cap_dominance\":0.0426,\"fully_diluted_market_cap\":680085251.01,\"tvl\":null,\"last_updated\":\"2023-03-14T01:20:00.000Z\"}}},{\"id\":1934,\"name\":\"Loopring\",\"symbol\":\"LRC\",\"slug\":\"loopring\",\"num_market_pairs\":252,\"date_added\":\"2017-08-30T00:00:00.000Z\",\"tags\":[\"marketplace\",\"decentralized-exchange-dex-token\",\"defi\",\"zero-knowledge-proofs\",\"scaling\",\"smart-contracts\",\"wallet\",\"ethereum-ecosystem\",\"amm\",\"dex\",\"layer-2\",\"rollups\",\"red-packets\",\"web3\",\"token\",\"arbitrum-ecosytem\"],\"max_supply\":1374513896,\"circulating_supply\":1330133545.5263836,\"total_supply\":1373873437.4424574,\"platform\":{\"id\":1027,\"name\":\"Ethereum\",\"symbol\":\"ETH\",\"slug\":\"ethereum\",\"token_address\":\"0xbbbbca6a901c926f240b89eacb641d8aec7aeafd\"},\"cmc_rank\":86,\"self_reported_circulating_supply\":null,\"self_reported_market_cap\":null,\"tvl_ratio\":4.15987519,\"last_updated\":\"2023-03-14T01:20:00.000Z\",\"quote\":{\"USD\":{\"price\":0.32408482022861024,\"volume_24h\":56312025.01638874,\"volume_change_24h\":15.479,\"percent_change_1h\":-0.1910847,\"percent_change_24h\":1.87891315,\"percent_change_7d\":-2.87349636,\"percent_change_30d\":-25.78577441,\"percent_change_60d\":37.20176638,\"percent_change_90d\":29.13949811,\"market_cap\":431076090.98196197,\"market_cap_dominance\":0.0402,\"fully_diluted_market_cap\":445459088.89,\"tvl\":103627169.45284,\"last_updated\":\"2023-03-14T01:20:00.000Z\"}}},{\"id\":9903,\"name\":\"Convex Finance\",\"symbol\":\"CVX\",\"slug\":\"convex-finance\",\"num_market_pairs\":146,\"date_added\":\"2021-05-18T00:00:00.000Z\",\"tags\":[\"defi\",\"yield-aggregator\"],\"max_supply\":100000000,\"circulating_supply\":75436631.1465288,\"total_supply\":97630999.7056153,\"platform\":{\"id\":1027,\"name\":\"Ethereum\",\"symbol\":\"ETH\",\"slug\":\"ethereum\",\"token_address\":\"0x4e3fbd56cd56c3e72c1403e103b45db9da5b9d2b\"},\"cmc_rank\":87,\"self_reported_circulating_supply\":2814665,\"self_reported_market_cap\":15875555.191517992,\"tvl_ratio\":0.12533304,\"last_updated\":\"2023-03-14T01:20:00.000Z\",\"quote\":{\"USD\":{\"price\":5.640300068220549,\"volume_24h\":14738106.74043038,\"volume_change_24h\":12.1683,\"percent_change_1h\":-0.20820712,\"percent_change_24h\":2.70115679,\"percent_change_7d\":-6.21454208,\"percent_change_30d\":-2.2905017,\"percent_change_60d\":60.15157069,\"percent_change_90d\":40.7210869,\"market_cap\":425485235.80209476,\"market_cap_dominance\":0.0396,\"fully_diluted_market_cap\":564030006.82,\"tvl\":3394836996.18224,\"last_updated\":\"2023-03-14T01:20:00.000Z\"}}},{\"id\":12220,\"name\":\"Osmosis\",\"symbol\":\"OSMO\",\"slug\":\"osmosis\",\"num_market_pairs\":69,\"date_added\":\"2021-09-30T16:58:27.000Z\",\"tags\":[\"cosmos-ecosystem\",\"injective-ecosystem\"],\"max_supply\":1000000000,\"circulating_supply\":492590761,\"total_supply\":325000000,\"platform\":null,\"cmc_rank\":88,\"self_reported_circulating_supply\":null,\"self_reported_market_cap\":null,\"tvl_ratio\":null,\"last_updated\":\"2023-03-14T01:20:00.000Z\",\"quote\":{\"USD\":{\"price\":0.8634966402136085,\"volume_24h\":14609757.41185432,\"volume_change_24h\":8.8943,\"percent_change_1h\":-0.10288655,\"percent_change_24h\":1.71794673,\"percent_change_7d\":0.69573679,\"percent_change_30d\":-15.19252088,\"percent_change_60d\":6.71776715,\"percent_change_90d\":-5.8712204,\"market_cap\":425350467.12376463,\"market_cap_dominance\":0.0396,\"fully_diluted_market_cap\":863496640.21,\"tvl\":null,\"last_updated\":\"2023-03-14T01:20:00.000Z\"}}},{\"id\":8104,\"name\":\"1inch Network\",\"symbol\":\"1INCH\",\"slug\":\"1inch\",\"num_market_pairs\":317,\"date_added\":\"2020-12-25T00:00:00.000Z\",\"tags\":[\"decentralized-exchange-dex-token\",\"defi\",\"amm\",\"binance-labs-portfolio\",\"blockchain-capital-portfolio\",\"dragonfly-capital-portfolio\",\"fabric-ventures-portfolio\",\"alameda-research-portfolio\",\"parafi-capital\",\"spartan-group\",\"bnb-chain\"],\"max_supply\":null,\"circulating_supply\":834198701.1151217,\"total_supply\":1500000000,\"platform\":{\"id\":1027,\"name\":\"Ethereum\",\"symbol\":\"ETH\",\"slug\":\"ethereum\",\"token_address\":\"0x111111111117dc0aa78b770fa6a738034120c302\"},\"cmc_rank\":89,\"self_reported_circulating_supply\":834198701.1151217,\"self_reported_market_cap\":417882069.6640047,\"tvl_ratio\":null,\"last_updated\":\"2023-03-14T01:20:00.000Z\",\"quote\":{\"USD\":{\"price\":0.5009382885700943,\"volume_24h\":29591722.70631884,\"volume_change_24h\":44.749,\"percent_change_1h\":-0.05110622,\"percent_change_24h\":3.87025142,\"percent_change_7d\":-4.71034252,\"percent_change_30d\":-6.49837898,\"percent_change_60d\":11.67139081,\"percent_change_90d\":13.37826849,\"market_cap\":417882069.6640047,\"market_cap_dominance\":0.0389,\"fully_diluted_market_cap\":751407432.86,\"tvl\":null,\"last_updated\":\"2023-03-14T01:20:00.000Z\"}}},{\"id\":2469,\"name\":\"Zilliqa\",\"symbol\":\"ZIL\",\"slug\":\"zilliqa\",\"num_market_pairs\":244,\"date_added\":\"2018-01-25T00:00:00.000Z\",\"tags\":[\"mineable\",\"platform\",\"payments\",\"smart-contracts\",\"polychain-capital-portfolio\",\"metaverse\",\"kenetic-capital-portfolio\",\"zilliqa-ecosystem\",\"bnb-chain\"],\"max_supply\":21000000000,\"circulating_supply\":15867699446.7699,\"total_supply\":17284650056.52911,\"platform\":null,\"cmc_rank\":90,\"self_reported_circulating_supply\":null,\"self_reported_market_cap\":null,\"tvl_ratio\":null,\"last_updated\":\"2023-03-14T01:20:00.000Z\",\"quote\":{\"USD\":{\"price\":0.02627440890451269,\"volume_24h\":50912683.60754962,\"volume_change_24h\":42.0354,\"percent_change_1h\":-0.12799278,\"percent_change_24h\":5.484161,\"percent_change_7d\":-4.47687615,\"percent_change_30d\":-6.44335026,\"percent_change_60d\":7.57753502,\"percent_change_90d\":17.87021595,\"market_cap\":416914423.63834214,\"market_cap_dominance\":0.0388,\"fully_diluted_market_cap\":551762586.99,\"tvl\":null,\"last_updated\":\"2023-03-14T01:20:00.000Z\"}}},{\"id\":2634,\"name\":\"XDC Network\",\"symbol\":\"XDC\",\"slug\":\"xinfin\",\"num_market_pairs\":60,\"date_added\":\"2018-04-12T00:00:00.000Z\",\"tags\":[\"xdc-ecosystem\"],\"max_supply\":null,\"circulating_supply\":13821511067.1,\"total_supply\":37705012698.75,\"platform\":null,\"cmc_rank\":91,\"self_reported_circulating_supply\":13821519697.35,\"self_reported_market_cap\":412863930.87839454,\"tvl_ratio\":null,\"last_updated\":\"2023-03-14T01:20:00.000Z\",\"quote\":{\"USD\":{\"price\":0.02987109521375952,\"volume_24h\":2045760.46800749,\"volume_change_24h\":4.8842,\"percent_change_1h\":0.00268465,\"percent_change_24h\":0.83848034,\"percent_change_7d\":2.02162031,\"percent_change_30d\":12.98263749,\"percent_change_60d\":11.07904489,\"percent_change_90d\":34.96914617,\"market_cap\":412863673.0833751,\"market_cap_dominance\":0.0384,\"fully_diluted_market_cap\":1126290024.36,\"tvl\":null,\"last_updated\":\"2023-03-14T01:20:00.000Z\"}}},{\"id\":8642,\"name\":\"Fei USD\",\"symbol\":\"FEI\",\"slug\":\"fei-usd\",\"num_market_pairs\":70,\"date_added\":\"2021-03-02T00:00:00.000Z\",\"tags\":[\"defi\",\"stablecoin\",\"algorithmic-stablecoin\"],\"max_supply\":null,\"circulating_supply\":424996177.78890556,\"total_supply\":426116732.6917724,\"platform\":{\"id\":1027,\"name\":\"Ethereum\",\"symbol\":\"ETH\",\"slug\":\"ethereum\",\"token_address\":\"0x956F47F50A910163D8BF957Cf5846D573E7f87CA\"},\"cmc_rank\":92,\"self_reported_circulating_supply\":null,\"self_reported_market_cap\":null,\"tvl_ratio\":76005005.2313467,\"last_updated\":\"2023-03-14T01:20:00.000Z\",\"quote\":{\"USD\":{\"price\":0.9681372149265468,\"volume_24h\":564195.9105077,\"volume_change_24h\":-43.1081,\"percent_change_1h\":-0.95601432,\"percent_change_24h\":-2.52592983,\"percent_change_7d\":-1.60567038,\"percent_change_30d\":-3.00547328,\"percent_change_60d\":-3.16939295,\"percent_change_90d\":-2.49667328,\"market_cap\":411454615.9189786,\"market_cap_dominance\":0.0383,\"fully_diluted_market_cap\":412539466.82,\"tvl\":5.41352,\"last_updated\":\"2023-03-14T01:20:00.000Z\"}}},{\"id\":2130,\"name\":\"Enjin Coin\",\"symbol\":\"ENJ\",\"slug\":\"enjin-coin\",\"num_market_pairs\":296,\"date_added\":\"2017-11-01T00:00:00.000Z\",\"tags\":[\"media\",\"collectibles-nfts\",\"gaming\",\"ethereum-ecosystem\",\"metaverse\",\"arrington-xrp-capital-portfolio\"],\"max_supply\":1000000000,\"circulating_supply\":1000000000,\"total_supply\":1000000000,\"platform\":{\"id\":1027,\"name\":\"Ethereum\",\"symbol\":\"ETH\",\"slug\":\"ethereum\",\"token_address\":\"0xf629cbd94d3791c9250152bd8dfbdf380e2a3b9c\"},\"cmc_rank\":93,\"self_reported_circulating_supply\":null,\"self_reported_market_cap\":null,\"tvl_ratio\":null,\"last_updated\":\"2023-03-14T01:20:00.000Z\",\"quote\":{\"USD\":{\"price\":0.40622437508306863,\"volume_24h\":39804851.86148971,\"volume_change_24h\":48.7371,\"percent_change_1h\":-0.17808494,\"percent_change_24h\":3.69334477,\"percent_change_7d\":-5.66170237,\"percent_change_30d\":-10.83857425,\"percent_change_60d\":34.10918585,\"percent_change_90d\":32.85217505,\"market_cap\":406224375.0830686,\"market_cap_dominance\":0.0378,\"fully_diluted_market_cap\":406224375.08,\"tvl\":null,\"last_updated\":\"2023-03-14T01:20:00.000Z\"}}},{\"id\":7950,\"name\":\"Flare\",\"symbol\":\"FLR\",\"slug\":\"flare\",\"num_market_pairs\":43,\"date_added\":\"2020-12-11T00:00:00.000Z\",\"tags\":[],\"max_supply\":null,\"circulating_supply\":11999991148,\"total_supply\":100559787198,\"platform\":null,\"cmc_rank\":94,\"self_reported_circulating_supply\":11239457989.724222,\"self_reported_market_cap\":376964713.5324006,\"tvl_ratio\":null,\"last_updated\":\"2023-03-14T01:20:00.000Z\",\"quote\":{\"USD\":{\"price\":0.03353940322362912,\"volume_24h\":7222319.01554899,\"volume_change_24h\":-8.4581,\"percent_change_1h\":-0.46680513,\"percent_change_24h\":0.53712663,\"percent_change_7d\":-8.34908939,\"percent_change_30d\":-17.93137716,\"percent_change_60d\":-23.91247344,\"percent_change_90d\":-57.91793824,\"market_cap\":402472541.7927521,\"market_cap_dominance\":0.0375,\"fully_diluted_market_cap\":3372715250.92,\"tvl\":null,\"last_updated\":\"2023-03-14T01:20:00.000Z\"}}},{\"id\":5899,\"name\":\"Casper\",\"symbol\":\"CSPR\",\"slug\":\"casper\",\"num_market_pairs\":49,\"date_added\":\"2020-07-21T00:00:00.000Z\",\"tags\":[\"enterprise-solutions\",\"arrington-xrp-capital-portfolio\",\"hashkey-capital-portfolio\",\"web3\",\"okex-blockdream-ventures-portfolio\"],\"max_supply\":null,\"circulating_supply\":10823019079,\"total_supply\":11564775016,\"platform\":null,\"cmc_rank\":95,\"self_reported_circulating_supply\":null,\"self_reported_market_cap\":null,\"tvl_ratio\":null,\"last_updated\":\"2023-03-14T01:20:00.000Z\",\"quote\":{\"USD\":{\"price\":0.03704338250542744,\"volume_24h\":8306008.53724941,\"volume_change_24h\":30.9728,\"percent_change_1h\":0.01261991,\"percent_change_24h\":-0.45176582,\"percent_change_7d\":-8.65353074,\"percent_change_30d\":-6.36392285,\"percent_change_60d\":21.6642417,\"percent_change_90d\":24.00537863,\"market_cap\":400921235.60693604,\"market_cap_dominance\":0.0373,\"fully_diluted_market_cap\":428398384.51,\"tvl\":null,\"last_updated\":\"2023-03-14T01:20:00.000Z\"}}},{\"id\":12999,\"name\":\"ssv.network\",\"symbol\":\"SSV\",\"slug\":\"ssv-network\",\"num_market_pairs\":44,\"date_added\":\"2021-10-22T05:12:07.000Z\",\"tags\":[],\"max_supply\":null,\"circulating_supply\":10000000,\"total_supply\":11012871,\"platform\":{\"id\":1027,\"name\":\"Ethereum\",\"symbol\":\"ETH\",\"slug\":\"ethereum\",\"token_address\":\"0x9D65fF81a3c488d585bBfb0Bfe3c7707c7917f54\"},\"cmc_rank\":96,\"self_reported_circulating_supply\":11076871,\"self_reported_market_cap\":440257562.9074613,\"tvl_ratio\":null,\"last_updated\":\"2023-03-14T01:20:00.000Z\",\"quote\":{\"USD\":{\"price\":39.74566128895618,\"volume_24h\":102823488.48580712,\"volume_change_24h\":62.3383,\"percent_change_1h\":-0.01725405,\"percent_change_24h\":8.14175219,\"percent_change_7d\":2.15185183,\"percent_change_30d\":32.0532501,\"percent_change_60d\":182.10848049,\"percent_change_90d\":229.64932482,\"market_cap\":397456612.8895618,\"market_cap_dominance\":0.037,\"fully_diluted_market_cap\":437713840.58,\"tvl\":null,\"last_updated\":\"2023-03-14T01:20:00.000Z\"}}},{\"id\":9891,\"name\":\"BinaryX (old)\",\"symbol\":\"BNX\",\"slug\":\"binaryx\",\"num_market_pairs\":89,\"date_added\":\"2021-05-18T00:00:00.000Z\",\"tags\":[\"mvb\",\"bnb-chain\"],\"max_supply\":21000000,\"circulating_supply\":4847947.47157053,\"total_supply\":6214825.31852449,\"platform\":{\"id\":1839,\"name\":\"BNB\",\"symbol\":\"BNB\",\"slug\":\"bnb\",\"token_address\":\"0x8C851d1a123Ff703BD1f9dabe631b69902Df5f97\"},\"cmc_rank\":97,\"self_reported_circulating_supply\":null,\"self_reported_market_cap\":null,\"tvl_ratio\":null,\"last_updated\":\"2023-03-14T01:20:00.000Z\",\"quote\":{\"USD\":{\"price\":81.93622111305763,\"volume_24h\":230751.83713753,\"volume_change_24h\":-51.4294,\"percent_change_1h\":0.02387826,\"percent_change_24h\":5.57084641,\"percent_change_7d\":-18.15344712,\"percent_change_30d\":-35.6634107,\"percent_change_60d\":13.0284475,\"percent_change_90d\":42.0786162,\"market_cap\":397222495.9750916,\"market_cap_dominance\":0.037,\"fully_diluted_market_cap\":1720660643.37,\"tvl\":null,\"last_updated\":\"2023-03-14T01:20:00.000Z\"}}},{\"id\":11156,\"name\":\"dYdX\",\"symbol\":\"DYDX\",\"slug\":\"dydx\",\"num_market_pairs\":216,\"date_added\":\"2021-08-03T00:00:00.000Z\",\"tags\":[\"defi\",\"derivatives\",\"zero-knowledge-proofs\",\"three-arrows-capital-portfolio\",\"paradigm-portfolio\",\"spartan-group\"],\"max_supply\":1000000000,\"circulating_supply\":156256174,\"total_supply\":1000000000,\"platform\":{\"id\":1027,\"name\":\"Ethereum\",\"symbol\":\"ETH\",\"slug\":\"ethereum\",\"token_address\":\"0x92d6c1e31e14520e676a687f0a93788b716beff5\"},\"cmc_rank\":98,\"self_reported_circulating_supply\":null,\"self_reported_market_cap\":null,\"tvl_ratio\":null,\"last_updated\":\"2023-03-14T01:20:00.000Z\",\"quote\":{\"USD\":{\"price\":2.3889065734330335,\"volume_24h\":198560304.630318,\"volume_change_24h\":23.1842,\"percent_change_1h\":-0.10635993,\"percent_change_24h\":6.00754155,\"percent_change_7d\":-2.77215454,\"percent_change_30d\":-8.56420599,\"percent_change_60d\":69.69626369,\"percent_change_90d\":41.95767231,\"market_cap\":373281401.20809585,\"market_cap_dominance\":0.0347,\"fully_diluted_market_cap\":2388906573.43,\"tvl\":null,\"last_updated\":\"2023-03-14T01:20:00.000Z\"}}},{\"id\":21296,\"name\":\"EthereumPoW\",\"symbol\":\"ETHW\",\"slug\":\"ethereum-pow\",\"num_market_pairs\":76,\"date_added\":\"2022-08-08T05:19:50.000Z\",\"tags\":[\"pow\"],\"max_supply\":null,\"circulating_supply\":107818999.04993,\"total_supply\":107818999.04993,\"platform\":null,\"cmc_rank\":99,\"self_reported_circulating_supply\":null,\"self_reported_market_cap\":null,\"tvl_ratio\":null,\"last_updated\":\"2023-03-14T01:20:00.000Z\",\"quote\":{\"USD\":{\"price\":3.427726909642368,\"volume_24h\":17212630.4903259,\"volume_change_24h\":68.1232,\"percent_change_1h\":0.31439539,\"percent_change_24h\":0.62091887,\"percent_change_7d\":-2.58315197,\"percent_change_30d\":-8.45685078,\"percent_change_60d\":-0.99199363,\"percent_change_90d\":-5.70403823,\"market_cap\":369574084.41415,\"market_cap_dominance\":0.0344,\"fully_diluted_market_cap\":369574084.41,\"tvl\":null,\"last_updated\":\"2023-03-14T01:20:00.000Z\"}}},{\"id\":1697,\"name\":\"Basic Attention Token\",\"symbol\":\"BAT\",\"slug\":\"basic-attention-token\",\"num_market_pairs\":367,\"date_added\":\"2017-06-01T00:00:00.000Z\",\"tags\":[\"marketing\",\"content-creation\",\"defi\",\"payments\",\"dcg-portfolio\",\"1confirmation-portfolio\",\"pantera-capital-portfolio\",\"web3\",\"bnb-chain\"],\"max_supply\":1500000000,\"circulating_supply\":1499960320.4163349,\"total_supply\":1500000000,\"platform\":{\"id\":1027,\"name\":\"Ethereum\",\"symbol\":\"ETH\",\"slug\":\"ethereum\",\"token_address\":\"0x0d8775f648430679a709e98d2b0cb6250d2887ef\"},\"cmc_rank\":100,\"self_reported_circulating_supply\":null,\"self_reported_market_cap\":null,\"tvl_ratio\":null,\"last_updated\":\"2023-03-14T01:20:00.000Z\",\"quote\":{\"USD\":{\"price\":0.23857328398046482,\"volume_24h\":46070428.31671391,\"volume_change_24h\":74.3187,\"percent_change_1h\":-0.39894816,\"percent_change_24h\":3.40865823,\"percent_change_7d\":-8.58681425,\"percent_change_30d\":-11.48496728,\"percent_change_60d\":17.19735438,\"percent_change_90d\":4.7115547,\"market_cap\":357850459.48211527,\"market_cap_dominance\":0.0333,\"fully_diluted_market_cap\":357859925.97,\"tvl\":null,\"last_updated\":\"2023-03-14T01:20:00.000Z\"}}}]}\n"
          ]
        }
      ]
    },
    {
      "cell_type": "code",
      "source": [
        "# Seleccionar los datos de interés\n",
        "datos = data['data']\n",
        "monedas = []\n",
        "for moneda in datos:\n",
        "    monedas.append({\n",
        "        'Nombre': moneda['name'],\n",
        "        'Símbolo': moneda['symbol'],\n",
        "        'Precio USD': moneda['quote']['USD']['price'],\n",
        "        'Capitalización de mercado': moneda['quote']['USD']['market_cap'],\n",
        "        'Volumen 24h': moneda['quote']['USD']['volume_24h']\n",
        "    })\n",
        "\n",
        "# Almacenar los datos en un DataFrame\n",
        "df = pd.DataFrame(monedas)\n",
        "print(df)"
      ],
      "metadata": {
        "colab": {
          "base_uri": "https://localhost:8080/"
        },
        "id": "XAmRDsIStqoq",
        "outputId": "1f1f5bce-83c1-45ba-f3bf-0b5e39a94964"
      },
      "execution_count": null,
      "outputs": [
        {
          "output_type": "stream",
          "name": "stdout",
          "text": [
            "                   Nombre Símbolo    Precio USD  Capitalización de mercado  \\\n",
            "0                 Bitcoin     BTC  24283.590950               4.690825e+11   \n",
            "1                Ethereum     ETH   1674.708103               2.049405e+11   \n",
            "2                  Tether    USDT      1.004082               7.319710e+10   \n",
            "3                     BNB     BNB    307.701114               4.858367e+10   \n",
            "4                USD Coin    USDC      0.999043               3.947197e+10   \n",
            "..                    ...     ...           ...                        ...   \n",
            "95            ssv.network     SSV     39.745661               3.974566e+08   \n",
            "96          BinaryX (old)     BNX     81.936221               3.972225e+08   \n",
            "97                   dYdX    DYDX      2.388907               3.732814e+08   \n",
            "98            EthereumPoW    ETHW      3.427727               3.695741e+08   \n",
            "99  Basic Attention Token     BAT      0.238573               3.578505e+08   \n",
            "\n",
            "     Volumen 24h  \n",
            "0   4.736731e+10  \n",
            "1   1.483856e+10  \n",
            "2   6.884065e+10  \n",
            "3   1.094406e+09  \n",
            "4   8.606554e+09  \n",
            "..           ...  \n",
            "95  1.028235e+08  \n",
            "96  2.307518e+05  \n",
            "97  1.985603e+08  \n",
            "98  1.721263e+07  \n",
            "99  4.607043e+07  \n",
            "\n",
            "[100 rows x 5 columns]\n"
          ]
        }
      ]
    },
    {
      "cell_type": "code",
      "source": [
        "# Seleccionar solo las primeras 10 filas\n",
        "df = df.head(10)\n",
        "\n",
        "# Crear el gráfico\n",
        "plt.bar(df['Nombre'], df['Capitalización de mercado'])\n",
        "plt.xticks(rotation=90)\n",
        "plt.show()"
      ],
      "metadata": {
        "colab": {
          "base_uri": "https://localhost:8080/",
          "height": 331
        },
        "id": "ziIYAL_qtu-w",
        "outputId": "a75cc8ab-0ea0-4973-8353-b8061b241787"
      },
      "execution_count": null,
      "outputs": [
        {
          "output_type": "display_data",
          "data": {
            "text/plain": [
              "<Figure size 432x288 with 1 Axes>"
            ],
            "image/png": "[encoded data removed]"
          },
          "metadata": {
            "needs_background": "light"
          }
        }
      ]
    },
    {
      "cell_type": "markdown",
      "source": [
        "2-La variación porcentual del precio de una criptomoneda en las últimas 24 horas La variación porcentual del precio de una criptomoneda en las últimas 24 horas es el cambio porcentual en el precio de la criptomoneda durante las últimas 24 horas. Este cálculo se realiza comparando el precio actual de la criptomoneda con el precio de hace 24 horas. Por lo tanto, la variación porcentual del precio es una medida de la tasa de crecimiento o caída del precio de la criptomoneda en un período de 24 horas."
      ],
      "metadata": {
        "id": "MXeZsNMutyUP"
      }
    },
    {
      "cell_type": "code",
      "source": [
        "# Configurar los parámetros de la solicitud\n",
        "url = 'https://pro-api.coinmarketcap.com/v1/cryptocurrency/quotes/latest'\n",
        "headers = {\n",
        "    'Accepts': 'application/json',\n",
        "    'X-CMC_PRO_API_KEY': '7b29bcd5-778c-4d90-8887-40eea96042b2'\n",
        "}\n",
        "params = {\n",
        "    'id': '1',  # ID de Bitcoin en CoinMarketCap\n",
        "    'convert': 'USD'  # Convertir a USD\n",
        "}\n",
        "\n",
        "# Hacer la solicitud\n",
        "response = requests.get(url, headers=headers, params=params)\n",
        "\n",
        "# Extraer la variación porcentual del precio en las últimas 24 horas\n",
        "data = response.json()\n",
        "percent_change_24h = data['data']['1']['quote']['USD']['percent_change_24h']\n",
        "\n",
        "# Imprimir el resultado\n",
        "print(f\"Variación porcentual del precio de Bitcoin en las últimas 24 horas: {percent_change_24h}%\")"
      ],
      "metadata": {
        "colab": {
          "base_uri": "https://localhost:8080/"
        },
        "id": "_Df177Mvtyl9",
        "outputId": "81bbf0f2-6753-47bf-908e-55765506cfc1"
      },
      "execution_count": null,
      "outputs": [
        {
          "output_type": "stream",
          "name": "stdout",
          "text": [
            "Variación porcentual del precio de Bitcoin en las últimas 24 horas: 7.81041945%\n"
          ]
        }
      ]
    },
    {
      "cell_type": "markdown",
      "source": [
        "Como investigacion, podriamos solicitar la variacion del precio del bitcoin en un bucle que se repita una vez por hora para almacenar esa informacion y representarla en un cuadro"
      ],
      "metadata": {
        "id": "VKPKjJSJt3-H"
      }
    },
    {
      "cell_type": "code",
      "source": [
        "# Configurar los parámetros de la solicitud\n",
        "url = 'https://pro-api.coinmarketcap.com/v1/cryptocurrency/quotes/latest'\n",
        "headers = {\n",
        "    'Accepts': 'application/json',\n",
        "    'X-CMC_PRO_API_KEY': '7b29bcd5-778c-4d90-8887-40eea96042b2'\n",
        "}\n",
        "params = {\n",
        "    'id': '1',  # ID de Bitcoin en CoinMarketCap\n",
        "    'convert': 'USD'  # Convertir a USD\n",
        "}\n",
        "\n",
        "# Almacenar los datos de variación porcentual en una lista\n",
        "percent_changes = []\n",
        "\n",
        "# Realizar una solicitud cada hora durante 24 horas\n",
        "for i in range(24):\n",
        "    # Hacer la solicitud\n",
        "    response = requests.get(url, headers=headers, params=params)\n",
        "    \n",
        "    # Extraer la variación porcentual del precio en las últimas 24 horas\n",
        "    data = response.json()\n",
        "    percent_change_24h = data['data']['1']['quote']['USD']['percent_change_24h']\n",
        "    \n",
        "    # Agregar la variación porcentual a la lista\n",
        "    percent_changes.append(percent_change_24h)\n",
        "    \n",
        "    # Esperar una hora antes de hacer la siguiente solicitud\n",
        "    time.sleep(3600)\n",
        "\n",
        "# Crear un gráfico de la evolución de la variación porcentual a lo largo del tiempo\n",
        "sns.lineplot(x=range(24), y=percent_changes)\n",
        "plt.xlabel('Hora')\n",
        "plt.ylabel('Variación porcentual del precio de Bitcoin en las últimas 24 horas')\n",
        "plt.show()\n"
      ],
      "metadata": {
        "id": "Wo3bV3Htt4OA"
      },
      "execution_count": null,
      "outputs": []
    },
    {
      "cell_type": "markdown",
      "source": [
        "Este codigo no esta probado porque su ejecucion requiere 24 horas en completarse. Se envia la request para obtener el valor de la criptomoneda cada una hora. "
      ],
      "metadata": {
        "id": "O8T9LaGsy6Ew"
      }
    },
    {
      "cell_type": "markdown",
      "source": [
        "3-El volumen de operaciones de una criptomoneda en las últimas 24 horas\n",
        "El volumen de operaciones de una criptomoneda es la cantidad total de la criptomoneda que ha sido comprada y vendida durante un período de tiempo determinado. El volumen de operaciones en las últimas 24 horas es la cantidad total de la criptomoneda que ha sido comprada y vendida durante las últimas 24 horas. El volumen de operaciones es una medida de la actividad comercial de la criptomoneda y puede indicar la liquidez de la criptomoneda."
      ],
      "metadata": {
        "id": "CvsWmZt_uEBj"
      }
    },
    {
      "cell_type": "code",
      "source": [
        "#Volumen de operaciones de una criptomoneda en las últimas 24 horas:\n",
        "\n",
        "# Configurar los parámetros de la solicitud\n",
        "url = 'https://pro-api.coinmarketcap.com/v1/cryptocurrency/quotes/latest'\n",
        "headers = {\n",
        "    'Accepts': 'application/json',\n",
        "    'X-CMC_PRO_API_KEY': '7b29bcd5-778c-4d90-8887-40eea96042b2'\n",
        "}\n",
        "params = {\n",
        "    'id': '1',  # ID de Bitcoin en CoinMarketCap\n",
        "    'convert': 'USD'  # Convertir a USD\n",
        "}\n",
        "\n",
        "# Hacer la solicitud\n",
        "response = requests.get(url, headers=headers, params=params)\n",
        "\n",
        "# Extraer el volumen de operaciones en las últimas 24 horas\n",
        "data = response.json()\n",
        "volume_24h = data['data']['1']['quote']['USD']['volume_24h']\n",
        "\n",
        "print(f\"Bitcoin volumen 24h: {volume_24h} USD\")"
      ],
      "metadata": {
        "colab": {
          "base_uri": "https://localhost:8080/"
        },
        "id": "1KdW7_yIuEWv",
        "outputId": "1949246e-c7a5-49cd-e92d-d387dea1f60a"
      },
      "execution_count": null,
      "outputs": [
        {
          "output_type": "stream",
          "name": "stdout",
          "text": [
            "Bitcoin volumen 24h: 47351634331.485985 USD\n"
          ]
        }
      ]
    },
    {
      "cell_type": "markdown",
      "source": [
        "4-La capitalización de mercado de una criptomoneda\n",
        "La capitalización de mercado de una criptomoneda es el valor total de la criptomoneda en el mercado. Se calcula multiplicando el precio actual de la criptomoneda por la cantidad total de monedas en circulación. La capitalización de mercado es una medida del tamaño de la criptomoneda en el mercado."
      ],
      "metadata": {
        "id": "DuBHlGqWuJqz"
      }
    },
    {
      "cell_type": "code",
      "source": [
        "#Capitalización de mercado de una criptomoneda:\n",
        "\n",
        "\n",
        "# Configurar los parámetros de la solicitud\n",
        "url = 'https://pro-api.coinmarketcap.com/v1/cryptocurrency/quotes/latest'\n",
        "headers = {\n",
        "    'Accepts': 'application/json',\n",
        "    'X-CMC_PRO_API_KEY': '7b29bcd5-778c-4d90-8887-40eea96042b2'\n",
        "}\n",
        "params = {\n",
        "    'id': '1',  # ID de Bitcoin en CoinMarketCap\n",
        "    'convert': 'USD'  # Convertir a USD\n",
        "}\n",
        "\n",
        "# Hacer la solicitud\n",
        "response = requests.get(url, headers=headers, params=params)\n",
        "\n",
        "# Extraer la capitalización de mercado\n",
        "data = response.json()\n",
        "market_cap = data['data']['1']['quote']['USD']['market_cap']\n",
        "\n",
        "print(f\"Bitcoin capitalización de mercado: {market_cap} USD\")"
      ],
      "metadata": {
        "colab": {
          "base_uri": "https://localhost:8080/"
        },
        "id": "bVRhQDtAuJ5B",
        "outputId": "c67b4dfe-3906-4016-ec46-2723df7a92cb"
      },
      "execution_count": null,
      "outputs": [
        {
          "output_type": "stream",
          "name": "stdout",
          "text": [
            "Bitcoin capitalización de mercado: 470257569962.25543 USD\n"
          ]
        }
      ]
    },
    {
      "cell_type": "markdown",
      "source": [
        "5-La lista de las criptomonedas más populares en el momento\n",
        "La popularidad de una criptomoneda puede medirse por varios factores, como la capitalización de mercado, el volumen de operaciones y la variación porcentual del precio. La lista de las criptomonedas más populares en un momento dado se puede obtener mediante el análisis de estos factores y la comparación de las diferentes criptomonedas. Esta lista puede cambiar con el tiempo a medida que cambian las condiciones del mercado."
      ],
      "metadata": {
        "id": "u4TTrupjuNqV"
      }
    },
    {
      "cell_type": "code",
      "source": [
        "#las criptomonedas mas populares\n",
        "\n",
        "\n",
        "# Configurar los parámetros de la solicitud\n",
        "url = 'https://pro-api.coinmarketcap.com/v1/cryptocurrency/listings/latest'\n",
        "headers = {\n",
        "    'Accepts': 'application/json',\n",
        "    'X-CMC_PRO_API_KEY': '7b29bcd5-778c-4d90-8887-40eea96042b2'\n",
        "}\n",
        "params = {\n",
        "    'start': '1',  # Primer resultado\n",
        "    'limit': '20',  # Obtener 20 resultados\n",
        "    'convert': 'USD',  # Convertir a USD\n",
        "    'sort': 'market_cap',  # Ordenar por capitalización de mercado\n",
        "    'sort_dir': 'desc'  # Orden descendente\n",
        "}\n",
        "\n",
        "# Hacer la solicitud\n",
        "response = requests.get(url, headers=headers, params=params)\n",
        "\n",
        "# Extraer la lista de criptomonedas\n",
        "data = response.json()\n",
        "cryptocurrencies = data['data']\n",
        "\n",
        "# Imprimir la lista de criptomonedas\n",
        "for currency in cryptocurrencies:\n",
        "    name = currency['name']\n",
        "    symbol = currency['symbol']\n",
        "    market_cap = currency['quote']['USD']['market_cap']\n",
        "    print(f\"{name} ({symbol}): {market_cap} USD\")"
      ],
      "metadata": {
        "id": "OFZo9a0huN_r",
        "outputId": "6f634c69-29f3-4e63-fb5a-da7946c1e863",
        "colab": {
          "base_uri": "https://localhost:8080/"
        }
      },
      "execution_count": null,
      "outputs": [
        {
          "output_type": "stream",
          "name": "stdout",
          "text": [
            "Bitcoin (BTC): 469929264099.40546 USD\n",
            "Ethereum (ETH): 205146194167.6364 USD\n",
            "Tether (USDT): 73205067274.0469 USD\n",
            "BNB (BNB): 48607968597.630165 USD\n",
            "USD Coin (USDC): 39476532747.955 USD\n",
            "XRP (XRP): 18939390613.43763 USD\n",
            "Cardano (ADA): 11953369967.89878 USD\n",
            "Polygon (MATIC): 10383126271.4822 USD\n",
            "Dogecoin (DOGE): 9646034910.307154 USD\n",
            "Binance USD (BUSD): 8384974034.719476 USD\n",
            "Solana (SOL): 7801974720.845319 USD\n",
            "Polkadot (DOT): 7123542043.25935 USD\n",
            "Dai (DAI): 6466296954.905244 USD\n",
            "TRON (TRX): 6126886178.424284 USD\n",
            "Shiba Inu (SHIB): 6081602379.09 USD\n",
            "Litecoin (LTC): 5879142285.588808 USD\n",
            "Avalanche (AVAX): 5371628254.5373535 USD\n",
            "Uniswap (UNI): 4654262371.561423 USD\n",
            "Wrapped Bitcoin (WBTC): 3710847716.3354177 USD\n",
            "Chainlink (LINK): 3491149904.213916 USD\n"
          ]
        }
      ]
    }
  ]
}